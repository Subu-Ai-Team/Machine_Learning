{
 "cells": [
  {
   "cell_type": "code",
   "execution_count": 1,
   "id": "7e991fea",
   "metadata": {
    "executionInfo": {
     "elapsed": 26,
     "status": "ok",
     "timestamp": 1657803413661,
     "user": {
      "displayName": "Yusuf Yağcı",
      "userId": "03986848679462977600"
     },
     "user_tz": -180
    },
    "id": "7e991fea"
   },
   "outputs": [],
   "source": [
    "import numpy as np\n",
    "import pandas as pd\n",
    "import seaborn as sns\n",
    "import matplotlib.pyplot as plt"
   ]
  },
  {
   "cell_type": "markdown",
   "id": "1341d4df",
   "metadata": {},
   "source": [
    "# Kural Tabanlı Sınıflandırma (Segmentasyon) Nedir?"
   ]
  },
  {
   "cell_type": "markdown",
   "id": "25492d14",
   "metadata": {},
   "source": [
    "Segmentasyon, markaların veya firmaların ilgili olduğu pazarı bölümlere ayırarak bu bölümlerden seçilen küçük pazara yönelik strateji oluşturmayı hedefleyen yönteme denmektedir. Öncelikle hedef müşteri kitlesini belirleyen şirketler, daha sonra segmentasyon yani bölümleme yaparlar.\n",
    "\n"
   ]
  },
  {
   "cell_type": "markdown",
   "id": "9e8a05b6",
   "metadata": {},
   "source": [
    "Bu yöntem oldukça kolay anlaşılabilen ve hedef odaklı bir pazarlama çalışmasının ortaya konulmasını sağlamaktadır. Segmentasyon, seçilen alt pazarın hedef kitlesinin ihtiyaç, istek ve arzularına yönelik pazarlama stratejilerini üretmek için kullanılmaktadır."
   ]
  },
  {
   "cell_type": "markdown",
   "id": "76f6ab69",
   "metadata": {
    "id": "76f6ab69"
   },
   "source": [
    "# Kural Tabanlı Sınıflandırma ile Potansiyel Müşteri Getirisi Hesaplama\n"
   ]
  },
  {
   "cell_type": "markdown",
   "id": "ae43766d",
   "metadata": {
    "id": "ae43766d"
   },
   "source": [
    "Değişkenler\n",
    "SOURCE – Müşterinin bağlandığı cihaz türü\n",
    "SEX – Müşterinin cinsiyeti\n",
    "COUNTRY – Müşterinin ülkesi\n",
    "AGE – Müşterinin yaşı"
   ]
  },
  {
   "cell_type": "markdown",
   "id": "5da030b0",
   "metadata": {
    "id": "5da030b0"
   },
   "source": [
    "# Görev 1:"
   ]
  },
  {
   "cell_type": "markdown",
   "id": "0c3139d5",
   "metadata": {
    "id": "0c3139d5"
   },
   "source": [
    "Soru 1: persona.csv dosyasını okutunuz ve veri seti ile ilgili genel bilgileri gösteriniz."
   ]
  },
  {
   "cell_type": "code",
   "execution_count": 2,
   "id": "26fc7b60",
   "metadata": {
    "colab": {
     "base_uri": "https://localhost:8080/",
     "height": 345
    },
    "executionInfo": {
     "elapsed": 483,
     "status": "error",
     "timestamp": 1657803652042,
     "user": {
      "displayName": "Yusuf Yağcı",
      "userId": "03986848679462977600"
     },
     "user_tz": -180
    },
    "id": "26fc7b60",
    "outputId": "d7190d85-8db9-4a57-a9f0-c1a9592cbf1f"
   },
   "outputs": [
    {
     "data": {
      "text/html": [
       "<div>\n",
       "<style scoped>\n",
       "    .dataframe tbody tr th:only-of-type {\n",
       "        vertical-align: middle;\n",
       "    }\n",
       "\n",
       "    .dataframe tbody tr th {\n",
       "        vertical-align: top;\n",
       "    }\n",
       "\n",
       "    .dataframe thead th {\n",
       "        text-align: right;\n",
       "    }\n",
       "</style>\n",
       "<table border=\"1\" class=\"dataframe\">\n",
       "  <thead>\n",
       "    <tr style=\"text-align: right;\">\n",
       "      <th></th>\n",
       "      <th>PRICE</th>\n",
       "      <th>SOURCE</th>\n",
       "      <th>SEX</th>\n",
       "      <th>COUNTRY</th>\n",
       "      <th>AGE</th>\n",
       "    </tr>\n",
       "  </thead>\n",
       "  <tbody>\n",
       "    <tr>\n",
       "      <th>0</th>\n",
       "      <td>39</td>\n",
       "      <td>android</td>\n",
       "      <td>male</td>\n",
       "      <td>bra</td>\n",
       "      <td>17</td>\n",
       "    </tr>\n",
       "    <tr>\n",
       "      <th>1</th>\n",
       "      <td>39</td>\n",
       "      <td>android</td>\n",
       "      <td>male</td>\n",
       "      <td>bra</td>\n",
       "      <td>17</td>\n",
       "    </tr>\n",
       "    <tr>\n",
       "      <th>2</th>\n",
       "      <td>49</td>\n",
       "      <td>android</td>\n",
       "      <td>male</td>\n",
       "      <td>bra</td>\n",
       "      <td>17</td>\n",
       "    </tr>\n",
       "    <tr>\n",
       "      <th>3</th>\n",
       "      <td>29</td>\n",
       "      <td>android</td>\n",
       "      <td>male</td>\n",
       "      <td>tur</td>\n",
       "      <td>17</td>\n",
       "    </tr>\n",
       "    <tr>\n",
       "      <th>4</th>\n",
       "      <td>49</td>\n",
       "      <td>android</td>\n",
       "      <td>male</td>\n",
       "      <td>tur</td>\n",
       "      <td>17</td>\n",
       "    </tr>\n",
       "    <tr>\n",
       "      <th>...</th>\n",
       "      <td>...</td>\n",
       "      <td>...</td>\n",
       "      <td>...</td>\n",
       "      <td>...</td>\n",
       "      <td>...</td>\n",
       "    </tr>\n",
       "    <tr>\n",
       "      <th>4995</th>\n",
       "      <td>29</td>\n",
       "      <td>android</td>\n",
       "      <td>female</td>\n",
       "      <td>bra</td>\n",
       "      <td>31</td>\n",
       "    </tr>\n",
       "    <tr>\n",
       "      <th>4996</th>\n",
       "      <td>29</td>\n",
       "      <td>android</td>\n",
       "      <td>female</td>\n",
       "      <td>bra</td>\n",
       "      <td>31</td>\n",
       "    </tr>\n",
       "    <tr>\n",
       "      <th>4997</th>\n",
       "      <td>29</td>\n",
       "      <td>android</td>\n",
       "      <td>female</td>\n",
       "      <td>bra</td>\n",
       "      <td>31</td>\n",
       "    </tr>\n",
       "    <tr>\n",
       "      <th>4998</th>\n",
       "      <td>39</td>\n",
       "      <td>android</td>\n",
       "      <td>female</td>\n",
       "      <td>bra</td>\n",
       "      <td>31</td>\n",
       "    </tr>\n",
       "    <tr>\n",
       "      <th>4999</th>\n",
       "      <td>29</td>\n",
       "      <td>android</td>\n",
       "      <td>female</td>\n",
       "      <td>bra</td>\n",
       "      <td>31</td>\n",
       "    </tr>\n",
       "  </tbody>\n",
       "</table>\n",
       "<p>5000 rows × 5 columns</p>\n",
       "</div>"
      ],
      "text/plain": [
       "      PRICE   SOURCE     SEX COUNTRY  AGE\n",
       "0        39  android    male     bra   17\n",
       "1        39  android    male     bra   17\n",
       "2        49  android    male     bra   17\n",
       "3        29  android    male     tur   17\n",
       "4        49  android    male     tur   17\n",
       "...     ...      ...     ...     ...  ...\n",
       "4995     29  android  female     bra   31\n",
       "4996     29  android  female     bra   31\n",
       "4997     29  android  female     bra   31\n",
       "4998     39  android  female     bra   31\n",
       "4999     29  android  female     bra   31\n",
       "\n",
       "[5000 rows x 5 columns]"
      ]
     },
     "execution_count": 2,
     "metadata": {},
     "output_type": "execute_result"
    }
   ],
   "source": [
    "import pandas as pd\n",
    "df=pd.read_csv(\"persona.csv\")\n",
    "df"
   ]
  },
  {
   "cell_type": "code",
   "execution_count": 3,
   "id": "092c0ca5",
   "metadata": {
    "executionInfo": {
     "elapsed": 1524,
     "status": "aborted",
     "timestamp": 1657803415167,
     "user": {
      "displayName": "Yusuf Yağcı",
      "userId": "03986848679462977600"
     },
     "user_tz": -180
    },
    "id": "092c0ca5"
   },
   "outputs": [
    {
     "data": {
      "text/plain": [
       "(5000, 5)"
      ]
     },
     "execution_count": 3,
     "metadata": {},
     "output_type": "execute_result"
    }
   ],
   "source": [
    "df.shape"
   ]
  },
  {
   "cell_type": "code",
   "execution_count": 4,
   "id": "ffa250be",
   "metadata": {
    "executionInfo": {
     "elapsed": 1524,
     "status": "aborted",
     "timestamp": 1657803415168,
     "user": {
      "displayName": "Yusuf Yağcı",
      "userId": "03986848679462977600"
     },
     "user_tz": -180
    },
    "id": "ffa250be"
   },
   "outputs": [
    {
     "name": "stdout",
     "output_type": "stream",
     "text": [
      "<class 'pandas.core.frame.DataFrame'>\n",
      "Int64Index: 5000 entries, 0 to 4999\n",
      "Data columns (total 5 columns):\n",
      " #   Column   Non-Null Count  Dtype \n",
      "---  ------   --------------  ----- \n",
      " 0   PRICE    5000 non-null   int64 \n",
      " 1   SOURCE   5000 non-null   object\n",
      " 2   SEX      5000 non-null   object\n",
      " 3   COUNTRY  5000 non-null   object\n",
      " 4   AGE      5000 non-null   int64 \n",
      "dtypes: int64(2), object(3)\n",
      "memory usage: 234.4+ KB\n"
     ]
    }
   ],
   "source": [
    "df.info()"
   ]
  },
  {
   "cell_type": "markdown",
   "id": "0e2adc76",
   "metadata": {
    "id": "0e2adc76"
   },
   "source": [
    "Soru 2: Kaç unique SOURCE vardır? Frekansları nedir?"
   ]
  },
  {
   "cell_type": "code",
   "execution_count": 5,
   "id": "b1790bf9",
   "metadata": {
    "executionInfo": {
     "elapsed": 1525,
     "status": "aborted",
     "timestamp": 1657803415169,
     "user": {
      "displayName": "Yusuf Yağcı",
      "userId": "03986848679462977600"
     },
     "user_tz": -180
    },
    "id": "b1790bf9"
   },
   "outputs": [
    {
     "data": {
      "text/plain": [
       "array([2974, 2026], dtype=int64)"
      ]
     },
     "execution_count": 5,
     "metadata": {},
     "output_type": "execute_result"
    }
   ],
   "source": [
    "df[\"SOURCE\"].value_counts().unique()"
   ]
  },
  {
   "cell_type": "code",
   "execution_count": 6,
   "id": "951b9325",
   "metadata": {
    "executionInfo": {
     "elapsed": 1525,
     "status": "aborted",
     "timestamp": 1657803415170,
     "user": {
      "displayName": "Yusuf Yağcı",
      "userId": "03986848679462977600"
     },
     "user_tz": -180
    },
    "id": "951b9325"
   },
   "outputs": [
    {
     "data": {
      "text/plain": [
       "android    2974\n",
       "ios        2026\n",
       "Name: SOURCE, dtype: int64"
      ]
     },
     "execution_count": 6,
     "metadata": {},
     "output_type": "execute_result"
    }
   ],
   "source": [
    "df[\"SOURCE\"].value_counts() #Hangi kategorinin ne kadar eleman içerdiği bilgisi bize frekansı verir."
   ]
  },
  {
   "cell_type": "code",
   "execution_count": 7,
   "id": "653bbd90",
   "metadata": {
    "executionInfo": {
     "elapsed": 1526,
     "status": "aborted",
     "timestamp": 1657803415171,
     "user": {
      "displayName": "Yusuf Yağcı",
      "userId": "03986848679462977600"
     },
     "user_tz": -180
    },
    "id": "653bbd90"
   },
   "outputs": [
    {
     "data": {
      "text/html": [
       "<div>\n",
       "<style scoped>\n",
       "    .dataframe tbody tr th:only-of-type {\n",
       "        vertical-align: middle;\n",
       "    }\n",
       "\n",
       "    .dataframe tbody tr th {\n",
       "        vertical-align: top;\n",
       "    }\n",
       "\n",
       "    .dataframe thead th {\n",
       "        text-align: right;\n",
       "    }\n",
       "</style>\n",
       "<table border=\"1\" class=\"dataframe\">\n",
       "  <thead>\n",
       "    <tr style=\"text-align: right;\">\n",
       "      <th></th>\n",
       "      <th>count</th>\n",
       "      <th>mean</th>\n",
       "      <th>std</th>\n",
       "      <th>min</th>\n",
       "      <th>25%</th>\n",
       "      <th>50%</th>\n",
       "      <th>75%</th>\n",
       "      <th>max</th>\n",
       "    </tr>\n",
       "  </thead>\n",
       "  <tbody>\n",
       "    <tr>\n",
       "      <th>PRICE</th>\n",
       "      <td>5000.0</td>\n",
       "      <td>34.1320</td>\n",
       "      <td>12.464897</td>\n",
       "      <td>9.0</td>\n",
       "      <td>29.0</td>\n",
       "      <td>39.0</td>\n",
       "      <td>39.0</td>\n",
       "      <td>59.0</td>\n",
       "    </tr>\n",
       "    <tr>\n",
       "      <th>AGE</th>\n",
       "      <td>5000.0</td>\n",
       "      <td>23.5814</td>\n",
       "      <td>8.995908</td>\n",
       "      <td>15.0</td>\n",
       "      <td>17.0</td>\n",
       "      <td>21.0</td>\n",
       "      <td>27.0</td>\n",
       "      <td>66.0</td>\n",
       "    </tr>\n",
       "  </tbody>\n",
       "</table>\n",
       "</div>"
      ],
      "text/plain": [
       "        count     mean        std   min   25%   50%   75%   max\n",
       "PRICE  5000.0  34.1320  12.464897   9.0  29.0  39.0  39.0  59.0\n",
       "AGE    5000.0  23.5814   8.995908  15.0  17.0  21.0  27.0  66.0"
      ]
     },
     "execution_count": 7,
     "metadata": {},
     "output_type": "execute_result"
    }
   ],
   "source": [
    "df.describe().T"
   ]
  },
  {
   "cell_type": "markdown",
   "id": "7a3f8843",
   "metadata": {
    "id": "7a3f8843"
   },
   "source": [
    "Soru 3: Kaç unique PRICE vardır?"
   ]
  },
  {
   "cell_type": "code",
   "execution_count": 8,
   "id": "33fe1ad6",
   "metadata": {
    "executionInfo": {
     "elapsed": 1527,
     "status": "aborted",
     "timestamp": 1657803415172,
     "user": {
      "displayName": "Yusuf Yağcı",
      "userId": "03986848679462977600"
     },
     "user_tz": -180
    },
    "id": "33fe1ad6"
   },
   "outputs": [
    {
     "data": {
      "text/plain": [
       "array([1305, 1260, 1031,  992,  212,  200], dtype=int64)"
      ]
     },
     "execution_count": 8,
     "metadata": {},
     "output_type": "execute_result"
    }
   ],
   "source": [
    "df[\"PRICE\"].value_counts().unique()"
   ]
  },
  {
   "cell_type": "markdown",
   "id": "7128fc2e",
   "metadata": {
    "id": "7128fc2e"
   },
   "source": [
    "Soru 4: Hangi PRICE'dan kaçar tane satış gerçekleşmiş?"
   ]
  },
  {
   "cell_type": "code",
   "execution_count": 9,
   "id": "8f721810",
   "metadata": {
    "executionInfo": {
     "elapsed": 1528,
     "status": "aborted",
     "timestamp": 1657803415173,
     "user": {
      "displayName": "Yusuf Yağcı",
      "userId": "03986848679462977600"
     },
     "user_tz": -180
    },
    "id": "8f721810"
   },
   "outputs": [
    {
     "data": {
      "text/plain": [
       "29    1305\n",
       "39    1260\n",
       "49    1031\n",
       "19     992\n",
       "59     212\n",
       "9      200\n",
       "Name: PRICE, dtype: int64"
      ]
     },
     "execution_count": 9,
     "metadata": {},
     "output_type": "execute_result"
    }
   ],
   "source": [
    "df[\"PRICE\"].value_counts()"
   ]
  },
  {
   "cell_type": "code",
   "execution_count": 10,
   "id": "1547d43f",
   "metadata": {
    "executionInfo": {
     "elapsed": 1529,
     "status": "aborted",
     "timestamp": 1657803415175,
     "user": {
      "displayName": "Yusuf Yağcı",
      "userId": "03986848679462977600"
     },
     "user_tz": -180
    },
    "id": "1547d43f"
   },
   "outputs": [
    {
     "data": {
      "image/png": "[encoded data removed]",
      "text/plain": [
       "<Figure size 432x288 with 1 Axes>"
      ]
     },
     "metadata": {
      "needs_background": "light"
     },
     "output_type": "display_data"
    }
   ],
   "source": [
    "#Türler için bir sayım grafiği \n",
    "sns.countplot(x=\"PRICE\", data=df, )\n",
    "plt.show()"
   ]
  },
  {
   "cell_type": "markdown",
   "id": "6311d127",
   "metadata": {
    "id": "6311d127"
   },
   "source": [
    "Soru 5: Hangi ülkeden kaçar tane satış olmuş?"
   ]
  },
  {
   "cell_type": "code",
   "execution_count": 11,
   "id": "8c948367",
   "metadata": {
    "executionInfo": {
     "elapsed": 1530,
     "status": "aborted",
     "timestamp": 1657803415176,
     "user": {
      "displayName": "Yusuf Yağcı",
      "userId": "03986848679462977600"
     },
     "user_tz": -180
    },
    "id": "8c948367"
   },
   "outputs": [
    {
     "data": {
      "text/plain": [
       "array(['bra', 'tur', 'usa', 'can', 'deu', 'fra'], dtype=object)"
      ]
     },
     "execution_count": 11,
     "metadata": {},
     "output_type": "execute_result"
    }
   ],
   "source": [
    "df[\"COUNTRY\"].unique()"
   ]
  },
  {
   "cell_type": "code",
   "execution_count": 12,
   "id": "bdc3144b",
   "metadata": {
    "executionInfo": {
     "elapsed": 1531,
     "status": "aborted",
     "timestamp": 1657803415177,
     "user": {
      "displayName": "Yusuf Yağcı",
      "userId": "03986848679462977600"
     },
     "user_tz": -180
    },
    "id": "bdc3144b"
   },
   "outputs": [
    {
     "data": {
      "text/plain": [
       "usa    2065\n",
       "bra    1496\n",
       "deu     455\n",
       "tur     451\n",
       "fra     303\n",
       "can     230\n",
       "Name: COUNTRY, dtype: int64"
      ]
     },
     "execution_count": 12,
     "metadata": {},
     "output_type": "execute_result"
    }
   ],
   "source": [
    "df[\"COUNTRY\"].value_counts()"
   ]
  },
  {
   "cell_type": "code",
   "execution_count": 13,
   "id": "e6a2b1a0",
   "metadata": {
    "executionInfo": {
     "elapsed": 1534,
     "status": "aborted",
     "timestamp": 1657803415180,
     "user": {
      "displayName": "Yusuf Yağcı",
      "userId": "03986848679462977600"
     },
     "user_tz": -180
    },
    "id": "e6a2b1a0"
   },
   "outputs": [
    {
     "data": {
      "image/png": "[encoded data removed]",
      "text/plain": [
       "<Figure size 432x288 with 1 Axes>"
      ]
     },
     "metadata": {
      "needs_background": "light"
     },
     "output_type": "display_data"
    }
   ],
   "source": [
    "#Türler için bir sayım grafiği \n",
    "sns.countplot(x=\"COUNTRY\", data=df)\n",
    "plt.show()"
   ]
  },
  {
   "cell_type": "markdown",
   "id": "e6a6affa",
   "metadata": {
    "id": "e6a6affa"
   },
   "source": [
    "Soru 6: Ülkelere göre satışlardan toplam ne kadar kazanılmış?"
   ]
  },
  {
   "cell_type": "code",
   "execution_count": 14,
   "id": "84512819",
   "metadata": {
    "executionInfo": {
     "elapsed": 1534,
     "status": "aborted",
     "timestamp": 1657803415181,
     "user": {
      "displayName": "Yusuf Yağcı",
      "userId": "03986848679462977600"
     },
     "user_tz": -180
    },
    "id": "84512819"
   },
   "outputs": [
    {
     "data": {
      "text/html": [
       "<div>\n",
       "<style scoped>\n",
       "    .dataframe tbody tr th:only-of-type {\n",
       "        vertical-align: middle;\n",
       "    }\n",
       "\n",
       "    .dataframe tbody tr th {\n",
       "        vertical-align: top;\n",
       "    }\n",
       "\n",
       "    .dataframe thead tr th {\n",
       "        text-align: left;\n",
       "    }\n",
       "\n",
       "    .dataframe thead tr:last-of-type th {\n",
       "        text-align: right;\n",
       "    }\n",
       "</style>\n",
       "<table border=\"1\" class=\"dataframe\">\n",
       "  <thead>\n",
       "    <tr>\n",
       "      <th></th>\n",
       "      <th colspan=\"2\" halign=\"left\">PRICE</th>\n",
       "    </tr>\n",
       "    <tr>\n",
       "      <th></th>\n",
       "      <th>count</th>\n",
       "      <th>sum</th>\n",
       "    </tr>\n",
       "    <tr>\n",
       "      <th>COUNTRY</th>\n",
       "      <th></th>\n",
       "      <th></th>\n",
       "    </tr>\n",
       "  </thead>\n",
       "  <tbody>\n",
       "    <tr>\n",
       "      <th>bra</th>\n",
       "      <td>1496</td>\n",
       "      <td>51354</td>\n",
       "    </tr>\n",
       "    <tr>\n",
       "      <th>can</th>\n",
       "      <td>230</td>\n",
       "      <td>7730</td>\n",
       "    </tr>\n",
       "    <tr>\n",
       "      <th>deu</th>\n",
       "      <td>455</td>\n",
       "      <td>15485</td>\n",
       "    </tr>\n",
       "    <tr>\n",
       "      <th>fra</th>\n",
       "      <td>303</td>\n",
       "      <td>10177</td>\n",
       "    </tr>\n",
       "    <tr>\n",
       "      <th>tur</th>\n",
       "      <td>451</td>\n",
       "      <td>15689</td>\n",
       "    </tr>\n",
       "    <tr>\n",
       "      <th>usa</th>\n",
       "      <td>2065</td>\n",
       "      <td>70225</td>\n",
       "    </tr>\n",
       "  </tbody>\n",
       "</table>\n",
       "</div>"
      ],
      "text/plain": [
       "        PRICE       \n",
       "        count    sum\n",
       "COUNTRY             \n",
       "bra      1496  51354\n",
       "can       230   7730\n",
       "deu       455  15485\n",
       "fra       303  10177\n",
       "tur       451  15689\n",
       "usa      2065  70225"
      ]
     },
     "execution_count": 14,
     "metadata": {},
     "output_type": "execute_result"
    }
   ],
   "source": [
    "df.groupby([\"COUNTRY\"]).agg({\"PRICE\": [\"count\",\"sum\"]})"
   ]
  },
  {
   "cell_type": "markdown",
   "id": "46bea2f4",
   "metadata": {
    "id": "46bea2f4"
   },
   "source": [
    "Soru 7: SOURCE türlerine göre göre satış sayıları nedir?"
   ]
  },
  {
   "cell_type": "code",
   "execution_count": 15,
   "id": "9f1a2bbb",
   "metadata": {
    "executionInfo": {
     "elapsed": 1534,
     "status": "aborted",
     "timestamp": 1657803415181,
     "user": {
      "displayName": "Yusuf Yağcı",
      "userId": "03986848679462977600"
     },
     "user_tz": -180
    },
    "id": "9f1a2bbb"
   },
   "outputs": [
    {
     "data": {
      "text/html": [
       "<div>\n",
       "<style scoped>\n",
       "    .dataframe tbody tr th:only-of-type {\n",
       "        vertical-align: middle;\n",
       "    }\n",
       "\n",
       "    .dataframe tbody tr th {\n",
       "        vertical-align: top;\n",
       "    }\n",
       "\n",
       "    .dataframe thead th {\n",
       "        text-align: right;\n",
       "    }\n",
       "</style>\n",
       "<table border=\"1\" class=\"dataframe\">\n",
       "  <thead>\n",
       "    <tr style=\"text-align: right;\">\n",
       "      <th></th>\n",
       "      <th>PRICE</th>\n",
       "      <th>SEX</th>\n",
       "      <th>COUNTRY</th>\n",
       "      <th>AGE</th>\n",
       "    </tr>\n",
       "    <tr>\n",
       "      <th>SOURCE</th>\n",
       "      <th></th>\n",
       "      <th></th>\n",
       "      <th></th>\n",
       "      <th></th>\n",
       "    </tr>\n",
       "  </thead>\n",
       "  <tbody>\n",
       "    <tr>\n",
       "      <th>android</th>\n",
       "      <td>2974</td>\n",
       "      <td>2974</td>\n",
       "      <td>2974</td>\n",
       "      <td>2974</td>\n",
       "    </tr>\n",
       "    <tr>\n",
       "      <th>ios</th>\n",
       "      <td>2026</td>\n",
       "      <td>2026</td>\n",
       "      <td>2026</td>\n",
       "      <td>2026</td>\n",
       "    </tr>\n",
       "  </tbody>\n",
       "</table>\n",
       "</div>"
      ],
      "text/plain": [
       "         PRICE   SEX  COUNTRY   AGE\n",
       "SOURCE                             \n",
       "android   2974  2974     2974  2974\n",
       "ios       2026  2026     2026  2026"
      ]
     },
     "execution_count": 15,
     "metadata": {},
     "output_type": "execute_result"
    }
   ],
   "source": [
    "df.groupby([\"SOURCE\"]).count()"
   ]
  },
  {
   "cell_type": "markdown",
   "id": "cc27e104",
   "metadata": {
    "id": "cc27e104"
   },
   "source": [
    "Soru 8: Ülkelere göre PRICE ortalamaları nedir?"
   ]
  },
  {
   "cell_type": "code",
   "execution_count": 16,
   "id": "8cd312aa",
   "metadata": {
    "executionInfo": {
     "elapsed": 1535,
     "status": "aborted",
     "timestamp": 1657803415182,
     "user": {
      "displayName": "Yusuf Yağcı",
      "userId": "03986848679462977600"
     },
     "user_tz": -180
    },
    "id": "8cd312aa"
   },
   "outputs": [
    {
     "data": {
      "text/html": [
       "<div>\n",
       "<style scoped>\n",
       "    .dataframe tbody tr th:only-of-type {\n",
       "        vertical-align: middle;\n",
       "    }\n",
       "\n",
       "    .dataframe tbody tr th {\n",
       "        vertical-align: top;\n",
       "    }\n",
       "\n",
       "    .dataframe thead tr th {\n",
       "        text-align: left;\n",
       "    }\n",
       "\n",
       "    .dataframe thead tr:last-of-type th {\n",
       "        text-align: right;\n",
       "    }\n",
       "</style>\n",
       "<table border=\"1\" class=\"dataframe\">\n",
       "  <thead>\n",
       "    <tr>\n",
       "      <th></th>\n",
       "      <th colspan=\"2\" halign=\"left\">PRICE</th>\n",
       "    </tr>\n",
       "    <tr>\n",
       "      <th></th>\n",
       "      <th>mean</th>\n",
       "      <th>min</th>\n",
       "    </tr>\n",
       "    <tr>\n",
       "      <th>COUNTRY</th>\n",
       "      <th></th>\n",
       "      <th></th>\n",
       "    </tr>\n",
       "  </thead>\n",
       "  <tbody>\n",
       "    <tr>\n",
       "      <th>bra</th>\n",
       "      <td>34.327540</td>\n",
       "      <td>9</td>\n",
       "    </tr>\n",
       "    <tr>\n",
       "      <th>can</th>\n",
       "      <td>33.608696</td>\n",
       "      <td>9</td>\n",
       "    </tr>\n",
       "    <tr>\n",
       "      <th>deu</th>\n",
       "      <td>34.032967</td>\n",
       "      <td>9</td>\n",
       "    </tr>\n",
       "    <tr>\n",
       "      <th>fra</th>\n",
       "      <td>33.587459</td>\n",
       "      <td>9</td>\n",
       "    </tr>\n",
       "    <tr>\n",
       "      <th>tur</th>\n",
       "      <td>34.787140</td>\n",
       "      <td>9</td>\n",
       "    </tr>\n",
       "    <tr>\n",
       "      <th>usa</th>\n",
       "      <td>34.007264</td>\n",
       "      <td>9</td>\n",
       "    </tr>\n",
       "  </tbody>\n",
       "</table>\n",
       "</div>"
      ],
      "text/plain": [
       "             PRICE    \n",
       "              mean min\n",
       "COUNTRY               \n",
       "bra      34.327540   9\n",
       "can      33.608696   9\n",
       "deu      34.032967   9\n",
       "fra      33.587459   9\n",
       "tur      34.787140   9\n",
       "usa      34.007264   9"
      ]
     },
     "execution_count": 16,
     "metadata": {},
     "output_type": "execute_result"
    }
   ],
   "source": [
    "df.groupby([\"COUNTRY\"]).agg({\"PRICE\": [\"mean\",\"min\"]})"
   ]
  },
  {
   "cell_type": "markdown",
   "id": "ca0596b1",
   "metadata": {
    "id": "ca0596b1"
   },
   "source": [
    "Soru 9: SOURCE'lara göre PRICE ortalamaları nedir?"
   ]
  },
  {
   "cell_type": "code",
   "execution_count": 17,
   "id": "816f633b",
   "metadata": {
    "executionInfo": {
     "elapsed": 1535,
     "status": "aborted",
     "timestamp": 1657803415182,
     "user": {
      "displayName": "Yusuf Yağcı",
      "userId": "03986848679462977600"
     },
     "user_tz": -180
    },
    "id": "816f633b"
   },
   "outputs": [
    {
     "data": {
      "text/html": [
       "<div>\n",
       "<style scoped>\n",
       "    .dataframe tbody tr th:only-of-type {\n",
       "        vertical-align: middle;\n",
       "    }\n",
       "\n",
       "    .dataframe tbody tr th {\n",
       "        vertical-align: top;\n",
       "    }\n",
       "\n",
       "    .dataframe thead tr th {\n",
       "        text-align: left;\n",
       "    }\n",
       "\n",
       "    .dataframe thead tr:last-of-type th {\n",
       "        text-align: right;\n",
       "    }\n",
       "</style>\n",
       "<table border=\"1\" class=\"dataframe\">\n",
       "  <thead>\n",
       "    <tr>\n",
       "      <th></th>\n",
       "      <th colspan=\"5\" halign=\"left\">PRICE</th>\n",
       "    </tr>\n",
       "    <tr>\n",
       "      <th></th>\n",
       "      <th>count</th>\n",
       "      <th>mean</th>\n",
       "      <th>min</th>\n",
       "      <th>max</th>\n",
       "      <th>sum</th>\n",
       "    </tr>\n",
       "    <tr>\n",
       "      <th>SOURCE</th>\n",
       "      <th></th>\n",
       "      <th></th>\n",
       "      <th></th>\n",
       "      <th></th>\n",
       "      <th></th>\n",
       "    </tr>\n",
       "  </thead>\n",
       "  <tbody>\n",
       "    <tr>\n",
       "      <th>android</th>\n",
       "      <td>2974</td>\n",
       "      <td>34.174849</td>\n",
       "      <td>9</td>\n",
       "      <td>59</td>\n",
       "      <td>101636</td>\n",
       "    </tr>\n",
       "    <tr>\n",
       "      <th>ios</th>\n",
       "      <td>2026</td>\n",
       "      <td>34.069102</td>\n",
       "      <td>9</td>\n",
       "      <td>59</td>\n",
       "      <td>69024</td>\n",
       "    </tr>\n",
       "  </tbody>\n",
       "</table>\n",
       "</div>"
      ],
      "text/plain": [
       "        PRICE                           \n",
       "        count       mean min max     sum\n",
       "SOURCE                                  \n",
       "android  2974  34.174849   9  59  101636\n",
       "ios      2026  34.069102   9  59   69024"
      ]
     },
     "execution_count": 17,
     "metadata": {},
     "output_type": "execute_result"
    }
   ],
   "source": [
    "df.groupby([\"SOURCE\"]).agg({\"PRICE\": [\"count\",\"mean\",\"min\",\"max\",\"sum\"]})"
   ]
  },
  {
   "cell_type": "markdown",
   "id": "98a464f0",
   "metadata": {
    "id": "98a464f0"
   },
   "source": [
    "Soru 10: COUNTRY-SOURCE kırılımında PRICE ortalamaları nedir?"
   ]
  },
  {
   "cell_type": "code",
   "execution_count": 18,
   "id": "b7468e12",
   "metadata": {
    "executionInfo": {
     "elapsed": 30,
     "status": "aborted",
     "timestamp": 1657803415183,
     "user": {
      "displayName": "Yusuf Yağcı",
      "userId": "03986848679462977600"
     },
     "user_tz": -180
    },
    "id": "b7468e12"
   },
   "outputs": [
    {
     "data": {
      "text/html": [
       "<div>\n",
       "<style scoped>\n",
       "    .dataframe tbody tr th:only-of-type {\n",
       "        vertical-align: middle;\n",
       "    }\n",
       "\n",
       "    .dataframe tbody tr th {\n",
       "        vertical-align: top;\n",
       "    }\n",
       "\n",
       "    .dataframe thead tr th {\n",
       "        text-align: left;\n",
       "    }\n",
       "\n",
       "    .dataframe thead tr:last-of-type th {\n",
       "        text-align: right;\n",
       "    }\n",
       "</style>\n",
       "<table border=\"1\" class=\"dataframe\">\n",
       "  <thead>\n",
       "    <tr>\n",
       "      <th></th>\n",
       "      <th></th>\n",
       "      <th>PRICE</th>\n",
       "    </tr>\n",
       "    <tr>\n",
       "      <th></th>\n",
       "      <th></th>\n",
       "      <th>mean</th>\n",
       "    </tr>\n",
       "    <tr>\n",
       "      <th>COUNTRY</th>\n",
       "      <th>SOURCE</th>\n",
       "      <th></th>\n",
       "    </tr>\n",
       "  </thead>\n",
       "  <tbody>\n",
       "    <tr>\n",
       "      <th rowspan=\"2\" valign=\"top\">bra</th>\n",
       "      <th>android</th>\n",
       "      <td>34.387029</td>\n",
       "    </tr>\n",
       "    <tr>\n",
       "      <th>ios</th>\n",
       "      <td>34.222222</td>\n",
       "    </tr>\n",
       "    <tr>\n",
       "      <th rowspan=\"2\" valign=\"top\">can</th>\n",
       "      <th>android</th>\n",
       "      <td>33.330709</td>\n",
       "    </tr>\n",
       "    <tr>\n",
       "      <th>ios</th>\n",
       "      <td>33.951456</td>\n",
       "    </tr>\n",
       "    <tr>\n",
       "      <th rowspan=\"2\" valign=\"top\">deu</th>\n",
       "      <th>android</th>\n",
       "      <td>33.869888</td>\n",
       "    </tr>\n",
       "    <tr>\n",
       "      <th>ios</th>\n",
       "      <td>34.268817</td>\n",
       "    </tr>\n",
       "    <tr>\n",
       "      <th rowspan=\"2\" valign=\"top\">fra</th>\n",
       "      <th>android</th>\n",
       "      <td>34.312500</td>\n",
       "    </tr>\n",
       "    <tr>\n",
       "      <th>ios</th>\n",
       "      <td>32.776224</td>\n",
       "    </tr>\n",
       "    <tr>\n",
       "      <th rowspan=\"2\" valign=\"top\">tur</th>\n",
       "      <th>android</th>\n",
       "      <td>36.229437</td>\n",
       "    </tr>\n",
       "    <tr>\n",
       "      <th>ios</th>\n",
       "      <td>33.272727</td>\n",
       "    </tr>\n",
       "    <tr>\n",
       "      <th rowspan=\"2\" valign=\"top\">usa</th>\n",
       "      <th>android</th>\n",
       "      <td>33.760357</td>\n",
       "    </tr>\n",
       "    <tr>\n",
       "      <th>ios</th>\n",
       "      <td>34.371703</td>\n",
       "    </tr>\n",
       "  </tbody>\n",
       "</table>\n",
       "</div>"
      ],
      "text/plain": [
       "                     PRICE\n",
       "                      mean\n",
       "COUNTRY SOURCE            \n",
       "bra     android  34.387029\n",
       "        ios      34.222222\n",
       "can     android  33.330709\n",
       "        ios      33.951456\n",
       "deu     android  33.869888\n",
       "        ios      34.268817\n",
       "fra     android  34.312500\n",
       "        ios      32.776224\n",
       "tur     android  36.229437\n",
       "        ios      33.272727\n",
       "usa     android  33.760357\n",
       "        ios      34.371703"
      ]
     },
     "execution_count": 18,
     "metadata": {},
     "output_type": "execute_result"
    }
   ],
   "source": [
    "df.groupby([\"COUNTRY\",\"SOURCE\"]).agg({\"PRICE\": [\"mean\"]})"
   ]
  },
  {
   "cell_type": "markdown",
   "id": "71680368",
   "metadata": {
    "id": "71680368"
   },
   "source": [
    "# Görev 2:"
   ]
  },
  {
   "cell_type": "markdown",
   "id": "86b618dd",
   "metadata": {
    "id": "86b618dd"
   },
   "source": [
    "COUNTRY, SOURCE, SEX, AGE kırılımında ortalama kazançlar nedir?"
   ]
  },
  {
   "cell_type": "code",
   "execution_count": 19,
   "id": "c2597125",
   "metadata": {
    "executionInfo": {
     "elapsed": 31,
     "status": "aborted",
     "timestamp": 1657803415184,
     "user": {
      "displayName": "Yusuf Yağcı",
      "userId": "03986848679462977600"
     },
     "user_tz": -180
    },
    "id": "c2597125"
   },
   "outputs": [
    {
     "data": {
      "text/html": [
       "<div>\n",
       "<style scoped>\n",
       "    .dataframe tbody tr th:only-of-type {\n",
       "        vertical-align: middle;\n",
       "    }\n",
       "\n",
       "    .dataframe tbody tr th {\n",
       "        vertical-align: top;\n",
       "    }\n",
       "\n",
       "    .dataframe thead th {\n",
       "        text-align: right;\n",
       "    }\n",
       "</style>\n",
       "<table border=\"1\" class=\"dataframe\">\n",
       "  <thead>\n",
       "    <tr style=\"text-align: right;\">\n",
       "      <th></th>\n",
       "      <th></th>\n",
       "      <th></th>\n",
       "      <th></th>\n",
       "      <th>PRICE</th>\n",
       "    </tr>\n",
       "    <tr>\n",
       "      <th>COUNTRY</th>\n",
       "      <th>SOURCE</th>\n",
       "      <th>SEX</th>\n",
       "      <th>AGE</th>\n",
       "      <th></th>\n",
       "    </tr>\n",
       "  </thead>\n",
       "  <tbody>\n",
       "    <tr>\n",
       "      <th rowspan=\"5\" valign=\"top\">bra</th>\n",
       "      <th rowspan=\"5\" valign=\"top\">android</th>\n",
       "      <th rowspan=\"5\" valign=\"top\">female</th>\n",
       "      <th>15</th>\n",
       "      <td>38.714286</td>\n",
       "    </tr>\n",
       "    <tr>\n",
       "      <th>16</th>\n",
       "      <td>35.944444</td>\n",
       "    </tr>\n",
       "    <tr>\n",
       "      <th>17</th>\n",
       "      <td>35.666667</td>\n",
       "    </tr>\n",
       "    <tr>\n",
       "      <th>18</th>\n",
       "      <td>32.255814</td>\n",
       "    </tr>\n",
       "    <tr>\n",
       "      <th>19</th>\n",
       "      <td>35.206897</td>\n",
       "    </tr>\n",
       "    <tr>\n",
       "      <th>...</th>\n",
       "      <th>...</th>\n",
       "      <th>...</th>\n",
       "      <th>...</th>\n",
       "      <td>...</td>\n",
       "    </tr>\n",
       "    <tr>\n",
       "      <th rowspan=\"5\" valign=\"top\">usa</th>\n",
       "      <th rowspan=\"5\" valign=\"top\">ios</th>\n",
       "      <th rowspan=\"5\" valign=\"top\">male</th>\n",
       "      <th>42</th>\n",
       "      <td>30.250000</td>\n",
       "    </tr>\n",
       "    <tr>\n",
       "      <th>50</th>\n",
       "      <td>39.000000</td>\n",
       "    </tr>\n",
       "    <tr>\n",
       "      <th>53</th>\n",
       "      <td>34.000000</td>\n",
       "    </tr>\n",
       "    <tr>\n",
       "      <th>55</th>\n",
       "      <td>29.000000</td>\n",
       "    </tr>\n",
       "    <tr>\n",
       "      <th>59</th>\n",
       "      <td>46.500000</td>\n",
       "    </tr>\n",
       "  </tbody>\n",
       "</table>\n",
       "<p>348 rows × 1 columns</p>\n",
       "</div>"
      ],
      "text/plain": [
       "                                PRICE\n",
       "COUNTRY SOURCE  SEX    AGE           \n",
       "bra     android female 15   38.714286\n",
       "                       16   35.944444\n",
       "                       17   35.666667\n",
       "                       18   32.255814\n",
       "                       19   35.206897\n",
       "...                               ...\n",
       "usa     ios     male   42   30.250000\n",
       "                       50   39.000000\n",
       "                       53   34.000000\n",
       "                       55   29.000000\n",
       "                       59   46.500000\n",
       "\n",
       "[348 rows x 1 columns]"
      ]
     },
     "execution_count": 19,
     "metadata": {},
     "output_type": "execute_result"
    }
   ],
   "source": [
    "df_2 = df.groupby([\"COUNTRY\",\"SOURCE\",\"SEX\",\"AGE\"]).agg({\"PRICE\": \"mean\"})\n",
    "df_2"
   ]
  },
  {
   "cell_type": "markdown",
   "id": "075312b8",
   "metadata": {
    "id": "075312b8"
   },
   "source": [
    "# Görev 3:"
   ]
  },
  {
   "cell_type": "markdown",
   "id": "808a3427",
   "metadata": {
    "id": "808a3427"
   },
   "source": [
    "Çıktıyı PRICE’a göre sıralayınız."
   ]
  },
  {
   "cell_type": "code",
   "execution_count": 20,
   "id": "31e0ffc5",
   "metadata": {
    "colab": {
     "base_uri": "https://localhost:8080/",
     "height": 183
    },
    "executionInfo": {
     "elapsed": 577,
     "status": "error",
     "timestamp": 1657803433779,
     "user": {
      "displayName": "Yusuf Yağcı",
      "userId": "03986848679462977600"
     },
     "user_tz": -180
    },
    "id": "31e0ffc5",
    "outputId": "49e9b1f8-eb03-41b6-8300-f62c269c38d3"
   },
   "outputs": [
    {
     "data": {
      "text/html": [
       "<div>\n",
       "<style scoped>\n",
       "    .dataframe tbody tr th:only-of-type {\n",
       "        vertical-align: middle;\n",
       "    }\n",
       "\n",
       "    .dataframe tbody tr th {\n",
       "        vertical-align: top;\n",
       "    }\n",
       "\n",
       "    .dataframe thead th {\n",
       "        text-align: right;\n",
       "    }\n",
       "</style>\n",
       "<table border=\"1\" class=\"dataframe\">\n",
       "  <thead>\n",
       "    <tr style=\"text-align: right;\">\n",
       "      <th></th>\n",
       "      <th></th>\n",
       "      <th></th>\n",
       "      <th></th>\n",
       "      <th>PRICE</th>\n",
       "    </tr>\n",
       "    <tr>\n",
       "      <th>COUNTRY</th>\n",
       "      <th>SOURCE</th>\n",
       "      <th>SEX</th>\n",
       "      <th>AGE</th>\n",
       "      <th></th>\n",
       "    </tr>\n",
       "  </thead>\n",
       "  <tbody>\n",
       "    <tr>\n",
       "      <th>bra</th>\n",
       "      <th>android</th>\n",
       "      <th>male</th>\n",
       "      <th>46</th>\n",
       "      <td>59.0</td>\n",
       "    </tr>\n",
       "    <tr>\n",
       "      <th>usa</th>\n",
       "      <th>android</th>\n",
       "      <th>male</th>\n",
       "      <th>36</th>\n",
       "      <td>59.0</td>\n",
       "    </tr>\n",
       "    <tr>\n",
       "      <th>fra</th>\n",
       "      <th>android</th>\n",
       "      <th>female</th>\n",
       "      <th>24</th>\n",
       "      <td>59.0</td>\n",
       "    </tr>\n",
       "    <tr>\n",
       "      <th>usa</th>\n",
       "      <th>ios</th>\n",
       "      <th>male</th>\n",
       "      <th>32</th>\n",
       "      <td>54.0</td>\n",
       "    </tr>\n",
       "    <tr>\n",
       "      <th>deu</th>\n",
       "      <th>android</th>\n",
       "      <th>female</th>\n",
       "      <th>36</th>\n",
       "      <td>49.0</td>\n",
       "    </tr>\n",
       "    <tr>\n",
       "      <th>...</th>\n",
       "      <th>...</th>\n",
       "      <th>...</th>\n",
       "      <th>...</th>\n",
       "      <td>...</td>\n",
       "    </tr>\n",
       "    <tr>\n",
       "      <th rowspan=\"2\" valign=\"top\">usa</th>\n",
       "      <th rowspan=\"2\" valign=\"top\">ios</th>\n",
       "      <th rowspan=\"2\" valign=\"top\">female</th>\n",
       "      <th>38</th>\n",
       "      <td>19.0</td>\n",
       "    </tr>\n",
       "    <tr>\n",
       "      <th>30</th>\n",
       "      <td>19.0</td>\n",
       "    </tr>\n",
       "    <tr>\n",
       "      <th>can</th>\n",
       "      <th>android</th>\n",
       "      <th>female</th>\n",
       "      <th>27</th>\n",
       "      <td>19.0</td>\n",
       "    </tr>\n",
       "    <tr>\n",
       "      <th>fra</th>\n",
       "      <th>android</th>\n",
       "      <th>male</th>\n",
       "      <th>18</th>\n",
       "      <td>19.0</td>\n",
       "    </tr>\n",
       "    <tr>\n",
       "      <th>deu</th>\n",
       "      <th>android</th>\n",
       "      <th>male</th>\n",
       "      <th>26</th>\n",
       "      <td>9.0</td>\n",
       "    </tr>\n",
       "  </tbody>\n",
       "</table>\n",
       "<p>348 rows × 1 columns</p>\n",
       "</div>"
      ],
      "text/plain": [
       "                            PRICE\n",
       "COUNTRY SOURCE  SEX    AGE       \n",
       "bra     android male   46    59.0\n",
       "usa     android male   36    59.0\n",
       "fra     android female 24    59.0\n",
       "usa     ios     male   32    54.0\n",
       "deu     android female 36    49.0\n",
       "...                           ...\n",
       "usa     ios     female 38    19.0\n",
       "                       30    19.0\n",
       "can     android female 27    19.0\n",
       "fra     android male   18    19.0\n",
       "deu     android male   26     9.0\n",
       "\n",
       "[348 rows x 1 columns]"
      ]
     },
     "execution_count": 20,
     "metadata": {},
     "output_type": "execute_result"
    }
   ],
   "source": [
    "agg_df = df_2.sort_values([\"PRICE\"],ascending=False)\n",
    "agg_df"
   ]
  },
  {
   "cell_type": "code",
   "execution_count": 21,
   "id": "363b44ab",
   "metadata": {
    "colab": {
     "base_uri": "https://localhost:8080/",
     "height": 165
    },
    "executionInfo": {
     "elapsed": 7,
     "status": "error",
     "timestamp": 1657803434422,
     "user": {
      "displayName": "Yusuf Yağcı",
      "userId": "03986848679462977600"
     },
     "user_tz": -180
    },
    "id": "363b44ab",
    "outputId": "dac87314-2f2b-4b28-bd04-3a6e629e9e4b"
   },
   "outputs": [
    {
     "data": {
      "text/html": [
       "<div>\n",
       "<style scoped>\n",
       "    .dataframe tbody tr th:only-of-type {\n",
       "        vertical-align: middle;\n",
       "    }\n",
       "\n",
       "    .dataframe tbody tr th {\n",
       "        vertical-align: top;\n",
       "    }\n",
       "\n",
       "    .dataframe thead th {\n",
       "        text-align: right;\n",
       "    }\n",
       "</style>\n",
       "<table border=\"1\" class=\"dataframe\">\n",
       "  <thead>\n",
       "    <tr style=\"text-align: right;\">\n",
       "      <th></th>\n",
       "      <th></th>\n",
       "      <th></th>\n",
       "      <th></th>\n",
       "      <th>PRICE</th>\n",
       "    </tr>\n",
       "    <tr>\n",
       "      <th>COUNTRY</th>\n",
       "      <th>SOURCE</th>\n",
       "      <th>SEX</th>\n",
       "      <th>AGE</th>\n",
       "      <th></th>\n",
       "    </tr>\n",
       "  </thead>\n",
       "  <tbody>\n",
       "    <tr>\n",
       "      <th rowspan=\"5\" valign=\"top\">bra</th>\n",
       "      <th rowspan=\"5\" valign=\"top\">android</th>\n",
       "      <th rowspan=\"5\" valign=\"top\">female</th>\n",
       "      <th>15</th>\n",
       "      <td>38.714286</td>\n",
       "    </tr>\n",
       "    <tr>\n",
       "      <th>16</th>\n",
       "      <td>35.944444</td>\n",
       "    </tr>\n",
       "    <tr>\n",
       "      <th>17</th>\n",
       "      <td>35.666667</td>\n",
       "    </tr>\n",
       "    <tr>\n",
       "      <th>18</th>\n",
       "      <td>32.255814</td>\n",
       "    </tr>\n",
       "    <tr>\n",
       "      <th>19</th>\n",
       "      <td>35.206897</td>\n",
       "    </tr>\n",
       "    <tr>\n",
       "      <th>...</th>\n",
       "      <th>...</th>\n",
       "      <th>...</th>\n",
       "      <th>...</th>\n",
       "      <td>...</td>\n",
       "    </tr>\n",
       "    <tr>\n",
       "      <th rowspan=\"5\" valign=\"top\">usa</th>\n",
       "      <th rowspan=\"5\" valign=\"top\">ios</th>\n",
       "      <th rowspan=\"5\" valign=\"top\">male</th>\n",
       "      <th>42</th>\n",
       "      <td>30.250000</td>\n",
       "    </tr>\n",
       "    <tr>\n",
       "      <th>50</th>\n",
       "      <td>39.000000</td>\n",
       "    </tr>\n",
       "    <tr>\n",
       "      <th>53</th>\n",
       "      <td>34.000000</td>\n",
       "    </tr>\n",
       "    <tr>\n",
       "      <th>55</th>\n",
       "      <td>29.000000</td>\n",
       "    </tr>\n",
       "    <tr>\n",
       "      <th>59</th>\n",
       "      <td>46.500000</td>\n",
       "    </tr>\n",
       "  </tbody>\n",
       "</table>\n",
       "<p>348 rows × 1 columns</p>\n",
       "</div>"
      ],
      "text/plain": [
       "                                PRICE\n",
       "COUNTRY SOURCE  SEX    AGE           \n",
       "bra     android female 15   38.714286\n",
       "                       16   35.944444\n",
       "                       17   35.666667\n",
       "                       18   32.255814\n",
       "                       19   35.206897\n",
       "...                               ...\n",
       "usa     ios     male   42   30.250000\n",
       "                       50   39.000000\n",
       "                       53   34.000000\n",
       "                       55   29.000000\n",
       "                       59   46.500000\n",
       "\n",
       "[348 rows x 1 columns]"
      ]
     },
     "execution_count": 21,
     "metadata": {},
     "output_type": "execute_result"
    }
   ],
   "source": [
    "agg_df = agg_df.groupby([\"COUNTRY\",\"SOURCE\",\"SEX\",\"AGE\"]).agg({\"PRICE\": \"mean\"})\n",
    "agg_df"
   ]
  },
  {
   "cell_type": "markdown",
   "id": "d19b4b33",
   "metadata": {
    "id": "d19b4b33"
   },
   "source": [
    "# Görev 4:"
   ]
  },
  {
   "cell_type": "markdown",
   "id": "00c49ad2",
   "metadata": {
    "id": "00c49ad2"
   },
   "source": [
    "Index’te yer alan isimleri değişken ismine çeviriniz."
   ]
  },
  {
   "cell_type": "code",
   "execution_count": 22,
   "id": "71e1f4f8",
   "metadata": {},
   "outputs": [
    {
     "data": {
      "text/html": [
       "<div>\n",
       "<style scoped>\n",
       "    .dataframe tbody tr th:only-of-type {\n",
       "        vertical-align: middle;\n",
       "    }\n",
       "\n",
       "    .dataframe tbody tr th {\n",
       "        vertical-align: top;\n",
       "    }\n",
       "\n",
       "    .dataframe thead th {\n",
       "        text-align: right;\n",
       "    }\n",
       "</style>\n",
       "<table border=\"1\" class=\"dataframe\">\n",
       "  <thead>\n",
       "    <tr style=\"text-align: right;\">\n",
       "      <th></th>\n",
       "      <th>COUNTRY</th>\n",
       "      <th>SOURCE</th>\n",
       "      <th>SEX</th>\n",
       "      <th>AGE</th>\n",
       "      <th>PRICE</th>\n",
       "    </tr>\n",
       "  </thead>\n",
       "  <tbody>\n",
       "    <tr>\n",
       "      <th>0</th>\n",
       "      <td>bra</td>\n",
       "      <td>android</td>\n",
       "      <td>female</td>\n",
       "      <td>15</td>\n",
       "      <td>38.714286</td>\n",
       "    </tr>\n",
       "    <tr>\n",
       "      <th>1</th>\n",
       "      <td>bra</td>\n",
       "      <td>android</td>\n",
       "      <td>female</td>\n",
       "      <td>16</td>\n",
       "      <td>35.944444</td>\n",
       "    </tr>\n",
       "    <tr>\n",
       "      <th>2</th>\n",
       "      <td>bra</td>\n",
       "      <td>android</td>\n",
       "      <td>female</td>\n",
       "      <td>17</td>\n",
       "      <td>35.666667</td>\n",
       "    </tr>\n",
       "    <tr>\n",
       "      <th>3</th>\n",
       "      <td>bra</td>\n",
       "      <td>android</td>\n",
       "      <td>female</td>\n",
       "      <td>18</td>\n",
       "      <td>32.255814</td>\n",
       "    </tr>\n",
       "    <tr>\n",
       "      <th>4</th>\n",
       "      <td>bra</td>\n",
       "      <td>android</td>\n",
       "      <td>female</td>\n",
       "      <td>19</td>\n",
       "      <td>35.206897</td>\n",
       "    </tr>\n",
       "    <tr>\n",
       "      <th>...</th>\n",
       "      <td>...</td>\n",
       "      <td>...</td>\n",
       "      <td>...</td>\n",
       "      <td>...</td>\n",
       "      <td>...</td>\n",
       "    </tr>\n",
       "    <tr>\n",
       "      <th>343</th>\n",
       "      <td>usa</td>\n",
       "      <td>ios</td>\n",
       "      <td>male</td>\n",
       "      <td>42</td>\n",
       "      <td>30.250000</td>\n",
       "    </tr>\n",
       "    <tr>\n",
       "      <th>344</th>\n",
       "      <td>usa</td>\n",
       "      <td>ios</td>\n",
       "      <td>male</td>\n",
       "      <td>50</td>\n",
       "      <td>39.000000</td>\n",
       "    </tr>\n",
       "    <tr>\n",
       "      <th>345</th>\n",
       "      <td>usa</td>\n",
       "      <td>ios</td>\n",
       "      <td>male</td>\n",
       "      <td>53</td>\n",
       "      <td>34.000000</td>\n",
       "    </tr>\n",
       "    <tr>\n",
       "      <th>346</th>\n",
       "      <td>usa</td>\n",
       "      <td>ios</td>\n",
       "      <td>male</td>\n",
       "      <td>55</td>\n",
       "      <td>29.000000</td>\n",
       "    </tr>\n",
       "    <tr>\n",
       "      <th>347</th>\n",
       "      <td>usa</td>\n",
       "      <td>ios</td>\n",
       "      <td>male</td>\n",
       "      <td>59</td>\n",
       "      <td>46.500000</td>\n",
       "    </tr>\n",
       "  </tbody>\n",
       "</table>\n",
       "<p>348 rows × 5 columns</p>\n",
       "</div>"
      ],
      "text/plain": [
       "    COUNTRY   SOURCE     SEX  AGE      PRICE\n",
       "0       bra  android  female   15  38.714286\n",
       "1       bra  android  female   16  35.944444\n",
       "2       bra  android  female   17  35.666667\n",
       "3       bra  android  female   18  32.255814\n",
       "4       bra  android  female   19  35.206897\n",
       "..      ...      ...     ...  ...        ...\n",
       "343     usa      ios    male   42  30.250000\n",
       "344     usa      ios    male   50  39.000000\n",
       "345     usa      ios    male   53  34.000000\n",
       "346     usa      ios    male   55  29.000000\n",
       "347     usa      ios    male   59  46.500000\n",
       "\n",
       "[348 rows x 5 columns]"
      ]
     },
     "execution_count": 22,
     "metadata": {},
     "output_type": "execute_result"
    }
   ],
   "source": [
    "agg_df.reset_index(inplace=True)\n",
    "agg_df"
   ]
  },
  {
   "cell_type": "markdown",
   "id": "bee3165a",
   "metadata": {
    "id": "bee3165a"
   },
   "source": [
    "# Görev 5:"
   ]
  },
  {
   "cell_type": "markdown",
   "id": "4bc3f7f2",
   "metadata": {
    "id": "4bc3f7f2"
   },
   "source": [
    "age değişkenini kategorik değişkene çeviriniz ve agg_df’e ekleyiniz."
   ]
  },
  {
   "cell_type": "code",
   "execution_count": 23,
   "id": "de5d8974",
   "metadata": {
    "executionInfo": {
     "elapsed": 31,
     "status": "aborted",
     "timestamp": 1657803415186,
     "user": {
      "displayName": "Yusuf Yağcı",
      "userId": "03986848679462977600"
     },
     "user_tz": -180
    },
    "id": "de5d8974"
   },
   "outputs": [
    {
     "data": {
      "text/html": [
       "<div>\n",
       "<style scoped>\n",
       "    .dataframe tbody tr th:only-of-type {\n",
       "        vertical-align: middle;\n",
       "    }\n",
       "\n",
       "    .dataframe tbody tr th {\n",
       "        vertical-align: top;\n",
       "    }\n",
       "\n",
       "    .dataframe thead th {\n",
       "        text-align: right;\n",
       "    }\n",
       "</style>\n",
       "<table border=\"1\" class=\"dataframe\">\n",
       "  <thead>\n",
       "    <tr style=\"text-align: right;\">\n",
       "      <th></th>\n",
       "      <th>COUNTRY</th>\n",
       "      <th>SOURCE</th>\n",
       "      <th>SEX</th>\n",
       "      <th>AGE</th>\n",
       "      <th>PRICE</th>\n",
       "      <th>new_age</th>\n",
       "    </tr>\n",
       "  </thead>\n",
       "  <tbody>\n",
       "    <tr>\n",
       "      <th>0</th>\n",
       "      <td>bra</td>\n",
       "      <td>android</td>\n",
       "      <td>female</td>\n",
       "      <td>15</td>\n",
       "      <td>38.714286</td>\n",
       "      <td>(0_18]</td>\n",
       "    </tr>\n",
       "    <tr>\n",
       "      <th>1</th>\n",
       "      <td>bra</td>\n",
       "      <td>android</td>\n",
       "      <td>female</td>\n",
       "      <td>16</td>\n",
       "      <td>35.944444</td>\n",
       "      <td>(0_18]</td>\n",
       "    </tr>\n",
       "    <tr>\n",
       "      <th>2</th>\n",
       "      <td>bra</td>\n",
       "      <td>android</td>\n",
       "      <td>female</td>\n",
       "      <td>17</td>\n",
       "      <td>35.666667</td>\n",
       "      <td>(0_18]</td>\n",
       "    </tr>\n",
       "    <tr>\n",
       "      <th>3</th>\n",
       "      <td>bra</td>\n",
       "      <td>android</td>\n",
       "      <td>female</td>\n",
       "      <td>18</td>\n",
       "      <td>32.255814</td>\n",
       "      <td>(0_18]</td>\n",
       "    </tr>\n",
       "    <tr>\n",
       "      <th>4</th>\n",
       "      <td>bra</td>\n",
       "      <td>android</td>\n",
       "      <td>female</td>\n",
       "      <td>19</td>\n",
       "      <td>35.206897</td>\n",
       "      <td>(18_23]</td>\n",
       "    </tr>\n",
       "    <tr>\n",
       "      <th>...</th>\n",
       "      <td>...</td>\n",
       "      <td>...</td>\n",
       "      <td>...</td>\n",
       "      <td>...</td>\n",
       "      <td>...</td>\n",
       "      <td>...</td>\n",
       "    </tr>\n",
       "    <tr>\n",
       "      <th>343</th>\n",
       "      <td>usa</td>\n",
       "      <td>ios</td>\n",
       "      <td>male</td>\n",
       "      <td>42</td>\n",
       "      <td>30.250000</td>\n",
       "      <td>(40_70]</td>\n",
       "    </tr>\n",
       "    <tr>\n",
       "      <th>344</th>\n",
       "      <td>usa</td>\n",
       "      <td>ios</td>\n",
       "      <td>male</td>\n",
       "      <td>50</td>\n",
       "      <td>39.000000</td>\n",
       "      <td>(40_70]</td>\n",
       "    </tr>\n",
       "    <tr>\n",
       "      <th>345</th>\n",
       "      <td>usa</td>\n",
       "      <td>ios</td>\n",
       "      <td>male</td>\n",
       "      <td>53</td>\n",
       "      <td>34.000000</td>\n",
       "      <td>(40_70]</td>\n",
       "    </tr>\n",
       "    <tr>\n",
       "      <th>346</th>\n",
       "      <td>usa</td>\n",
       "      <td>ios</td>\n",
       "      <td>male</td>\n",
       "      <td>55</td>\n",
       "      <td>29.000000</td>\n",
       "      <td>(40_70]</td>\n",
       "    </tr>\n",
       "    <tr>\n",
       "      <th>347</th>\n",
       "      <td>usa</td>\n",
       "      <td>ios</td>\n",
       "      <td>male</td>\n",
       "      <td>59</td>\n",
       "      <td>46.500000</td>\n",
       "      <td>(40_70]</td>\n",
       "    </tr>\n",
       "  </tbody>\n",
       "</table>\n",
       "<p>348 rows × 6 columns</p>\n",
       "</div>"
      ],
      "text/plain": [
       "    COUNTRY   SOURCE     SEX  AGE      PRICE  new_age\n",
       "0       bra  android  female   15  38.714286   (0_18]\n",
       "1       bra  android  female   16  35.944444   (0_18]\n",
       "2       bra  android  female   17  35.666667   (0_18]\n",
       "3       bra  android  female   18  32.255814   (0_18]\n",
       "4       bra  android  female   19  35.206897  (18_23]\n",
       "..      ...      ...     ...  ...        ...      ...\n",
       "343     usa      ios    male   42  30.250000  (40_70]\n",
       "344     usa      ios    male   50  39.000000  (40_70]\n",
       "345     usa      ios    male   53  34.000000  (40_70]\n",
       "346     usa      ios    male   55  29.000000  (40_70]\n",
       "347     usa      ios    male   59  46.500000  (40_70]\n",
       "\n",
       "[348 rows x 6 columns]"
      ]
     },
     "execution_count": 23,
     "metadata": {},
     "output_type": "execute_result"
    }
   ],
   "source": [
    "agg_df[\"new_age\"]=pd.cut(agg_df[\"AGE\"],[0,18,23,30,40,70]).apply(str).str.replace(\", \",\"_\")\n",
    "agg_df\n"
   ]
  },
  {
   "cell_type": "code",
   "execution_count": 24,
   "id": "b05639c7",
   "metadata": {},
   "outputs": [
    {
     "data": {
      "text/plain": [
       "Index(['COUNTRY', 'SOURCE', 'SEX', 'AGE', 'PRICE', 'new_age'], dtype='object')"
      ]
     },
     "execution_count": 24,
     "metadata": {},
     "output_type": "execute_result"
    }
   ],
   "source": [
    "agg_df.columns"
   ]
  },
  {
   "cell_type": "markdown",
   "id": "a599ac5b",
   "metadata": {
    "id": "a599ac5b"
   },
   "source": [
    "# Görev 6:"
   ]
  },
  {
   "cell_type": "markdown",
   "id": "c7a60af4",
   "metadata": {
    "id": "c7a60af4"
   },
   "source": [
    "Yeni seviye tabanlı müşterileri (persona) tanımlayınız.\n",
    "▪ Yeni seviye tabanlı müşterileri (persona) tanımlayınız ve veri setine değişken olarak ekleyiniz.\n",
    "▪ Yeni eklenecek değişkenin adı: customers_level_based\n",
    "▪ Önceki soruda elde edeceğiniz çıktıdaki gözlemleri bir araya getirerek customers_level_based \n",
    "değişkenini oluşturmanız gerekmektedir"
   ]
  },
  {
   "cell_type": "code",
   "execution_count": 25,
   "id": "37bf0ca6",
   "metadata": {
    "executionInfo": {
     "elapsed": 31,
     "status": "aborted",
     "timestamp": 1657803415186,
     "user": {
      "displayName": "Yusuf Yağcı",
      "userId": "03986848679462977600"
     },
     "user_tz": -180
    },
    "id": "37bf0ca6"
   },
   "outputs": [
    {
     "data": {
      "text/html": [
       "<div>\n",
       "<style scoped>\n",
       "    .dataframe tbody tr th:only-of-type {\n",
       "        vertical-align: middle;\n",
       "    }\n",
       "\n",
       "    .dataframe tbody tr th {\n",
       "        vertical-align: top;\n",
       "    }\n",
       "\n",
       "    .dataframe thead th {\n",
       "        text-align: right;\n",
       "    }\n",
       "</style>\n",
       "<table border=\"1\" class=\"dataframe\">\n",
       "  <thead>\n",
       "    <tr style=\"text-align: right;\">\n",
       "      <th></th>\n",
       "      <th>COUNTRY</th>\n",
       "      <th>SOURCE</th>\n",
       "      <th>SEX</th>\n",
       "      <th>AGE</th>\n",
       "      <th>PRICE</th>\n",
       "      <th>new_age</th>\n",
       "      <th>customers_level_based</th>\n",
       "    </tr>\n",
       "  </thead>\n",
       "  <tbody>\n",
       "    <tr>\n",
       "      <th>0</th>\n",
       "      <td>bra</td>\n",
       "      <td>android</td>\n",
       "      <td>female</td>\n",
       "      <td>15</td>\n",
       "      <td>38.714286</td>\n",
       "      <td>(0_18]</td>\n",
       "      <td>BRA_ANDROID_FEMALE_(0_18]</td>\n",
       "    </tr>\n",
       "    <tr>\n",
       "      <th>1</th>\n",
       "      <td>bra</td>\n",
       "      <td>android</td>\n",
       "      <td>female</td>\n",
       "      <td>16</td>\n",
       "      <td>35.944444</td>\n",
       "      <td>(0_18]</td>\n",
       "      <td>BRA_ANDROID_FEMALE_(0_18]</td>\n",
       "    </tr>\n",
       "    <tr>\n",
       "      <th>2</th>\n",
       "      <td>bra</td>\n",
       "      <td>android</td>\n",
       "      <td>female</td>\n",
       "      <td>17</td>\n",
       "      <td>35.666667</td>\n",
       "      <td>(0_18]</td>\n",
       "      <td>BRA_ANDROID_FEMALE_(0_18]</td>\n",
       "    </tr>\n",
       "    <tr>\n",
       "      <th>3</th>\n",
       "      <td>bra</td>\n",
       "      <td>android</td>\n",
       "      <td>female</td>\n",
       "      <td>18</td>\n",
       "      <td>32.255814</td>\n",
       "      <td>(0_18]</td>\n",
       "      <td>BRA_ANDROID_FEMALE_(0_18]</td>\n",
       "    </tr>\n",
       "    <tr>\n",
       "      <th>4</th>\n",
       "      <td>bra</td>\n",
       "      <td>android</td>\n",
       "      <td>female</td>\n",
       "      <td>19</td>\n",
       "      <td>35.206897</td>\n",
       "      <td>(18_23]</td>\n",
       "      <td>BRA_ANDROID_FEMALE_(18_23]</td>\n",
       "    </tr>\n",
       "    <tr>\n",
       "      <th>...</th>\n",
       "      <td>...</td>\n",
       "      <td>...</td>\n",
       "      <td>...</td>\n",
       "      <td>...</td>\n",
       "      <td>...</td>\n",
       "      <td>...</td>\n",
       "      <td>...</td>\n",
       "    </tr>\n",
       "    <tr>\n",
       "      <th>343</th>\n",
       "      <td>usa</td>\n",
       "      <td>ios</td>\n",
       "      <td>male</td>\n",
       "      <td>42</td>\n",
       "      <td>30.250000</td>\n",
       "      <td>(40_70]</td>\n",
       "      <td>USA_IOS_MALE_(40_70]</td>\n",
       "    </tr>\n",
       "    <tr>\n",
       "      <th>344</th>\n",
       "      <td>usa</td>\n",
       "      <td>ios</td>\n",
       "      <td>male</td>\n",
       "      <td>50</td>\n",
       "      <td>39.000000</td>\n",
       "      <td>(40_70]</td>\n",
       "      <td>USA_IOS_MALE_(40_70]</td>\n",
       "    </tr>\n",
       "    <tr>\n",
       "      <th>345</th>\n",
       "      <td>usa</td>\n",
       "      <td>ios</td>\n",
       "      <td>male</td>\n",
       "      <td>53</td>\n",
       "      <td>34.000000</td>\n",
       "      <td>(40_70]</td>\n",
       "      <td>USA_IOS_MALE_(40_70]</td>\n",
       "    </tr>\n",
       "    <tr>\n",
       "      <th>346</th>\n",
       "      <td>usa</td>\n",
       "      <td>ios</td>\n",
       "      <td>male</td>\n",
       "      <td>55</td>\n",
       "      <td>29.000000</td>\n",
       "      <td>(40_70]</td>\n",
       "      <td>USA_IOS_MALE_(40_70]</td>\n",
       "    </tr>\n",
       "    <tr>\n",
       "      <th>347</th>\n",
       "      <td>usa</td>\n",
       "      <td>ios</td>\n",
       "      <td>male</td>\n",
       "      <td>59</td>\n",
       "      <td>46.500000</td>\n",
       "      <td>(40_70]</td>\n",
       "      <td>USA_IOS_MALE_(40_70]</td>\n",
       "    </tr>\n",
       "  </tbody>\n",
       "</table>\n",
       "<p>348 rows × 7 columns</p>\n",
       "</div>"
      ],
      "text/plain": [
       "    COUNTRY   SOURCE     SEX  AGE      PRICE  new_age  \\\n",
       "0       bra  android  female   15  38.714286   (0_18]   \n",
       "1       bra  android  female   16  35.944444   (0_18]   \n",
       "2       bra  android  female   17  35.666667   (0_18]   \n",
       "3       bra  android  female   18  32.255814   (0_18]   \n",
       "4       bra  android  female   19  35.206897  (18_23]   \n",
       "..      ...      ...     ...  ...        ...      ...   \n",
       "343     usa      ios    male   42  30.250000  (40_70]   \n",
       "344     usa      ios    male   50  39.000000  (40_70]   \n",
       "345     usa      ios    male   53  34.000000  (40_70]   \n",
       "346     usa      ios    male   55  29.000000  (40_70]   \n",
       "347     usa      ios    male   59  46.500000  (40_70]   \n",
       "\n",
       "          customers_level_based  \n",
       "0     BRA_ANDROID_FEMALE_(0_18]  \n",
       "1     BRA_ANDROID_FEMALE_(0_18]  \n",
       "2     BRA_ANDROID_FEMALE_(0_18]  \n",
       "3     BRA_ANDROID_FEMALE_(0_18]  \n",
       "4    BRA_ANDROID_FEMALE_(18_23]  \n",
       "..                          ...  \n",
       "343        USA_IOS_MALE_(40_70]  \n",
       "344        USA_IOS_MALE_(40_70]  \n",
       "345        USA_IOS_MALE_(40_70]  \n",
       "346        USA_IOS_MALE_(40_70]  \n",
       "347        USA_IOS_MALE_(40_70]  \n",
       "\n",
       "[348 rows x 7 columns]"
      ]
     },
     "execution_count": 25,
     "metadata": {},
     "output_type": "execute_result"
    }
   ],
   "source": [
    "agg_df[\"customers_level_based\"]=agg_df[\"COUNTRY\"].str.upper()+\"_\"+agg_df[\"SOURCE\"].str.upper()+\"_\"+agg_df[\"SEX\"].str.upper()+\"_\"+agg_df[\"new_age\"].str.upper()\n",
    "agg_df"
   ]
  },
  {
   "cell_type": "code",
   "execution_count": 26,
   "id": "43f06af0",
   "metadata": {
    "executionInfo": {
     "elapsed": 31,
     "status": "aborted",
     "timestamp": 1657803415187,
     "user": {
      "displayName": "Yusuf Yağcı",
      "userId": "03986848679462977600"
     },
     "user_tz": -180
    },
    "id": "43f06af0"
   },
   "outputs": [
    {
     "data": {
      "text/html": [
       "<div>\n",
       "<style scoped>\n",
       "    .dataframe tbody tr th:only-of-type {\n",
       "        vertical-align: middle;\n",
       "    }\n",
       "\n",
       "    .dataframe tbody tr th {\n",
       "        vertical-align: top;\n",
       "    }\n",
       "\n",
       "    .dataframe thead th {\n",
       "        text-align: right;\n",
       "    }\n",
       "</style>\n",
       "<table border=\"1\" class=\"dataframe\">\n",
       "  <thead>\n",
       "    <tr style=\"text-align: right;\">\n",
       "      <th></th>\n",
       "      <th>customers_level_based</th>\n",
       "      <th>PRICE</th>\n",
       "    </tr>\n",
       "  </thead>\n",
       "  <tbody>\n",
       "    <tr>\n",
       "      <th>0</th>\n",
       "      <td>BRA_ANDROID_FEMALE_(0_18]</td>\n",
       "      <td>38.714286</td>\n",
       "    </tr>\n",
       "    <tr>\n",
       "      <th>1</th>\n",
       "      <td>BRA_ANDROID_FEMALE_(0_18]</td>\n",
       "      <td>35.944444</td>\n",
       "    </tr>\n",
       "    <tr>\n",
       "      <th>2</th>\n",
       "      <td>BRA_ANDROID_FEMALE_(0_18]</td>\n",
       "      <td>35.666667</td>\n",
       "    </tr>\n",
       "    <tr>\n",
       "      <th>3</th>\n",
       "      <td>BRA_ANDROID_FEMALE_(0_18]</td>\n",
       "      <td>32.255814</td>\n",
       "    </tr>\n",
       "    <tr>\n",
       "      <th>4</th>\n",
       "      <td>BRA_ANDROID_FEMALE_(18_23]</td>\n",
       "      <td>35.206897</td>\n",
       "    </tr>\n",
       "    <tr>\n",
       "      <th>...</th>\n",
       "      <td>...</td>\n",
       "      <td>...</td>\n",
       "    </tr>\n",
       "    <tr>\n",
       "      <th>343</th>\n",
       "      <td>USA_IOS_MALE_(40_70]</td>\n",
       "      <td>30.250000</td>\n",
       "    </tr>\n",
       "    <tr>\n",
       "      <th>344</th>\n",
       "      <td>USA_IOS_MALE_(40_70]</td>\n",
       "      <td>39.000000</td>\n",
       "    </tr>\n",
       "    <tr>\n",
       "      <th>345</th>\n",
       "      <td>USA_IOS_MALE_(40_70]</td>\n",
       "      <td>34.000000</td>\n",
       "    </tr>\n",
       "    <tr>\n",
       "      <th>346</th>\n",
       "      <td>USA_IOS_MALE_(40_70]</td>\n",
       "      <td>29.000000</td>\n",
       "    </tr>\n",
       "    <tr>\n",
       "      <th>347</th>\n",
       "      <td>USA_IOS_MALE_(40_70]</td>\n",
       "      <td>46.500000</td>\n",
       "    </tr>\n",
       "  </tbody>\n",
       "</table>\n",
       "<p>348 rows × 2 columns</p>\n",
       "</div>"
      ],
      "text/plain": [
       "          customers_level_based      PRICE\n",
       "0     BRA_ANDROID_FEMALE_(0_18]  38.714286\n",
       "1     BRA_ANDROID_FEMALE_(0_18]  35.944444\n",
       "2     BRA_ANDROID_FEMALE_(0_18]  35.666667\n",
       "3     BRA_ANDROID_FEMALE_(0_18]  32.255814\n",
       "4    BRA_ANDROID_FEMALE_(18_23]  35.206897\n",
       "..                          ...        ...\n",
       "343        USA_IOS_MALE_(40_70]  30.250000\n",
       "344        USA_IOS_MALE_(40_70]  39.000000\n",
       "345        USA_IOS_MALE_(40_70]  34.000000\n",
       "346        USA_IOS_MALE_(40_70]  29.000000\n",
       "347        USA_IOS_MALE_(40_70]  46.500000\n",
       "\n",
       "[348 rows x 2 columns]"
      ]
     },
     "execution_count": 26,
     "metadata": {},
     "output_type": "execute_result"
    }
   ],
   "source": [
    "agg_df=agg_df[[\"customers_level_based\",\"PRICE\"]]\n",
    "agg_df"
   ]
  },
  {
   "cell_type": "code",
   "execution_count": 27,
   "id": "c0787789",
   "metadata": {
    "executionInfo": {
     "elapsed": 31,
     "status": "aborted",
     "timestamp": 1657803415187,
     "user": {
      "displayName": "Yusuf Yağcı",
      "userId": "03986848679462977600"
     },
     "user_tz": -180
    },
    "id": "c0787789"
   },
   "outputs": [
    {
     "data": {
      "text/html": [
       "<div>\n",
       "<style scoped>\n",
       "    .dataframe tbody tr th:only-of-type {\n",
       "        vertical-align: middle;\n",
       "    }\n",
       "\n",
       "    .dataframe tbody tr th {\n",
       "        vertical-align: top;\n",
       "    }\n",
       "\n",
       "    .dataframe thead th {\n",
       "        text-align: right;\n",
       "    }\n",
       "</style>\n",
       "<table border=\"1\" class=\"dataframe\">\n",
       "  <thead>\n",
       "    <tr style=\"text-align: right;\">\n",
       "      <th></th>\n",
       "      <th>customers_level_based</th>\n",
       "      <th>PRICE</th>\n",
       "    </tr>\n",
       "  </thead>\n",
       "  <tbody>\n",
       "    <tr>\n",
       "      <th>0</th>\n",
       "      <td>BRA_ANDROID_FEMALE_(0_18]</td>\n",
       "      <td>35.645303</td>\n",
       "    </tr>\n",
       "    <tr>\n",
       "      <th>1</th>\n",
       "      <td>BRA_ANDROID_FEMALE_(18_23]</td>\n",
       "      <td>34.077340</td>\n",
       "    </tr>\n",
       "    <tr>\n",
       "      <th>2</th>\n",
       "      <td>BRA_ANDROID_FEMALE_(23_30]</td>\n",
       "      <td>33.863946</td>\n",
       "    </tr>\n",
       "    <tr>\n",
       "      <th>3</th>\n",
       "      <td>BRA_ANDROID_FEMALE_(30_40]</td>\n",
       "      <td>34.898326</td>\n",
       "    </tr>\n",
       "    <tr>\n",
       "      <th>4</th>\n",
       "      <td>BRA_ANDROID_FEMALE_(40_70]</td>\n",
       "      <td>36.737179</td>\n",
       "    </tr>\n",
       "    <tr>\n",
       "      <th>...</th>\n",
       "      <td>...</td>\n",
       "      <td>...</td>\n",
       "    </tr>\n",
       "    <tr>\n",
       "      <th>104</th>\n",
       "      <td>USA_IOS_MALE_(0_18]</td>\n",
       "      <td>33.983495</td>\n",
       "    </tr>\n",
       "    <tr>\n",
       "      <th>105</th>\n",
       "      <td>USA_IOS_MALE_(18_23]</td>\n",
       "      <td>34.901872</td>\n",
       "    </tr>\n",
       "    <tr>\n",
       "      <th>106</th>\n",
       "      <td>USA_IOS_MALE_(23_30]</td>\n",
       "      <td>34.838143</td>\n",
       "    </tr>\n",
       "    <tr>\n",
       "      <th>107</th>\n",
       "      <td>USA_IOS_MALE_(30_40]</td>\n",
       "      <td>36.206324</td>\n",
       "    </tr>\n",
       "    <tr>\n",
       "      <th>108</th>\n",
       "      <td>USA_IOS_MALE_(40_70]</td>\n",
       "      <td>35.750000</td>\n",
       "    </tr>\n",
       "  </tbody>\n",
       "</table>\n",
       "<p>109 rows × 2 columns</p>\n",
       "</div>"
      ],
      "text/plain": [
       "          customers_level_based      PRICE\n",
       "0     BRA_ANDROID_FEMALE_(0_18]  35.645303\n",
       "1    BRA_ANDROID_FEMALE_(18_23]  34.077340\n",
       "2    BRA_ANDROID_FEMALE_(23_30]  33.863946\n",
       "3    BRA_ANDROID_FEMALE_(30_40]  34.898326\n",
       "4    BRA_ANDROID_FEMALE_(40_70]  36.737179\n",
       "..                          ...        ...\n",
       "104         USA_IOS_MALE_(0_18]  33.983495\n",
       "105        USA_IOS_MALE_(18_23]  34.901872\n",
       "106        USA_IOS_MALE_(23_30]  34.838143\n",
       "107        USA_IOS_MALE_(30_40]  36.206324\n",
       "108        USA_IOS_MALE_(40_70]  35.750000\n",
       "\n",
       "[109 rows x 2 columns]"
      ]
     },
     "execution_count": 27,
     "metadata": {},
     "output_type": "execute_result"
    }
   ],
   "source": [
    "agg_df = agg_df.groupby(\"customers_level_based\").agg({\"PRICE\":\"mean\"})\n",
    "agg_df.reset_index(inplace=True)\n",
    "agg_df"
   ]
  },
  {
   "cell_type": "markdown",
   "id": "fe656da0",
   "metadata": {
    "id": "fe656da0"
   },
   "source": [
    "# Görev 7:"
   ]
  },
  {
   "cell_type": "markdown",
   "id": "a3c5e542",
   "metadata": {
    "id": "a3c5e542"
   },
   "source": [
    "Yeni müşterileri (personaları) segmentlere ayırınız.\n",
    "▪ Yeni müşterileri (Örnek: USA_ANDROID_MALE_0_18) PRICE’a göre 4 segmente ayırınız.\n",
    "▪ Segmentleri SEGMENT isimlendirmesi ile değişken olarak agg_df’e ekleyiniz.\n",
    "▪ Segmentleri betimleyiniz (Segmentlere göre group by yapıp price mean, max, sum’larını alınız).\n",
    "▪ C segmentini analiz ediniz (Veri setinden sadece C segmentini çekip analiz ediniz)."
   ]
  },
  {
   "cell_type": "code",
   "execution_count": 28,
   "id": "0c9a4e01",
   "metadata": {
    "executionInfo": {
     "elapsed": 32,
     "status": "aborted",
     "timestamp": 1657803415188,
     "user": {
      "displayName": "Yusuf Yağcı",
      "userId": "03986848679462977600"
     },
     "user_tz": -180
    },
    "id": "0c9a4e01"
   },
   "outputs": [
    {
     "data": {
      "text/html": [
       "<div>\n",
       "<style scoped>\n",
       "    .dataframe tbody tr th:only-of-type {\n",
       "        vertical-align: middle;\n",
       "    }\n",
       "\n",
       "    .dataframe tbody tr th {\n",
       "        vertical-align: top;\n",
       "    }\n",
       "\n",
       "    .dataframe thead tr th {\n",
       "        text-align: left;\n",
       "    }\n",
       "\n",
       "    .dataframe thead tr:last-of-type th {\n",
       "        text-align: right;\n",
       "    }\n",
       "</style>\n",
       "<table border=\"1\" class=\"dataframe\">\n",
       "  <thead>\n",
       "    <tr>\n",
       "      <th></th>\n",
       "      <th colspan=\"8\" halign=\"left\">PRICE</th>\n",
       "    </tr>\n",
       "    <tr>\n",
       "      <th></th>\n",
       "      <th>count</th>\n",
       "      <th>mean</th>\n",
       "      <th>std</th>\n",
       "      <th>min</th>\n",
       "      <th>25%</th>\n",
       "      <th>50%</th>\n",
       "      <th>75%</th>\n",
       "      <th>max</th>\n",
       "    </tr>\n",
       "    <tr>\n",
       "      <th>SEGMENT</th>\n",
       "      <th></th>\n",
       "      <th></th>\n",
       "      <th></th>\n",
       "      <th></th>\n",
       "      <th></th>\n",
       "      <th></th>\n",
       "      <th></th>\n",
       "      <th></th>\n",
       "    </tr>\n",
       "  </thead>\n",
       "  <tbody>\n",
       "    <tr>\n",
       "      <th>D</th>\n",
       "      <td>28.0</td>\n",
       "      <td>29.206780</td>\n",
       "      <td>3.638037</td>\n",
       "      <td>19.000000</td>\n",
       "      <td>28.313988</td>\n",
       "      <td>30.956140</td>\n",
       "      <td>31.389706</td>\n",
       "      <td>32.333333</td>\n",
       "    </tr>\n",
       "    <tr>\n",
       "      <th>C</th>\n",
       "      <td>27.0</td>\n",
       "      <td>33.509674</td>\n",
       "      <td>0.492587</td>\n",
       "      <td>32.500000</td>\n",
       "      <td>33.000000</td>\n",
       "      <td>33.627634</td>\n",
       "      <td>34.000000</td>\n",
       "      <td>34.077340</td>\n",
       "    </tr>\n",
       "    <tr>\n",
       "      <th>B</th>\n",
       "      <td>27.0</td>\n",
       "      <td>34.999645</td>\n",
       "      <td>0.636502</td>\n",
       "      <td>34.103727</td>\n",
       "      <td>34.366031</td>\n",
       "      <td>34.900410</td>\n",
       "      <td>35.598086</td>\n",
       "      <td>36.000000</td>\n",
       "    </tr>\n",
       "    <tr>\n",
       "      <th>A</th>\n",
       "      <td>27.0</td>\n",
       "      <td>38.691234</td>\n",
       "      <td>2.581762</td>\n",
       "      <td>36.060606</td>\n",
       "      <td>36.741606</td>\n",
       "      <td>37.685764</td>\n",
       "      <td>39.880952</td>\n",
       "      <td>45.428571</td>\n",
       "    </tr>\n",
       "  </tbody>\n",
       "</table>\n",
       "</div>"
      ],
      "text/plain": [
       "        PRICE                                                        \\\n",
       "        count       mean       std        min        25%        50%   \n",
       "SEGMENT                                                               \n",
       "D        28.0  29.206780  3.638037  19.000000  28.313988  30.956140   \n",
       "C        27.0  33.509674  0.492587  32.500000  33.000000  33.627634   \n",
       "B        27.0  34.999645  0.636502  34.103727  34.366031  34.900410   \n",
       "A        27.0  38.691234  2.581762  36.060606  36.741606  37.685764   \n",
       "\n",
       "                               \n",
       "               75%        max  \n",
       "SEGMENT                        \n",
       "D        31.389706  32.333333  \n",
       "C        34.000000  34.077340  \n",
       "B        35.598086  36.000000  \n",
       "A        39.880952  45.428571  "
      ]
     },
     "execution_count": 28,
     "metadata": {},
     "output_type": "execute_result"
    }
   ],
   "source": [
    "agg_df[\"SEGMENT\"]=pd.qcut(agg_df[\"PRICE\"],4, labels=[\"D\",\"C\",\"B\",\"A\"])\n",
    "agg_df.groupby(\"SEGMENT\").describe()"
   ]
  },
  {
   "cell_type": "code",
   "execution_count": 29,
   "id": "c2c3e625",
   "metadata": {
    "executionInfo": {
     "elapsed": 31,
     "status": "aborted",
     "timestamp": 1657803415188,
     "user": {
      "displayName": "Yusuf Yağcı",
      "userId": "03986848679462977600"
     },
     "user_tz": -180
    },
    "id": "c2c3e625"
   },
   "outputs": [
    {
     "data": {
      "text/html": [
       "<div>\n",
       "<style scoped>\n",
       "    .dataframe tbody tr th:only-of-type {\n",
       "        vertical-align: middle;\n",
       "    }\n",
       "\n",
       "    .dataframe tbody tr th {\n",
       "        vertical-align: top;\n",
       "    }\n",
       "\n",
       "    .dataframe thead th {\n",
       "        text-align: right;\n",
       "    }\n",
       "</style>\n",
       "<table border=\"1\" class=\"dataframe\">\n",
       "  <thead>\n",
       "    <tr style=\"text-align: right;\">\n",
       "      <th></th>\n",
       "      <th>customers_level_based</th>\n",
       "      <th>PRICE</th>\n",
       "      <th>SEGMENT</th>\n",
       "    </tr>\n",
       "  </thead>\n",
       "  <tbody>\n",
       "    <tr>\n",
       "      <th>1</th>\n",
       "      <td>BRA_ANDROID_FEMALE_(18_23]</td>\n",
       "      <td>34.077340</td>\n",
       "      <td>C</td>\n",
       "    </tr>\n",
       "    <tr>\n",
       "      <th>2</th>\n",
       "      <td>BRA_ANDROID_FEMALE_(23_30]</td>\n",
       "      <td>33.863946</td>\n",
       "      <td>C</td>\n",
       "    </tr>\n",
       "    <tr>\n",
       "      <th>7</th>\n",
       "      <td>BRA_ANDROID_MALE_(23_30]</td>\n",
       "      <td>33.413919</td>\n",
       "      <td>C</td>\n",
       "    </tr>\n",
       "    <tr>\n",
       "      <th>12</th>\n",
       "      <td>BRA_IOS_FEMALE_(23_30]</td>\n",
       "      <td>34.015873</td>\n",
       "      <td>C</td>\n",
       "    </tr>\n",
       "    <tr>\n",
       "      <th>17</th>\n",
       "      <td>BRA_IOS_MALE_(23_30]</td>\n",
       "      <td>33.864865</td>\n",
       "      <td>C</td>\n",
       "    </tr>\n",
       "    <tr>\n",
       "      <th>23</th>\n",
       "      <td>CAN_ANDROID_FEMALE_(40_70]</td>\n",
       "      <td>34.000000</td>\n",
       "      <td>C</td>\n",
       "    </tr>\n",
       "    <tr>\n",
       "      <th>35</th>\n",
       "      <td>DEU_ANDROID_FEMALE_(18_23]</td>\n",
       "      <td>33.333333</td>\n",
       "      <td>C</td>\n",
       "    </tr>\n",
       "    <tr>\n",
       "      <th>36</th>\n",
       "      <td>DEU_ANDROID_FEMALE_(23_30]</td>\n",
       "      <td>33.569129</td>\n",
       "      <td>C</td>\n",
       "    </tr>\n",
       "    <tr>\n",
       "      <th>44</th>\n",
       "      <td>DEU_IOS_FEMALE_(18_23]</td>\n",
       "      <td>34.000000</td>\n",
       "      <td>C</td>\n",
       "    </tr>\n",
       "    <tr>\n",
       "      <th>45</th>\n",
       "      <td>DEU_IOS_FEMALE_(23_30]</td>\n",
       "      <td>32.500000</td>\n",
       "      <td>C</td>\n",
       "    </tr>\n",
       "    <tr>\n",
       "      <th>46</th>\n",
       "      <td>DEU_IOS_FEMALE_(30_40]</td>\n",
       "      <td>33.000000</td>\n",
       "      <td>C</td>\n",
       "    </tr>\n",
       "    <tr>\n",
       "      <th>49</th>\n",
       "      <td>DEU_IOS_MALE_(23_30]</td>\n",
       "      <td>33.000000</td>\n",
       "      <td>C</td>\n",
       "    </tr>\n",
       "    <tr>\n",
       "      <th>53</th>\n",
       "      <td>FRA_ANDROID_FEMALE_(18_23]</td>\n",
       "      <td>32.819444</td>\n",
       "      <td>C</td>\n",
       "    </tr>\n",
       "    <tr>\n",
       "      <th>55</th>\n",
       "      <td>FRA_ANDROID_FEMALE_(30_40]</td>\n",
       "      <td>34.000000</td>\n",
       "      <td>C</td>\n",
       "    </tr>\n",
       "    <tr>\n",
       "      <th>58</th>\n",
       "      <td>FRA_ANDROID_MALE_(23_30]</td>\n",
       "      <td>33.000000</td>\n",
       "      <td>C</td>\n",
       "    </tr>\n",
       "    <tr>\n",
       "      <th>60</th>\n",
       "      <td>FRA_ANDROID_MALE_(40_70]</td>\n",
       "      <td>34.000000</td>\n",
       "      <td>C</td>\n",
       "    </tr>\n",
       "    <tr>\n",
       "      <th>63</th>\n",
       "      <td>FRA_IOS_FEMALE_(30_40]</td>\n",
       "      <td>32.818182</td>\n",
       "      <td>C</td>\n",
       "    </tr>\n",
       "    <tr>\n",
       "      <th>64</th>\n",
       "      <td>FRA_IOS_MALE_(0_18]</td>\n",
       "      <td>33.444444</td>\n",
       "      <td>C</td>\n",
       "    </tr>\n",
       "    <tr>\n",
       "      <th>67</th>\n",
       "      <td>FRA_IOS_MALE_(30_40]</td>\n",
       "      <td>33.687500</td>\n",
       "      <td>C</td>\n",
       "    </tr>\n",
       "    <tr>\n",
       "      <th>70</th>\n",
       "      <td>TUR_ANDROID_FEMALE_(18_23]</td>\n",
       "      <td>33.444444</td>\n",
       "      <td>C</td>\n",
       "    </tr>\n",
       "    <tr>\n",
       "      <th>81</th>\n",
       "      <td>TUR_IOS_FEMALE_(23_30]</td>\n",
       "      <td>34.000000</td>\n",
       "      <td>C</td>\n",
       "    </tr>\n",
       "    <tr>\n",
       "      <th>83</th>\n",
       "      <td>TUR_IOS_FEMALE_(40_70]</td>\n",
       "      <td>34.000000</td>\n",
       "      <td>C</td>\n",
       "    </tr>\n",
       "    <tr>\n",
       "      <th>89</th>\n",
       "      <td>USA_ANDROID_FEMALE_(0_18]</td>\n",
       "      <td>33.649390</td>\n",
       "      <td>C</td>\n",
       "    </tr>\n",
       "    <tr>\n",
       "      <th>90</th>\n",
       "      <td>USA_ANDROID_FEMALE_(18_23]</td>\n",
       "      <td>33.627634</td>\n",
       "      <td>C</td>\n",
       "    </tr>\n",
       "    <tr>\n",
       "      <th>92</th>\n",
       "      <td>USA_ANDROID_FEMALE_(30_40]</td>\n",
       "      <td>32.803030</td>\n",
       "      <td>C</td>\n",
       "    </tr>\n",
       "    <tr>\n",
       "      <th>101</th>\n",
       "      <td>USA_IOS_FEMALE_(23_30]</td>\n",
       "      <td>32.845238</td>\n",
       "      <td>C</td>\n",
       "    </tr>\n",
       "    <tr>\n",
       "      <th>104</th>\n",
       "      <td>USA_IOS_MALE_(0_18]</td>\n",
       "      <td>33.983495</td>\n",
       "      <td>C</td>\n",
       "    </tr>\n",
       "  </tbody>\n",
       "</table>\n",
       "</div>"
      ],
      "text/plain": [
       "          customers_level_based      PRICE SEGMENT\n",
       "1    BRA_ANDROID_FEMALE_(18_23]  34.077340       C\n",
       "2    BRA_ANDROID_FEMALE_(23_30]  33.863946       C\n",
       "7      BRA_ANDROID_MALE_(23_30]  33.413919       C\n",
       "12       BRA_IOS_FEMALE_(23_30]  34.015873       C\n",
       "17         BRA_IOS_MALE_(23_30]  33.864865       C\n",
       "23   CAN_ANDROID_FEMALE_(40_70]  34.000000       C\n",
       "35   DEU_ANDROID_FEMALE_(18_23]  33.333333       C\n",
       "36   DEU_ANDROID_FEMALE_(23_30]  33.569129       C\n",
       "44       DEU_IOS_FEMALE_(18_23]  34.000000       C\n",
       "45       DEU_IOS_FEMALE_(23_30]  32.500000       C\n",
       "46       DEU_IOS_FEMALE_(30_40]  33.000000       C\n",
       "49         DEU_IOS_MALE_(23_30]  33.000000       C\n",
       "53   FRA_ANDROID_FEMALE_(18_23]  32.819444       C\n",
       "55   FRA_ANDROID_FEMALE_(30_40]  34.000000       C\n",
       "58     FRA_ANDROID_MALE_(23_30]  33.000000       C\n",
       "60     FRA_ANDROID_MALE_(40_70]  34.000000       C\n",
       "63       FRA_IOS_FEMALE_(30_40]  32.818182       C\n",
       "64          FRA_IOS_MALE_(0_18]  33.444444       C\n",
       "67         FRA_IOS_MALE_(30_40]  33.687500       C\n",
       "70   TUR_ANDROID_FEMALE_(18_23]  33.444444       C\n",
       "81       TUR_IOS_FEMALE_(23_30]  34.000000       C\n",
       "83       TUR_IOS_FEMALE_(40_70]  34.000000       C\n",
       "89    USA_ANDROID_FEMALE_(0_18]  33.649390       C\n",
       "90   USA_ANDROID_FEMALE_(18_23]  33.627634       C\n",
       "92   USA_ANDROID_FEMALE_(30_40]  32.803030       C\n",
       "101      USA_IOS_FEMALE_(23_30]  32.845238       C\n",
       "104         USA_IOS_MALE_(0_18]  33.983495       C"
      ]
     },
     "execution_count": 29,
     "metadata": {},
     "output_type": "execute_result"
    }
   ],
   "source": [
    "s= agg_df[agg_df[\"SEGMENT\"]==\"C\"]\n",
    "s"
   ]
  },
  {
   "cell_type": "markdown",
   "id": "d3de4bd0",
   "metadata": {
    "id": "d3de4bd0"
   },
   "source": [
    "33 yaşında ANDROID kullanan bir Türk kadını hangi segmente aittir ve \n",
    "ortalama ne kadar gelir kazandırması beklenir?"
   ]
  },
  {
   "cell_type": "code",
   "execution_count": 30,
   "id": "6e50f232",
   "metadata": {
    "executionInfo": {
     "elapsed": 30,
     "status": "aborted",
     "timestamp": 1657803415189,
     "user": {
      "displayName": "Yusuf Yağcı",
      "userId": "03986848679462977600"
     },
     "user_tz": -180
    },
    "id": "6e50f232"
   },
   "outputs": [
    {
     "data": {
      "text/html": [
       "<div>\n",
       "<style scoped>\n",
       "    .dataframe tbody tr th:only-of-type {\n",
       "        vertical-align: middle;\n",
       "    }\n",
       "\n",
       "    .dataframe tbody tr th {\n",
       "        vertical-align: top;\n",
       "    }\n",
       "\n",
       "    .dataframe thead th {\n",
       "        text-align: right;\n",
       "    }\n",
       "</style>\n",
       "<table border=\"1\" class=\"dataframe\">\n",
       "  <thead>\n",
       "    <tr style=\"text-align: right;\">\n",
       "      <th></th>\n",
       "      <th>customers_level_based</th>\n",
       "      <th>PRICE</th>\n",
       "      <th>SEGMENT</th>\n",
       "    </tr>\n",
       "  </thead>\n",
       "  <tbody>\n",
       "    <tr>\n",
       "      <th>72</th>\n",
       "      <td>TUR_ANDROID_FEMALE_(30_40]</td>\n",
       "      <td>41.833333</td>\n",
       "      <td>A</td>\n",
       "    </tr>\n",
       "  </tbody>\n",
       "</table>\n",
       "</div>"
      ],
      "text/plain": [
       "         customers_level_based      PRICE SEGMENT\n",
       "72  TUR_ANDROID_FEMALE_(30_40]  41.833333       A"
      ]
     },
     "execution_count": 30,
     "metadata": {},
     "output_type": "execute_result"
    }
   ],
   "source": [
    "new_user_1=\"TUR_ANDROID_FEMALE_(30_40]\"\n",
    "agg_df[agg_df[\"customers_level_based\"] == new_user_1]"
   ]
  },
  {
   "cell_type": "code",
   "execution_count": 31,
   "id": "4e737f81",
   "metadata": {
    "executionInfo": {
     "elapsed": 29,
     "status": "aborted",
     "timestamp": 1657803415189,
     "user": {
      "displayName": "Yusuf Yağcı",
      "userId": "03986848679462977600"
     },
     "user_tz": -180
    },
    "id": "4e737f81"
   },
   "outputs": [
    {
     "data": {
      "text/html": [
       "<div>\n",
       "<style scoped>\n",
       "    .dataframe tbody tr th:only-of-type {\n",
       "        vertical-align: middle;\n",
       "    }\n",
       "\n",
       "    .dataframe tbody tr th {\n",
       "        vertical-align: top;\n",
       "    }\n",
       "\n",
       "    .dataframe thead th {\n",
       "        text-align: right;\n",
       "    }\n",
       "</style>\n",
       "<table border=\"1\" class=\"dataframe\">\n",
       "  <thead>\n",
       "    <tr style=\"text-align: right;\">\n",
       "      <th></th>\n",
       "      <th>customers_level_based</th>\n",
       "      <th>PRICE</th>\n",
       "      <th>SEGMENT</th>\n",
       "    </tr>\n",
       "  </thead>\n",
       "  <tbody>\n",
       "    <tr>\n",
       "      <th>63</th>\n",
       "      <td>FRA_IOS_FEMALE_(30_40]</td>\n",
       "      <td>32.818182</td>\n",
       "      <td>C</td>\n",
       "    </tr>\n",
       "  </tbody>\n",
       "</table>\n",
       "</div>"
      ],
      "text/plain": [
       "     customers_level_based      PRICE SEGMENT\n",
       "63  FRA_IOS_FEMALE_(30_40]  32.818182       C"
      ]
     },
     "execution_count": 31,
     "metadata": {},
     "output_type": "execute_result"
    }
   ],
   "source": [
    "new_user_2=\"FRA_IOS_FEMALE_(30_40]\"\n",
    "agg_df[agg_df[\"customers_level_based\"] == new_user_2]"
   ]
  }
 ],
 "metadata": {
  "accelerator": "GPU",
  "colab": {
   "name": "Ders2_Odev.ipynb",
   "provenance": []
  },
  "gpuClass": "standard",
  "kernelspec": {
   "display_name": "Python 3 (ipykernel)",
   "language": "python",
   "name": "python3"
  },
  "language_info": {
   "codemirror_mode": {
    "name": "ipython",
    "version": 3
   },
   "file_extension": ".py",
   "mimetype": "text/x-python",
   "name": "python",
   "nbconvert_exporter": "python",
   "pygments_lexer": "ipython3",
   "version": "3.9.12"
  }
 },
 "nbformat": 4,
 "nbformat_minor": 5
}
