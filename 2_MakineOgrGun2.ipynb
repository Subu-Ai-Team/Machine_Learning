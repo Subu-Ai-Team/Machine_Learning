{
 "cells": [
  {
   "cell_type": "markdown",
   "id": "0abc8230",
   "metadata": {},
   "source": [
    "# Olimpiyatlar Veri Seti ile Veri Hazırlama"
   ]
  },
  {
   "cell_type": "code",
   "execution_count": 1,
   "id": "e53b67af",
   "metadata": {},
   "outputs": [],
   "source": [
    "import numpy as np\n",
    "import pandas as pd\n",
    "import seaborn as sns\n",
    "import matplotlib.pyplot as plt\n",
    "from collections import Counter\n",
    "\n",
    "import warnings\n",
    "warnings.filterwarnings(\"ignore\")"
   ]
  },
  {
   "cell_type": "code",
   "execution_count": 2,
   "id": "47324617",
   "metadata": {},
   "outputs": [
    {
     "data": {
      "text/html": [
       "<div>\n",
       "<style scoped>\n",
       "    .dataframe tbody tr th:only-of-type {\n",
       "        vertical-align: middle;\n",
       "    }\n",
       "\n",
       "    .dataframe tbody tr th {\n",
       "        vertical-align: top;\n",
       "    }\n",
       "\n",
       "    .dataframe thead th {\n",
       "        text-align: right;\n",
       "    }\n",
       "</style>\n",
       "<table border=\"1\" class=\"dataframe\">\n",
       "  <thead>\n",
       "    <tr style=\"text-align: right;\">\n",
       "      <th></th>\n",
       "      <th>ID</th>\n",
       "      <th>Name</th>\n",
       "      <th>Sex</th>\n",
       "      <th>Age</th>\n",
       "      <th>Height</th>\n",
       "      <th>Weight</th>\n",
       "      <th>Team</th>\n",
       "      <th>NOC</th>\n",
       "      <th>Games</th>\n",
       "      <th>Year</th>\n",
       "      <th>Season</th>\n",
       "      <th>City</th>\n",
       "      <th>Sport</th>\n",
       "      <th>Event</th>\n",
       "      <th>Medal</th>\n",
       "    </tr>\n",
       "  </thead>\n",
       "  <tbody>\n",
       "    <tr>\n",
       "      <th>0</th>\n",
       "      <td>1</td>\n",
       "      <td>A Dijiang</td>\n",
       "      <td>M</td>\n",
       "      <td>24.0</td>\n",
       "      <td>180.0</td>\n",
       "      <td>80.0</td>\n",
       "      <td>China</td>\n",
       "      <td>CHN</td>\n",
       "      <td>1992 Summer</td>\n",
       "      <td>1992</td>\n",
       "      <td>Summer</td>\n",
       "      <td>Barcelona</td>\n",
       "      <td>Basketball</td>\n",
       "      <td>Basketball Men's Basketball</td>\n",
       "      <td>NaN</td>\n",
       "    </tr>\n",
       "    <tr>\n",
       "      <th>1</th>\n",
       "      <td>2</td>\n",
       "      <td>A Lamusi</td>\n",
       "      <td>M</td>\n",
       "      <td>23.0</td>\n",
       "      <td>170.0</td>\n",
       "      <td>60.0</td>\n",
       "      <td>China</td>\n",
       "      <td>CHN</td>\n",
       "      <td>2012 Summer</td>\n",
       "      <td>2012</td>\n",
       "      <td>Summer</td>\n",
       "      <td>London</td>\n",
       "      <td>Judo</td>\n",
       "      <td>Judo Men's Extra-Lightweight</td>\n",
       "      <td>NaN</td>\n",
       "    </tr>\n",
       "    <tr>\n",
       "      <th>2</th>\n",
       "      <td>3</td>\n",
       "      <td>Gunnar Nielsen Aaby</td>\n",
       "      <td>M</td>\n",
       "      <td>24.0</td>\n",
       "      <td>NaN</td>\n",
       "      <td>NaN</td>\n",
       "      <td>Denmark</td>\n",
       "      <td>DEN</td>\n",
       "      <td>1920 Summer</td>\n",
       "      <td>1920</td>\n",
       "      <td>Summer</td>\n",
       "      <td>Antwerpen</td>\n",
       "      <td>Football</td>\n",
       "      <td>Football Men's Football</td>\n",
       "      <td>NaN</td>\n",
       "    </tr>\n",
       "    <tr>\n",
       "      <th>3</th>\n",
       "      <td>4</td>\n",
       "      <td>Edgar Lindenau Aabye</td>\n",
       "      <td>M</td>\n",
       "      <td>34.0</td>\n",
       "      <td>NaN</td>\n",
       "      <td>NaN</td>\n",
       "      <td>Denmark/Sweden</td>\n",
       "      <td>DEN</td>\n",
       "      <td>1900 Summer</td>\n",
       "      <td>1900</td>\n",
       "      <td>Summer</td>\n",
       "      <td>Paris</td>\n",
       "      <td>Tug-Of-War</td>\n",
       "      <td>Tug-Of-War Men's Tug-Of-War</td>\n",
       "      <td>Gold</td>\n",
       "    </tr>\n",
       "    <tr>\n",
       "      <th>4</th>\n",
       "      <td>5</td>\n",
       "      <td>Christine Jacoba Aaftink</td>\n",
       "      <td>F</td>\n",
       "      <td>21.0</td>\n",
       "      <td>185.0</td>\n",
       "      <td>82.0</td>\n",
       "      <td>Netherlands</td>\n",
       "      <td>NED</td>\n",
       "      <td>1988 Winter</td>\n",
       "      <td>1988</td>\n",
       "      <td>Winter</td>\n",
       "      <td>Calgary</td>\n",
       "      <td>Speed Skating</td>\n",
       "      <td>Speed Skating Women's 500 metres</td>\n",
       "      <td>NaN</td>\n",
       "    </tr>\n",
       "  </tbody>\n",
       "</table>\n",
       "</div>"
      ],
      "text/plain": [
       "   ID                      Name Sex   Age  Height  Weight            Team  \\\n",
       "0   1                 A Dijiang   M  24.0   180.0    80.0           China   \n",
       "1   2                  A Lamusi   M  23.0   170.0    60.0           China   \n",
       "2   3       Gunnar Nielsen Aaby   M  24.0     NaN     NaN         Denmark   \n",
       "3   4      Edgar Lindenau Aabye   M  34.0     NaN     NaN  Denmark/Sweden   \n",
       "4   5  Christine Jacoba Aaftink   F  21.0   185.0    82.0     Netherlands   \n",
       "\n",
       "   NOC        Games  Year  Season       City          Sport  \\\n",
       "0  CHN  1992 Summer  1992  Summer  Barcelona     Basketball   \n",
       "1  CHN  2012 Summer  2012  Summer     London           Judo   \n",
       "2  DEN  1920 Summer  1920  Summer  Antwerpen       Football   \n",
       "3  DEN  1900 Summer  1900  Summer      Paris     Tug-Of-War   \n",
       "4  NED  1988 Winter  1988  Winter    Calgary  Speed Skating   \n",
       "\n",
       "                              Event Medal  \n",
       "0       Basketball Men's Basketball   NaN  \n",
       "1      Judo Men's Extra-Lightweight   NaN  \n",
       "2           Football Men's Football   NaN  \n",
       "3       Tug-Of-War Men's Tug-Of-War  Gold  \n",
       "4  Speed Skating Women's 500 metres   NaN  "
      ]
     },
     "execution_count": 2,
     "metadata": {},
     "output_type": "execute_result"
    }
   ],
   "source": [
    "# Veriyi İçeri Aktarma\n",
    "veri= pd.read_csv(\"olimpiyatlar.csv\")\n",
    "veri.head()"
   ]
  },
  {
   "cell_type": "code",
   "execution_count": 3,
   "id": "15da920a",
   "metadata": {},
   "outputs": [
    {
     "name": "stdout",
     "output_type": "stream",
     "text": [
      "<class 'pandas.core.frame.DataFrame'>\n",
      "RangeIndex: 271116 entries, 0 to 271115\n",
      "Data columns (total 15 columns):\n",
      " #   Column  Non-Null Count   Dtype  \n",
      "---  ------  --------------   -----  \n",
      " 0   ID      271116 non-null  int64  \n",
      " 1   Name    271116 non-null  object \n",
      " 2   Sex     271116 non-null  object \n",
      " 3   Age     261642 non-null  float64\n",
      " 4   Height  210945 non-null  float64\n",
      " 5   Weight  208241 non-null  float64\n",
      " 6   Team    271116 non-null  object \n",
      " 7   NOC     271116 non-null  object \n",
      " 8   Games   271116 non-null  object \n",
      " 9   Year    271116 non-null  int64  \n",
      " 10  Season  271116 non-null  object \n",
      " 11  City    271116 non-null  object \n",
      " 12  Sport   271116 non-null  object \n",
      " 13  Event   271116 non-null  object \n",
      " 14  Medal   39783 non-null   object \n",
      "dtypes: float64(3), int64(2), object(10)\n",
      "memory usage: 31.0+ MB\n"
     ]
    }
   ],
   "source": [
    "veri.info()"
   ]
  },
  {
   "cell_type": "code",
   "execution_count": 4,
   "id": "52c3aef6",
   "metadata": {},
   "outputs": [],
   "source": [
    "def describe_function(df):\n",
    "    print(\"Describe\", df.describe().T)\n",
    "    a= print(\"Null ?\", df.isnull().values.any())"
   ]
  },
  {
   "cell_type": "code",
   "execution_count": 5,
   "id": "cda5fe95",
   "metadata": {},
   "outputs": [
    {
     "name": "stdout",
     "output_type": "stream",
     "text": [
      "Describe            count          mean           std     min      25%      50%  \\\n",
      "ID      271116.0  68248.954396  39022.286345     1.0  34643.0  68205.0   \n",
      "Age     261642.0     25.556898      6.393561    10.0     21.0     24.0   \n",
      "Height  210945.0    175.338970     10.518462   127.0    168.0    175.0   \n",
      "Weight  208241.0     70.702393     14.348020    25.0     60.0     70.0   \n",
      "Year    271116.0   1978.378480     29.877632  1896.0   1960.0   1988.0   \n",
      "\n",
      "              75%       max  \n",
      "ID      102097.25  135571.0  \n",
      "Age         28.00      97.0  \n",
      "Height     183.00     226.0  \n",
      "Weight      79.00     214.0  \n",
      "Year      2002.00    2016.0  \n",
      "Null ? True\n"
     ]
    }
   ],
   "source": [
    "describe_function(veri)"
   ]
  },
  {
   "cell_type": "markdown",
   "id": "6afcf9d4",
   "metadata": {},
   "source": [
    "# Verilerin Temizlenmesi"
   ]
  },
  {
   "cell_type": "markdown",
   "id": "a79ae2e5",
   "metadata": {},
   "source": [
    "1. Sütun isimlerinin düzenlenmesi\n",
    "2. Yararsız verilerin çıkarılması ve düzenlenmesi\n",
    "3. Kayıp veri sorunu"
   ]
  },
  {
   "cell_type": "markdown",
   "id": "d089f862",
   "metadata": {},
   "source": [
    "# Sütun İsimlerinin Düzenlenmesi"
   ]
  },
  {
   "cell_type": "markdown",
   "id": "8551ef8e",
   "metadata": {},
   "source": [
    "Bu bölümde veri içinde bulunan isimleri inceleyeceğiz ve bu isimleri Türkçeye çevireceğiz."
   ]
  },
  {
   "cell_type": "code",
   "execution_count": 6,
   "id": "6c6bb07c",
   "metadata": {},
   "outputs": [
    {
     "data": {
      "text/plain": [
       "Index(['ID', 'Name', 'Sex', 'Age', 'Height', 'Weight', 'Team', 'NOC', 'Games',\n",
       "       'Year', 'Season', 'City', 'Sport', 'Event', 'Medal'],\n",
       "      dtype='object')"
      ]
     },
     "execution_count": 6,
     "metadata": {},
     "output_type": "execute_result"
    }
   ],
   "source": [
    "veri.columns"
   ]
  },
  {
   "cell_type": "code",
   "execution_count": 7,
   "id": "93b4fcec",
   "metadata": {},
   "outputs": [
    {
     "data": {
      "text/html": [
       "<div>\n",
       "<style scoped>\n",
       "    .dataframe tbody tr th:only-of-type {\n",
       "        vertical-align: middle;\n",
       "    }\n",
       "\n",
       "    .dataframe tbody tr th {\n",
       "        vertical-align: top;\n",
       "    }\n",
       "\n",
       "    .dataframe thead th {\n",
       "        text-align: right;\n",
       "    }\n",
       "</style>\n",
       "<table border=\"1\" class=\"dataframe\">\n",
       "  <thead>\n",
       "    <tr style=\"text-align: right;\">\n",
       "      <th></th>\n",
       "      <th>id</th>\n",
       "      <th>isim</th>\n",
       "      <th>cinsiyet</th>\n",
       "      <th>yas</th>\n",
       "      <th>boy</th>\n",
       "      <th>kilo</th>\n",
       "      <th>takim</th>\n",
       "      <th>uok</th>\n",
       "      <th>oyunlar</th>\n",
       "      <th>yil</th>\n",
       "      <th>sezon</th>\n",
       "      <th>sehir</th>\n",
       "      <th>spor</th>\n",
       "      <th>etkinlik</th>\n",
       "      <th>madalya</th>\n",
       "    </tr>\n",
       "  </thead>\n",
       "  <tbody>\n",
       "    <tr>\n",
       "      <th>0</th>\n",
       "      <td>1</td>\n",
       "      <td>A Dijiang</td>\n",
       "      <td>M</td>\n",
       "      <td>24.0</td>\n",
       "      <td>180.0</td>\n",
       "      <td>80.0</td>\n",
       "      <td>China</td>\n",
       "      <td>CHN</td>\n",
       "      <td>1992 Summer</td>\n",
       "      <td>1992</td>\n",
       "      <td>Summer</td>\n",
       "      <td>Barcelona</td>\n",
       "      <td>Basketball</td>\n",
       "      <td>Basketball Men's Basketball</td>\n",
       "      <td>NaN</td>\n",
       "    </tr>\n",
       "    <tr>\n",
       "      <th>1</th>\n",
       "      <td>2</td>\n",
       "      <td>A Lamusi</td>\n",
       "      <td>M</td>\n",
       "      <td>23.0</td>\n",
       "      <td>170.0</td>\n",
       "      <td>60.0</td>\n",
       "      <td>China</td>\n",
       "      <td>CHN</td>\n",
       "      <td>2012 Summer</td>\n",
       "      <td>2012</td>\n",
       "      <td>Summer</td>\n",
       "      <td>London</td>\n",
       "      <td>Judo</td>\n",
       "      <td>Judo Men's Extra-Lightweight</td>\n",
       "      <td>NaN</td>\n",
       "    </tr>\n",
       "    <tr>\n",
       "      <th>2</th>\n",
       "      <td>3</td>\n",
       "      <td>Gunnar Nielsen Aaby</td>\n",
       "      <td>M</td>\n",
       "      <td>24.0</td>\n",
       "      <td>NaN</td>\n",
       "      <td>NaN</td>\n",
       "      <td>Denmark</td>\n",
       "      <td>DEN</td>\n",
       "      <td>1920 Summer</td>\n",
       "      <td>1920</td>\n",
       "      <td>Summer</td>\n",
       "      <td>Antwerpen</td>\n",
       "      <td>Football</td>\n",
       "      <td>Football Men's Football</td>\n",
       "      <td>NaN</td>\n",
       "    </tr>\n",
       "  </tbody>\n",
       "</table>\n",
       "</div>"
      ],
      "text/plain": [
       "   id                 isim cinsiyet   yas    boy  kilo    takim  uok  \\\n",
       "0   1            A Dijiang        M  24.0  180.0  80.0    China  CHN   \n",
       "1   2             A Lamusi        M  23.0  170.0  60.0    China  CHN   \n",
       "2   3  Gunnar Nielsen Aaby        M  24.0    NaN   NaN  Denmark  DEN   \n",
       "\n",
       "       oyunlar   yil   sezon      sehir        spor  \\\n",
       "0  1992 Summer  1992  Summer  Barcelona  Basketball   \n",
       "1  2012 Summer  2012  Summer     London        Judo   \n",
       "2  1920 Summer  1920  Summer  Antwerpen    Football   \n",
       "\n",
       "                       etkinlik madalya  \n",
       "0   Basketball Men's Basketball     NaN  \n",
       "1  Judo Men's Extra-Lightweight     NaN  \n",
       "2       Football Men's Football     NaN  "
      ]
     },
     "execution_count": 7,
     "metadata": {},
     "output_type": "execute_result"
    }
   ],
   "source": [
    "# sütun isimlerini değiştirme\n",
    "veri.rename(columns={'ID'     : 'id',\n",
    "                     'Name'   : 'isim',\n",
    "                     'Sex'    : 'cinsiyet',\n",
    "                     'Age'    : 'yas',\n",
    "                     'Height' : 'boy',\n",
    "                     'Weight' : 'kilo',\n",
    "                     'Team'   : 'takim',\n",
    "                     'NOC'    : 'uok',\n",
    "                     'Games'  : 'oyunlar',\n",
    "                     'Year'   : 'yil',\n",
    "                     'Season' : 'sezon',\n",
    "                     'City'   : 'sehir',\n",
    "                     'Sport'  : 'spor',\n",
    "                     'Event'  : 'etkinlik',\n",
    "                     'Medal'  : 'madalya'}, inplace = True)\n",
    "veri.head(3)"
   ]
  },
  {
   "cell_type": "markdown",
   "id": "2d78429a",
   "metadata": {},
   "source": [
    "# Yararsız Verilerin Çıkarılması ve Düzenlenmesi"
   ]
  },
  {
   "cell_type": "code",
   "execution_count": 8,
   "id": "9a76f926",
   "metadata": {},
   "outputs": [
    {
     "data": {
      "text/html": [
       "<div>\n",
       "<style scoped>\n",
       "    .dataframe tbody tr th:only-of-type {\n",
       "        vertical-align: middle;\n",
       "    }\n",
       "\n",
       "    .dataframe tbody tr th {\n",
       "        vertical-align: top;\n",
       "    }\n",
       "\n",
       "    .dataframe thead th {\n",
       "        text-align: right;\n",
       "    }\n",
       "</style>\n",
       "<table border=\"1\" class=\"dataframe\">\n",
       "  <thead>\n",
       "    <tr style=\"text-align: right;\">\n",
       "      <th></th>\n",
       "      <th>isim</th>\n",
       "      <th>cinsiyet</th>\n",
       "      <th>yas</th>\n",
       "      <th>boy</th>\n",
       "      <th>kilo</th>\n",
       "      <th>takim</th>\n",
       "      <th>uok</th>\n",
       "      <th>yil</th>\n",
       "      <th>sezon</th>\n",
       "      <th>sehir</th>\n",
       "      <th>spor</th>\n",
       "      <th>etkinlik</th>\n",
       "      <th>madalya</th>\n",
       "    </tr>\n",
       "  </thead>\n",
       "  <tbody>\n",
       "    <tr>\n",
       "      <th>0</th>\n",
       "      <td>A Dijiang</td>\n",
       "      <td>M</td>\n",
       "      <td>24.0</td>\n",
       "      <td>180.0</td>\n",
       "      <td>80.0</td>\n",
       "      <td>China</td>\n",
       "      <td>CHN</td>\n",
       "      <td>1992</td>\n",
       "      <td>Summer</td>\n",
       "      <td>Barcelona</td>\n",
       "      <td>Basketball</td>\n",
       "      <td>Basketball Men's Basketball</td>\n",
       "      <td>NaN</td>\n",
       "    </tr>\n",
       "    <tr>\n",
       "      <th>1</th>\n",
       "      <td>A Lamusi</td>\n",
       "      <td>M</td>\n",
       "      <td>23.0</td>\n",
       "      <td>170.0</td>\n",
       "      <td>60.0</td>\n",
       "      <td>China</td>\n",
       "      <td>CHN</td>\n",
       "      <td>2012</td>\n",
       "      <td>Summer</td>\n",
       "      <td>London</td>\n",
       "      <td>Judo</td>\n",
       "      <td>Judo Men's Extra-Lightweight</td>\n",
       "      <td>NaN</td>\n",
       "    </tr>\n",
       "    <tr>\n",
       "      <th>2</th>\n",
       "      <td>Gunnar Nielsen Aaby</td>\n",
       "      <td>M</td>\n",
       "      <td>24.0</td>\n",
       "      <td>NaN</td>\n",
       "      <td>NaN</td>\n",
       "      <td>Denmark</td>\n",
       "      <td>DEN</td>\n",
       "      <td>1920</td>\n",
       "      <td>Summer</td>\n",
       "      <td>Antwerpen</td>\n",
       "      <td>Football</td>\n",
       "      <td>Football Men's Football</td>\n",
       "      <td>NaN</td>\n",
       "    </tr>\n",
       "    <tr>\n",
       "      <th>3</th>\n",
       "      <td>Edgar Lindenau Aabye</td>\n",
       "      <td>M</td>\n",
       "      <td>34.0</td>\n",
       "      <td>NaN</td>\n",
       "      <td>NaN</td>\n",
       "      <td>Denmark/Sweden</td>\n",
       "      <td>DEN</td>\n",
       "      <td>1900</td>\n",
       "      <td>Summer</td>\n",
       "      <td>Paris</td>\n",
       "      <td>Tug-Of-War</td>\n",
       "      <td>Tug-Of-War Men's Tug-Of-War</td>\n",
       "      <td>Gold</td>\n",
       "    </tr>\n",
       "    <tr>\n",
       "      <th>4</th>\n",
       "      <td>Christine Jacoba Aaftink</td>\n",
       "      <td>F</td>\n",
       "      <td>21.0</td>\n",
       "      <td>185.0</td>\n",
       "      <td>82.0</td>\n",
       "      <td>Netherlands</td>\n",
       "      <td>NED</td>\n",
       "      <td>1988</td>\n",
       "      <td>Winter</td>\n",
       "      <td>Calgary</td>\n",
       "      <td>Speed Skating</td>\n",
       "      <td>Speed Skating Women's 500 metres</td>\n",
       "      <td>NaN</td>\n",
       "    </tr>\n",
       "  </tbody>\n",
       "</table>\n",
       "</div>"
      ],
      "text/plain": [
       "                       isim cinsiyet   yas    boy  kilo           takim  uok  \\\n",
       "0                 A Dijiang        M  24.0  180.0  80.0           China  CHN   \n",
       "1                  A Lamusi        M  23.0  170.0  60.0           China  CHN   \n",
       "2       Gunnar Nielsen Aaby        M  24.0    NaN   NaN         Denmark  DEN   \n",
       "3      Edgar Lindenau Aabye        M  34.0    NaN   NaN  Denmark/Sweden  DEN   \n",
       "4  Christine Jacoba Aaftink        F  21.0  185.0  82.0     Netherlands  NED   \n",
       "\n",
       "    yil   sezon      sehir           spor                          etkinlik  \\\n",
       "0  1992  Summer  Barcelona     Basketball       Basketball Men's Basketball   \n",
       "1  2012  Summer     London           Judo      Judo Men's Extra-Lightweight   \n",
       "2  1920  Summer  Antwerpen       Football           Football Men's Football   \n",
       "3  1900  Summer      Paris     Tug-Of-War       Tug-Of-War Men's Tug-Of-War   \n",
       "4  1988  Winter    Calgary  Speed Skating  Speed Skating Women's 500 metres   \n",
       "\n",
       "  madalya  \n",
       "0     NaN  \n",
       "1     NaN  \n",
       "2     NaN  \n",
       "3    Gold  \n",
       "4     NaN  "
      ]
     },
     "execution_count": 8,
     "metadata": {},
     "output_type": "execute_result"
    }
   ],
   "source": [
    "#drop fonksiyonu ile id ve oyunlar sütunlarını çıkarma\n",
    "veri = veri.drop([\"id\",\"oyunlar\"],axis=1) #axis=1 ssütun anlamında\n",
    "veri.head()"
   ]
  },
  {
   "cell_type": "markdown",
   "id": "1a6fd588",
   "metadata": {},
   "source": [
    "# Kayıp Veri Sorunu"
   ]
  },
  {
   "cell_type": "markdown",
   "id": "6bc02947",
   "metadata": {},
   "source": [
    "Kayıp Veri: Veri içerisinde bulunan örneğin herhangi bir sütunda bulunan değerin olmaması anlamına gelir. NaN = Not a Number (veri bulunmama)"
   ]
  },
  {
   "cell_type": "markdown",
   "id": "8eb50de4",
   "metadata": {},
   "source": [
    "Kayıp veri ile mücadele etmek için,\n",
    "\n",
    "Kayıp veriye ait örnekler veriden çıkarılabilir.\n",
    "Kayıp veriler asıl verinin dağılımını bozmayacak şekilde asıl verinin ortalama ya da medyan değeriyle doldurulabilir. Bu veri üzerinde çalışma yaparken:\n",
    "Boy ve kilo sütunlarında bulunan kayıp veriyi etkinlik ortalamasına göre dolduracağız.\n",
    "Yaş sütununda bulunan kayıp veri setinin yaş ortalamasına göre dolduracağız.\n",
    "Madalya alamayan sporcuları veri setinden çıkarcağız."
   ]
  },
  {
   "cell_type": "markdown",
   "id": "f9c65c42",
   "metadata": {},
   "source": [
    "# Boy ve Kilo Sütunu Kayıp Veri Doldurma"
   ]
  },
  {
   "cell_type": "code",
   "execution_count": 9,
   "id": "8aac0515",
   "metadata": {},
   "outputs": [
    {
     "name": "stdout",
     "output_type": "stream",
     "text": [
      "Eşsiz etkinlik sayısı: 765\n"
     ]
    },
    {
     "data": {
      "text/plain": [
       "array([\"Basketball Men's Basketball\", \"Judo Men's Extra-Lightweight\",\n",
       "       \"Football Men's Football\", \"Tug-Of-War Men's Tug-Of-War\",\n",
       "       \"Speed Skating Women's 500 metres\",\n",
       "       \"Speed Skating Women's 1,000 metres\",\n",
       "       \"Cross Country Skiing Men's 10 kilometres\",\n",
       "       \"Cross Country Skiing Men's 50 kilometres\",\n",
       "       \"Cross Country Skiing Men's 10/15 kilometres Pursuit\",\n",
       "       \"Cross Country Skiing Men's 4 x 10 kilometres Relay\"], dtype=object)"
      ]
     },
     "execution_count": 9,
     "metadata": {},
     "output_type": "execute_result"
    }
   ],
   "source": [
    "essiz_etkinlik = pd.unique(veri.etkinlik)\n",
    "print(\"Eşsiz etkinlik sayısı: {}\".format(len(essiz_etkinlik)))\n",
    "essiz_etkinlik[:10]"
   ]
  },
  {
   "cell_type": "code",
   "execution_count": 10,
   "id": "956823fd",
   "metadata": {},
   "outputs": [
    {
     "name": "stdout",
     "output_type": "stream",
     "text": [
      "<class 'pandas.core.frame.DataFrame'>\n",
      "RangeIndex: 271116 entries, 0 to 271115\n",
      "Data columns (total 13 columns):\n",
      " #   Column    Non-Null Count   Dtype  \n",
      "---  ------    --------------   -----  \n",
      " 0   isim      271116 non-null  object \n",
      " 1   cinsiyet  271116 non-null  object \n",
      " 2   yas       261642 non-null  float64\n",
      " 3   boy       271116 non-null  float64\n",
      " 4   kilo      271116 non-null  float64\n",
      " 5   takim     271116 non-null  object \n",
      " 6   uok       271116 non-null  object \n",
      " 7   yil       271116 non-null  int64  \n",
      " 8   sezon     271116 non-null  object \n",
      " 9   sehir     271116 non-null  object \n",
      " 10  spor      271116 non-null  object \n",
      " 11  etkinlik  271116 non-null  object \n",
      " 12  madalya   39783 non-null   object \n",
      "dtypes: float64(3), int64(1), object(9)\n",
      "memory usage: 26.9+ MB\n"
     ]
    }
   ],
   "source": [
    "#her bir etkinliği iteratif olarak dolaş\n",
    "#etkinlik özelinde boy ve kilo rtalamalarını hesapla\n",
    "#etkinlik özelinde kayıp boy ve kilo verilerini etkinlik ortalamalarına eşitle\n",
    "veri_gecici = veri.copy() #gerçel veriyi bozmamak için bir kopyasını oluşturduk.\n",
    "boy_kilo_liste = [\"boy\",\"kilo\"]\n",
    "\n",
    "for e in essiz_etkinlik: #liste içinde dolaş\n",
    "    #etkinlik filtresi oluştur\n",
    "    etkinlik_filtre = veri_gecici.etkinlik == e\n",
    "    #veriyi etkinliğe göre filtreleyelim\n",
    "    veri_filtreli = veri_gecici[etkinlik_filtre]\n",
    "    \n",
    "    #boy ve kilo için etkinlik özelinde ortalamaları hesaplayalım\n",
    "    for s in boy_kilo_liste:\n",
    "        ortalama = np.round(np.mean(veri_filtreli[s]),2)\n",
    "        if ~np.isnan(ortalama): # eğer etkinlik özelinde ortalama varsa\n",
    "            veri_filtreli[s] = veri_filtreli[s].fillna(ortalama)\n",
    "        else: #eğer etkinlik özelinde ortalama yoksa rtalamayı hesapla\n",
    "            tum_veri_ortalamasi = np.round(np.mean(veri[s]),2)\n",
    "            veri_filtreli[s] = veri_filtreli[s].fillna(tum_veri_ortalamasi)\n",
    "    #etkinlik özelinde kayıp değerleri doldurulmuş olan veryi, veri_gecici'ye eşitleme\n",
    "    veri_gecici[etkinlik_filtre]= veri_filtreli\n",
    "    \n",
    "#kayıp değerleri giderilmiş olan geçici veriyi gerçek veriye eşitle\n",
    "veri= veri_gecici.copy()\n",
    "veri.info() #boy ve kilo sütunlarında kayıp değer kaldı mı   "
   ]
  },
  {
   "cell_type": "markdown",
   "id": "7358add7",
   "metadata": {},
   "source": [
    "# Yaş Sütunu Kayıp Veri Doldurma"
   ]
  },
  {
   "cell_type": "code",
   "execution_count": 11,
   "id": "9c9364eb",
   "metadata": {},
   "outputs": [
    {
     "name": "stdout",
     "output_type": "stream",
     "text": [
      "Yaş ortalaması: 25.56\n",
      "<class 'pandas.core.frame.DataFrame'>\n",
      "RangeIndex: 271116 entries, 0 to 271115\n",
      "Data columns (total 13 columns):\n",
      " #   Column    Non-Null Count   Dtype  \n",
      "---  ------    --------------   -----  \n",
      " 0   isim      271116 non-null  object \n",
      " 1   cinsiyet  271116 non-null  object \n",
      " 2   yas       271116 non-null  float64\n",
      " 3   boy       271116 non-null  float64\n",
      " 4   kilo      271116 non-null  float64\n",
      " 5   takim     271116 non-null  object \n",
      " 6   uok       271116 non-null  object \n",
      " 7   yil       271116 non-null  int64  \n",
      " 8   sezon     271116 non-null  object \n",
      " 9   sehir     271116 non-null  object \n",
      " 10  spor      271116 non-null  object \n",
      " 11  etkinlik  271116 non-null  object \n",
      " 12  madalya   39783 non-null   object \n",
      "dtypes: float64(3), int64(1), object(9)\n",
      "memory usage: 26.9+ MB\n"
     ]
    }
   ],
   "source": [
    "#yaş değişkeninde tanımlı olmayan değerleri bul\n",
    "yas_ortalamasi = np.round(np.mean(veri.yas),2)\n",
    "print(\"Yaş ortalaması: {}\".format(yas_ortalamasi))\n",
    "veri[\"yas\"]= veri[\"yas\"].fillna(yas_ortalamasi)\n",
    "veri.info()"
   ]
  },
  {
   "cell_type": "markdown",
   "id": "02e351fb",
   "metadata": {},
   "source": [
    "# Madalya Alamayan Sporcuları Veri Serinden Çıkar"
   ]
  },
  {
   "cell_type": "code",
   "execution_count": 12,
   "id": "ec734371",
   "metadata": {},
   "outputs": [
    {
     "data": {
      "text/plain": [
       "231333"
      ]
     },
     "execution_count": 12,
     "metadata": {},
     "output_type": "execute_result"
    }
   ],
   "source": [
    "madalya_degiskeni = veri[\"madalya\"]\n",
    "pd.isnull(madalya_degiskeni).sum()"
   ]
  },
  {
   "cell_type": "code",
   "execution_count": 13,
   "id": "ee3dc9ad",
   "metadata": {},
   "outputs": [],
   "source": [
    "madalya_degiskeni_filtresi = ~pd.isnull(madalya_degiskeni)\n",
    "veri = veri[madalya_degiskeni_filtresi]"
   ]
  },
  {
   "cell_type": "code",
   "execution_count": 14,
   "id": "9ead4e62",
   "metadata": {},
   "outputs": [
    {
     "data": {
      "text/html": [
       "<div>\n",
       "<style scoped>\n",
       "    .dataframe tbody tr th:only-of-type {\n",
       "        vertical-align: middle;\n",
       "    }\n",
       "\n",
       "    .dataframe tbody tr th {\n",
       "        vertical-align: top;\n",
       "    }\n",
       "\n",
       "    .dataframe thead th {\n",
       "        text-align: right;\n",
       "    }\n",
       "</style>\n",
       "<table border=\"1\" class=\"dataframe\">\n",
       "  <thead>\n",
       "    <tr style=\"text-align: right;\">\n",
       "      <th></th>\n",
       "      <th>isim</th>\n",
       "      <th>cinsiyet</th>\n",
       "      <th>yas</th>\n",
       "      <th>boy</th>\n",
       "      <th>kilo</th>\n",
       "      <th>takim</th>\n",
       "      <th>uok</th>\n",
       "      <th>yil</th>\n",
       "      <th>sezon</th>\n",
       "      <th>sehir</th>\n",
       "      <th>spor</th>\n",
       "      <th>etkinlik</th>\n",
       "      <th>madalya</th>\n",
       "    </tr>\n",
       "  </thead>\n",
       "  <tbody>\n",
       "    <tr>\n",
       "      <th>3</th>\n",
       "      <td>Edgar Lindenau Aabye</td>\n",
       "      <td>M</td>\n",
       "      <td>34.0</td>\n",
       "      <td>182.48</td>\n",
       "      <td>95.62</td>\n",
       "      <td>Denmark/Sweden</td>\n",
       "      <td>DEN</td>\n",
       "      <td>1900</td>\n",
       "      <td>Summer</td>\n",
       "      <td>Paris</td>\n",
       "      <td>Tug-Of-War</td>\n",
       "      <td>Tug-Of-War Men's Tug-Of-War</td>\n",
       "      <td>Gold</td>\n",
       "    </tr>\n",
       "    <tr>\n",
       "      <th>37</th>\n",
       "      <td>Arvo Ossian Aaltonen</td>\n",
       "      <td>M</td>\n",
       "      <td>30.0</td>\n",
       "      <td>182.01</td>\n",
       "      <td>76.69</td>\n",
       "      <td>Finland</td>\n",
       "      <td>FIN</td>\n",
       "      <td>1920</td>\n",
       "      <td>Summer</td>\n",
       "      <td>Antwerpen</td>\n",
       "      <td>Swimming</td>\n",
       "      <td>Swimming Men's 200 metres Breaststroke</td>\n",
       "      <td>Bronze</td>\n",
       "    </tr>\n",
       "    <tr>\n",
       "      <th>38</th>\n",
       "      <td>Arvo Ossian Aaltonen</td>\n",
       "      <td>M</td>\n",
       "      <td>30.0</td>\n",
       "      <td>177.00</td>\n",
       "      <td>75.00</td>\n",
       "      <td>Finland</td>\n",
       "      <td>FIN</td>\n",
       "      <td>1920</td>\n",
       "      <td>Summer</td>\n",
       "      <td>Antwerpen</td>\n",
       "      <td>Swimming</td>\n",
       "      <td>Swimming Men's 400 metres Breaststroke</td>\n",
       "      <td>Bronze</td>\n",
       "    </tr>\n",
       "    <tr>\n",
       "      <th>40</th>\n",
       "      <td>Juhamatti Tapio Aaltonen</td>\n",
       "      <td>M</td>\n",
       "      <td>28.0</td>\n",
       "      <td>184.00</td>\n",
       "      <td>85.00</td>\n",
       "      <td>Finland</td>\n",
       "      <td>FIN</td>\n",
       "      <td>2014</td>\n",
       "      <td>Winter</td>\n",
       "      <td>Sochi</td>\n",
       "      <td>Ice Hockey</td>\n",
       "      <td>Ice Hockey Men's Ice Hockey</td>\n",
       "      <td>Bronze</td>\n",
       "    </tr>\n",
       "    <tr>\n",
       "      <th>41</th>\n",
       "      <td>Paavo Johannes Aaltonen</td>\n",
       "      <td>M</td>\n",
       "      <td>28.0</td>\n",
       "      <td>175.00</td>\n",
       "      <td>64.00</td>\n",
       "      <td>Finland</td>\n",
       "      <td>FIN</td>\n",
       "      <td>1948</td>\n",
       "      <td>Summer</td>\n",
       "      <td>London</td>\n",
       "      <td>Gymnastics</td>\n",
       "      <td>Gymnastics Men's Individual All-Around</td>\n",
       "      <td>Bronze</td>\n",
       "    </tr>\n",
       "  </tbody>\n",
       "</table>\n",
       "</div>"
      ],
      "text/plain": [
       "                        isim cinsiyet   yas     boy   kilo           takim  \\\n",
       "3       Edgar Lindenau Aabye        M  34.0  182.48  95.62  Denmark/Sweden   \n",
       "37      Arvo Ossian Aaltonen        M  30.0  182.01  76.69         Finland   \n",
       "38      Arvo Ossian Aaltonen        M  30.0  177.00  75.00         Finland   \n",
       "40  Juhamatti Tapio Aaltonen        M  28.0  184.00  85.00         Finland   \n",
       "41   Paavo Johannes Aaltonen        M  28.0  175.00  64.00         Finland   \n",
       "\n",
       "    uok   yil   sezon      sehir        spor  \\\n",
       "3   DEN  1900  Summer      Paris  Tug-Of-War   \n",
       "37  FIN  1920  Summer  Antwerpen    Swimming   \n",
       "38  FIN  1920  Summer  Antwerpen    Swimming   \n",
       "40  FIN  2014  Winter      Sochi  Ice Hockey   \n",
       "41  FIN  1948  Summer     London  Gymnastics   \n",
       "\n",
       "                                  etkinlik madalya  \n",
       "3              Tug-Of-War Men's Tug-Of-War    Gold  \n",
       "37  Swimming Men's 200 metres Breaststroke  Bronze  \n",
       "38  Swimming Men's 400 metres Breaststroke  Bronze  \n",
       "40             Ice Hockey Men's Ice Hockey  Bronze  \n",
       "41  Gymnastics Men's Individual All-Around  Bronze  "
      ]
     },
     "execution_count": 14,
     "metadata": {},
     "output_type": "execute_result"
    }
   ],
   "source": [
    "veri.head()"
   ]
  },
  {
   "cell_type": "code",
   "execution_count": 15,
   "id": "4792cfc5",
   "metadata": {},
   "outputs": [
    {
     "name": "stdout",
     "output_type": "stream",
     "text": [
      "<class 'pandas.core.frame.DataFrame'>\n",
      "Int64Index: 39783 entries, 3 to 271103\n",
      "Data columns (total 13 columns):\n",
      " #   Column    Non-Null Count  Dtype  \n",
      "---  ------    --------------  -----  \n",
      " 0   isim      39783 non-null  object \n",
      " 1   cinsiyet  39783 non-null  object \n",
      " 2   yas       39783 non-null  float64\n",
      " 3   boy       39783 non-null  float64\n",
      " 4   kilo      39783 non-null  float64\n",
      " 5   takim     39783 non-null  object \n",
      " 6   uok       39783 non-null  object \n",
      " 7   yil       39783 non-null  int64  \n",
      " 8   sezon     39783 non-null  object \n",
      " 9   sehir     39783 non-null  object \n",
      " 10  spor      39783 non-null  object \n",
      " 11  etkinlik  39783 non-null  object \n",
      " 12  madalya   39783 non-null  object \n",
      "dtypes: float64(3), int64(1), object(9)\n",
      "memory usage: 4.2+ MB\n"
     ]
    }
   ],
   "source": [
    "veri.info()"
   ]
  },
  {
   "cell_type": "code",
   "execution_count": 16,
   "id": "d7652da3",
   "metadata": {},
   "outputs": [],
   "source": [
    "#Sonradan kullanabilmek için veriyi kaydedelim\n",
    "veri.to_csv(\"olimpiyatlar_temizlenmiş.csv\", index = False )"
   ]
  },
  {
   "cell_type": "markdown",
   "id": "a3a5279b",
   "metadata": {},
   "source": [
    "# Histogram Grafiği Çizdirme"
   ]
  },
  {
   "cell_type": "code",
   "execution_count": 17,
   "id": "8e9d245f",
   "metadata": {},
   "outputs": [],
   "source": [
    "#öncelikli olarak histogram grafikleini çizdireceğimiz fonksiyonu yazalım.\n",
    "def plotHistogram(degisken):\n",
    "    \"\"\"\n",
    "        Girdi: Değisken / sütun ismi\n",
    "        Çıktı: İlgili değişkenin histogramı\n",
    "    \"\"\"\n",
    "    plt.figure()\n",
    "    plt.hist(veri[degisken], bins=85, color = \"grey\")\n",
    "    plt.xlabel(degisken)\n",
    "    plt.ylabel(\"Frekans\")\n",
    "    plt.title(\"Veri Sıklığı - {}\".format(degisken))\n",
    "    plt.show()"
   ]
  },
  {
   "cell_type": "code",
   "execution_count": 18,
   "id": "42339c06",
   "metadata": {},
   "outputs": [
    {
     "data": {
      "image/png": "[encoded data removed]",
      "text/plain": [
       "<Figure size 432x288 with 1 Axes>"
      ]
     },
     "metadata": {
      "needs_background": "light"
     },
     "output_type": "display_data"
    },
    {
     "data": {
      "image/png": "[encoded data removed]",
      "text/plain": [
       "<Figure size 432x288 with 1 Axes>"
      ]
     },
     "metadata": {
      "needs_background": "light"
     },
     "output_type": "display_data"
    },
    {
     "data": {
      "image/png": "[encoded data removed]",
      "text/plain": [
       "<Figure size 432x288 with 1 Axes>"
      ]
     },
     "metadata": {
      "needs_background": "light"
     },
     "output_type": "display_data"
    },
    {
     "data": {
      "image/png": "[encoded data removed]",
      "text/plain": [
       "<Figure size 432x288 with 1 Axes>"
      ]
     },
     "metadata": {
      "needs_background": "light"
     },
     "output_type": "display_data"
    }
   ],
   "source": [
    "# tüm sayısal dğişkenler için histogramları çizdirelim\n",
    "sayisal_degisken = [\"yas\", \"boy\", \"kilo\", \"yil\"]\n",
    "for i in sayisal_degisken:\n",
    "    plotHistogram(i)"
   ]
  },
  {
   "cell_type": "markdown",
   "id": "196cf7da",
   "metadata": {},
   "source": [
    "# Bar Grafiği Çizdirme"
   ]
  },
  {
   "cell_type": "markdown",
   "id": "8a423eb9",
   "metadata": {},
   "source": [
    "Kategorik değişkenleri incelemek ve yorumlamak için bar grafiği kullanacağız."
   ]
  },
  {
   "cell_type": "code",
   "execution_count": 19,
   "id": "4d31474f",
   "metadata": {},
   "outputs": [],
   "source": [
    "#öncelikle çubuk garfiğini çizdireceğimiz metodu yazalım\n",
    "def plotBar(degisken, n=5):\n",
    "    \"\"\"\n",
    "        Girdi: Değişken/sütun ismi\n",
    "               n= Gösterilecek eşsiz değer sayısı\n",
    "        Çıktı: Çubuk Grafiği\n",
    "    \"\"\"\n",
    "    veri_ =veri[degisken]\n",
    "    veri_sayma = veri_.value_counts()\n",
    "    veri_sayma = veri_sayma[:n]\n",
    "    plt.figure()\n",
    "    plt.bar(veri_sayma.index, veri_sayma , color= \"pink\")\n",
    "    plt.xticks(veri_sayma.index, veri_sayma.index.values)\n",
    "    plt.xticks(rotation=45)\n",
    "    plt.ylabel(\"Frekans\")\n",
    "    plt.title(\"Veri Sıklığı - {}\".format(degisken))\n",
    "    plt.show()\n",
    "    print(\"{}: \\n {}\".format(degisken, veri_sayma))"
   ]
  },
  {
   "cell_type": "code",
   "execution_count": 20,
   "id": "ed7f4f8c",
   "metadata": {
    "scrolled": false
   },
   "outputs": [
    {
     "data": {
      "image/png": "[encoded data removed]",
      "text/plain": [
       "<Figure size 432x288 with 1 Axes>"
      ]
     },
     "metadata": {
      "needs_background": "light"
     },
     "output_type": "display_data"
    },
    {
     "name": "stdout",
     "output_type": "stream",
     "text": [
      "isim: \n",
      " Michael Fred Phelps, II               28\n",
      "Larysa Semenivna Latynina (Diriy-)    18\n",
      "Nikolay Yefimovich Andrianov          15\n",
      "Ole Einar Bjrndalen                   13\n",
      "Edoardo Mangiarotti                   13\n",
      "Name: isim, dtype: int64\n"
     ]
    },
    {
     "data": {
      "image/png": "[encoded data removed]",
      "text/plain": [
       "<Figure size 432x288 with 1 Axes>"
      ]
     },
     "metadata": {
      "needs_background": "light"
     },
     "output_type": "display_data"
    },
    {
     "name": "stdout",
     "output_type": "stream",
     "text": [
      "cinsiyet: \n",
      " M    28530\n",
      "F    11253\n",
      "Name: cinsiyet, dtype: int64\n"
     ]
    },
    {
     "data": {
      "image/png": "[encoded data removed]",
      "text/plain": [
       "<Figure size 432x288 with 1 Axes>"
      ]
     },
     "metadata": {
      "needs_background": "light"
     },
     "output_type": "display_data"
    },
    {
     "name": "stdout",
     "output_type": "stream",
     "text": [
      "takim: \n",
      " United States    5219\n",
      "Soviet Union     2451\n",
      "Germany          1984\n",
      "Great Britain    1673\n",
      "France           1550\n",
      "Name: takim, dtype: int64\n"
     ]
    },
    {
     "data": {
      "image/png": "[encoded data removed]",
      "text/plain": [
       "<Figure size 432x288 with 1 Axes>"
      ]
     },
     "metadata": {
      "needs_background": "light"
     },
     "output_type": "display_data"
    },
    {
     "name": "stdout",
     "output_type": "stream",
     "text": [
      "uok: \n",
      " USA    5637\n",
      "URS    2503\n",
      "GER    2165\n",
      "GBR    2068\n",
      "FRA    1777\n",
      "Name: uok, dtype: int64\n"
     ]
    },
    {
     "data": {
      "image/png": "[encoded data removed]",
      "text/plain": [
       "<Figure size 432x288 with 1 Axes>"
      ]
     },
     "metadata": {
      "needs_background": "light"
     },
     "output_type": "display_data"
    },
    {
     "name": "stdout",
     "output_type": "stream",
     "text": [
      "sezon: \n",
      " Summer    34088\n",
      "Winter     5695\n",
      "Name: sezon, dtype: int64\n"
     ]
    },
    {
     "data": {
      "image/png": "[encoded data removed]",
      "text/plain": [
       "<Figure size 432x288 with 1 Axes>"
      ]
     },
     "metadata": {
      "needs_background": "light"
     },
     "output_type": "display_data"
    },
    {
     "name": "stdout",
     "output_type": "stream",
     "text": [
      "spor: \n",
      " Athletics     3969\n",
      "Swimming      3048\n",
      "Rowing        2945\n",
      "Gymnastics    2256\n",
      "Fencing       1743\n",
      "Name: spor, dtype: int64\n"
     ]
    },
    {
     "data": {
      "image/png": "[encoded data removed]",
      "text/plain": [
       "<Figure size 432x288 with 1 Axes>"
      ]
     },
     "metadata": {
      "needs_background": "light"
     },
     "output_type": "display_data"
    },
    {
     "name": "stdout",
     "output_type": "stream",
     "text": [
      "etkinlik: \n",
      " Football Men's Football        1269\n",
      "Ice Hockey Men's Ice Hockey    1230\n",
      "Hockey Men's Hockey            1050\n",
      "Water Polo Men's Water Polo     866\n",
      "Rowing Men's Coxed Eights       730\n",
      "Name: etkinlik, dtype: int64\n"
     ]
    },
    {
     "data": {
      "image/png": "[encoded data removed]",
      "text/plain": [
       "<Figure size 432x288 with 1 Axes>"
      ]
     },
     "metadata": {
      "needs_background": "light"
     },
     "output_type": "display_data"
    },
    {
     "name": "stdout",
     "output_type": "stream",
     "text": [
      "madalya: \n",
      " Gold      13372\n",
      "Bronze    13295\n",
      "Silver    13116\n",
      "Name: madalya, dtype: int64\n"
     ]
    }
   ],
   "source": [
    "kategorik_degisken = [\"isim\", \"cinsiyet\", \"takim\", \"uok\", \"sezon\", \"spor\", \"etkinlik\", \"madalya\" ]\n",
    "for i in kategorik_degisken:\n",
    "    plotBar(i)"
   ]
  },
  {
   "cell_type": "markdown",
   "id": "363c40e8",
   "metadata": {},
   "source": [
    "Cinsiyete Göre Boy ve Ağırlık Karşılaştırması"
   ]
  },
  {
   "cell_type": "code",
   "execution_count": 21,
   "id": "6daac834",
   "metadata": {},
   "outputs": [
    {
     "data": {
      "text/html": [
       "<div>\n",
       "<style scoped>\n",
       "    .dataframe tbody tr th:only-of-type {\n",
       "        vertical-align: middle;\n",
       "    }\n",
       "\n",
       "    .dataframe tbody tr th {\n",
       "        vertical-align: top;\n",
       "    }\n",
       "\n",
       "    .dataframe thead th {\n",
       "        text-align: right;\n",
       "    }\n",
       "</style>\n",
       "<table border=\"1\" class=\"dataframe\">\n",
       "  <thead>\n",
       "    <tr style=\"text-align: right;\">\n",
       "      <th></th>\n",
       "      <th>isim</th>\n",
       "      <th>cinsiyet</th>\n",
       "      <th>yas</th>\n",
       "      <th>boy</th>\n",
       "      <th>kilo</th>\n",
       "      <th>takim</th>\n",
       "      <th>uok</th>\n",
       "      <th>yil</th>\n",
       "      <th>sezon</th>\n",
       "      <th>sehir</th>\n",
       "      <th>spor</th>\n",
       "      <th>etkinlik</th>\n",
       "      <th>madalya</th>\n",
       "    </tr>\n",
       "  </thead>\n",
       "  <tbody>\n",
       "    <tr>\n",
       "      <th>3</th>\n",
       "      <td>Edgar Lindenau Aabye</td>\n",
       "      <td>M</td>\n",
       "      <td>34.0</td>\n",
       "      <td>182.48</td>\n",
       "      <td>95.62</td>\n",
       "      <td>Denmark/Sweden</td>\n",
       "      <td>DEN</td>\n",
       "      <td>1900</td>\n",
       "      <td>Summer</td>\n",
       "      <td>Paris</td>\n",
       "      <td>Tug-Of-War</td>\n",
       "      <td>Tug-Of-War Men's Tug-Of-War</td>\n",
       "      <td>Gold</td>\n",
       "    </tr>\n",
       "    <tr>\n",
       "      <th>37</th>\n",
       "      <td>Arvo Ossian Aaltonen</td>\n",
       "      <td>M</td>\n",
       "      <td>30.0</td>\n",
       "      <td>182.01</td>\n",
       "      <td>76.69</td>\n",
       "      <td>Finland</td>\n",
       "      <td>FIN</td>\n",
       "      <td>1920</td>\n",
       "      <td>Summer</td>\n",
       "      <td>Antwerpen</td>\n",
       "      <td>Swimming</td>\n",
       "      <td>Swimming Men's 200 metres Breaststroke</td>\n",
       "      <td>Bronze</td>\n",
       "    </tr>\n",
       "    <tr>\n",
       "      <th>38</th>\n",
       "      <td>Arvo Ossian Aaltonen</td>\n",
       "      <td>M</td>\n",
       "      <td>30.0</td>\n",
       "      <td>177.00</td>\n",
       "      <td>75.00</td>\n",
       "      <td>Finland</td>\n",
       "      <td>FIN</td>\n",
       "      <td>1920</td>\n",
       "      <td>Summer</td>\n",
       "      <td>Antwerpen</td>\n",
       "      <td>Swimming</td>\n",
       "      <td>Swimming Men's 400 metres Breaststroke</td>\n",
       "      <td>Bronze</td>\n",
       "    </tr>\n",
       "  </tbody>\n",
       "</table>\n",
       "</div>"
      ],
      "text/plain": [
       "                    isim cinsiyet   yas     boy   kilo           takim  uok  \\\n",
       "3   Edgar Lindenau Aabye        M  34.0  182.48  95.62  Denmark/Sweden  DEN   \n",
       "37  Arvo Ossian Aaltonen        M  30.0  182.01  76.69         Finland  FIN   \n",
       "38  Arvo Ossian Aaltonen        M  30.0  177.00  75.00         Finland  FIN   \n",
       "\n",
       "     yil   sezon      sehir        spor  \\\n",
       "3   1900  Summer      Paris  Tug-Of-War   \n",
       "37  1920  Summer  Antwerpen    Swimming   \n",
       "38  1920  Summer  Antwerpen    Swimming   \n",
       "\n",
       "                                  etkinlik madalya  \n",
       "3              Tug-Of-War Men's Tug-Of-War    Gold  \n",
       "37  Swimming Men's 200 metres Breaststroke  Bronze  \n",
       "38  Swimming Men's 400 metres Breaststroke  Bronze  "
      ]
     },
     "execution_count": 21,
     "metadata": {},
     "output_type": "execute_result"
    }
   ],
   "source": [
    "erkek = veri[veri.cinsiyet == \"M\"]\n",
    "erkek.head(3)"
   ]
  },
  {
   "cell_type": "code",
   "execution_count": 22,
   "id": "3ee9901a",
   "metadata": {},
   "outputs": [
    {
     "data": {
      "text/html": [
       "<div>\n",
       "<style scoped>\n",
       "    .dataframe tbody tr th:only-of-type {\n",
       "        vertical-align: middle;\n",
       "    }\n",
       "\n",
       "    .dataframe tbody tr th {\n",
       "        vertical-align: top;\n",
       "    }\n",
       "\n",
       "    .dataframe thead th {\n",
       "        text-align: right;\n",
       "    }\n",
       "</style>\n",
       "<table border=\"1\" class=\"dataframe\">\n",
       "  <thead>\n",
       "    <tr style=\"text-align: right;\">\n",
       "      <th></th>\n",
       "      <th>isim</th>\n",
       "      <th>cinsiyet</th>\n",
       "      <th>yas</th>\n",
       "      <th>boy</th>\n",
       "      <th>kilo</th>\n",
       "      <th>takim</th>\n",
       "      <th>uok</th>\n",
       "      <th>yil</th>\n",
       "      <th>sezon</th>\n",
       "      <th>sehir</th>\n",
       "      <th>spor</th>\n",
       "      <th>etkinlik</th>\n",
       "      <th>madalya</th>\n",
       "    </tr>\n",
       "  </thead>\n",
       "  <tbody>\n",
       "    <tr>\n",
       "      <th>79</th>\n",
       "      <td>Ragnhild Margrethe Aamodt</td>\n",
       "      <td>F</td>\n",
       "      <td>27.0</td>\n",
       "      <td>163.00</td>\n",
       "      <td>68.88</td>\n",
       "      <td>Norway</td>\n",
       "      <td>NOR</td>\n",
       "      <td>2008</td>\n",
       "      <td>Summer</td>\n",
       "      <td>Beijing</td>\n",
       "      <td>Handball</td>\n",
       "      <td>Handball Women's Handball</td>\n",
       "      <td>Gold</td>\n",
       "    </tr>\n",
       "    <tr>\n",
       "      <th>91</th>\n",
       "      <td>Willemien Aardenburg</td>\n",
       "      <td>F</td>\n",
       "      <td>22.0</td>\n",
       "      <td>166.13</td>\n",
       "      <td>60.53</td>\n",
       "      <td>Netherlands</td>\n",
       "      <td>NED</td>\n",
       "      <td>1988</td>\n",
       "      <td>Summer</td>\n",
       "      <td>Seoul</td>\n",
       "      <td>Hockey</td>\n",
       "      <td>Hockey Women's Hockey</td>\n",
       "      <td>Bronze</td>\n",
       "    </tr>\n",
       "    <tr>\n",
       "      <th>105</th>\n",
       "      <td>Ann Kristin Aarnes</td>\n",
       "      <td>F</td>\n",
       "      <td>23.0</td>\n",
       "      <td>182.00</td>\n",
       "      <td>64.00</td>\n",
       "      <td>Norway</td>\n",
       "      <td>NOR</td>\n",
       "      <td>1996</td>\n",
       "      <td>Summer</td>\n",
       "      <td>Atlanta</td>\n",
       "      <td>Football</td>\n",
       "      <td>Football Women's Football</td>\n",
       "      <td>Bronze</td>\n",
       "    </tr>\n",
       "  </tbody>\n",
       "</table>\n",
       "</div>"
      ],
      "text/plain": [
       "                          isim cinsiyet   yas     boy   kilo        takim  \\\n",
       "79   Ragnhild Margrethe Aamodt        F  27.0  163.00  68.88       Norway   \n",
       "91        Willemien Aardenburg        F  22.0  166.13  60.53  Netherlands   \n",
       "105         Ann Kristin Aarnes        F  23.0  182.00  64.00       Norway   \n",
       "\n",
       "     uok   yil   sezon    sehir      spor                   etkinlik madalya  \n",
       "79   NOR  2008  Summer  Beijing  Handball  Handball Women's Handball    Gold  \n",
       "91   NED  1988  Summer    Seoul    Hockey      Hockey Women's Hockey  Bronze  \n",
       "105  NOR  1996  Summer  Atlanta  Football  Football Women's Football  Bronze  "
      ]
     },
     "execution_count": 22,
     "metadata": {},
     "output_type": "execute_result"
    }
   ],
   "source": [
    "kadin = veri[veri.cinsiyet == \"F\"]\n",
    "kadin.head(3)"
   ]
  },
  {
   "cell_type": "code",
   "execution_count": 23,
   "id": "5fc5900d",
   "metadata": {},
   "outputs": [
    {
     "data": {
      "image/png": "[encoded data removed]",
      "text/plain": [
       "<Figure size 432x288 with 1 Axes>"
      ]
     },
     "metadata": {
      "needs_background": "light"
     },
     "output_type": "display_data"
    }
   ],
   "source": [
    "plt.figure()\n",
    "plt.scatter(kadin.boy, kadin.kilo, alpha =0.4, label= \"Kadın\", color=\"pink\")\n",
    "plt.scatter(erkek.boy, erkek.kilo, alpha =0.4, label= \"Erkek\", color= \"blue\")\n",
    "plt.xlabel(\"Boy\")\n",
    "plt.ylabel(\"Kilo\")\n",
    "plt.title(\"Boy ve Kilo Arasındaki İlişki\")\n",
    "plt.legend()\n",
    "plt.show()"
   ]
  },
  {
   "cell_type": "markdown",
   "id": "09eefe21",
   "metadata": {},
   "source": [
    "# Sayısal Sütunlar Arasında İlişki İncelemesi"
   ]
  },
  {
   "cell_type": "code",
   "execution_count": 24,
   "id": "7f66cb48",
   "metadata": {},
   "outputs": [
    {
     "data": {
      "text/html": [
       "<div>\n",
       "<style scoped>\n",
       "    .dataframe tbody tr th:only-of-type {\n",
       "        vertical-align: middle;\n",
       "    }\n",
       "\n",
       "    .dataframe tbody tr th {\n",
       "        vertical-align: top;\n",
       "    }\n",
       "\n",
       "    .dataframe thead th {\n",
       "        text-align: right;\n",
       "    }\n",
       "</style>\n",
       "<table border=\"1\" class=\"dataframe\">\n",
       "  <thead>\n",
       "    <tr style=\"text-align: right;\">\n",
       "      <th></th>\n",
       "      <th>yas</th>\n",
       "      <th>boy</th>\n",
       "      <th>kilo</th>\n",
       "      <th>yil</th>\n",
       "    </tr>\n",
       "  </thead>\n",
       "  <tbody>\n",
       "    <tr>\n",
       "      <th>yas</th>\n",
       "      <td>1.000000</td>\n",
       "      <td>0.061890</td>\n",
       "      <td>0.136349</td>\n",
       "      <td>-0.086898</td>\n",
       "    </tr>\n",
       "    <tr>\n",
       "      <th>boy</th>\n",
       "      <td>0.061890</td>\n",
       "      <td>1.000000</td>\n",
       "      <td>0.794368</td>\n",
       "      <td>0.047883</td>\n",
       "    </tr>\n",
       "    <tr>\n",
       "      <th>kilo</th>\n",
       "      <td>0.136349</td>\n",
       "      <td>0.794368</td>\n",
       "      <td>1.000000</td>\n",
       "      <td>-0.004888</td>\n",
       "    </tr>\n",
       "    <tr>\n",
       "      <th>yil</th>\n",
       "      <td>-0.086898</td>\n",
       "      <td>0.047883</td>\n",
       "      <td>-0.004888</td>\n",
       "      <td>1.000000</td>\n",
       "    </tr>\n",
       "  </tbody>\n",
       "</table>\n",
       "</div>"
      ],
      "text/plain": [
       "           yas       boy      kilo       yil\n",
       "yas   1.000000  0.061890  0.136349 -0.086898\n",
       "boy   0.061890  1.000000  0.794368  0.047883\n",
       "kilo  0.136349  0.794368  1.000000 -0.004888\n",
       "yil  -0.086898  0.047883 -0.004888  1.000000"
      ]
     },
     "execution_count": 24,
     "metadata": {},
     "output_type": "execute_result"
    }
   ],
   "source": [
    "veri.loc[:,[\"yas\",\"boy\",\"kilo\",\"yil\"]].corr() #korelasyon tablosu"
   ]
  },
  {
   "cell_type": "code",
   "execution_count": 25,
   "id": "41505352",
   "metadata": {},
   "outputs": [
    {
     "data": {
      "image/png": "[encoded data removed]",
      "text/plain": [
       "<Figure size 432x288 with 2 Axes>"
      ]
     },
     "metadata": {
      "needs_background": "light"
     },
     "output_type": "display_data"
    }
   ],
   "source": [
    "sns.heatmap(veri.corr(method='pearson').drop(\n",
    "  [], axis=1).drop([], axis=0),\n",
    "            annot = True);\n",
    "  \n",
    "plt.show() #korelasyon grafiği - heatmap"
   ]
  },
  {
   "cell_type": "markdown",
   "id": "b3b9093b",
   "metadata": {},
   "source": [
    "# Madalya ve Yaş Arasındaki İlişki\n"
   ]
  },
  {
   "cell_type": "code",
   "execution_count": 26,
   "id": "c755113b",
   "metadata": {},
   "outputs": [
    {
     "data": {
      "text/html": [
       "<div>\n",
       "<style scoped>\n",
       "    .dataframe tbody tr th:only-of-type {\n",
       "        vertical-align: middle;\n",
       "    }\n",
       "\n",
       "    .dataframe tbody tr th {\n",
       "        vertical-align: top;\n",
       "    }\n",
       "\n",
       "    .dataframe thead th {\n",
       "        text-align: right;\n",
       "    }\n",
       "</style>\n",
       "<table border=\"1\" class=\"dataframe\">\n",
       "  <thead>\n",
       "    <tr style=\"text-align: right;\">\n",
       "      <th></th>\n",
       "      <th>isim</th>\n",
       "      <th>cinsiyet</th>\n",
       "      <th>yas</th>\n",
       "      <th>boy</th>\n",
       "      <th>kilo</th>\n",
       "      <th>takim</th>\n",
       "      <th>uok</th>\n",
       "      <th>yil</th>\n",
       "      <th>sezon</th>\n",
       "      <th>sehir</th>\n",
       "      <th>spor</th>\n",
       "      <th>etkinlik</th>\n",
       "      <th>madalya_Bronze</th>\n",
       "      <th>madalya_Gold</th>\n",
       "      <th>madalya_Silver</th>\n",
       "    </tr>\n",
       "  </thead>\n",
       "  <tbody>\n",
       "    <tr>\n",
       "      <th>3</th>\n",
       "      <td>Edgar Lindenau Aabye</td>\n",
       "      <td>M</td>\n",
       "      <td>34.0</td>\n",
       "      <td>182.48</td>\n",
       "      <td>95.62</td>\n",
       "      <td>Denmark/Sweden</td>\n",
       "      <td>DEN</td>\n",
       "      <td>1900</td>\n",
       "      <td>Summer</td>\n",
       "      <td>Paris</td>\n",
       "      <td>Tug-Of-War</td>\n",
       "      <td>Tug-Of-War Men's Tug-Of-War</td>\n",
       "      <td>0</td>\n",
       "      <td>1</td>\n",
       "      <td>0</td>\n",
       "    </tr>\n",
       "    <tr>\n",
       "      <th>37</th>\n",
       "      <td>Arvo Ossian Aaltonen</td>\n",
       "      <td>M</td>\n",
       "      <td>30.0</td>\n",
       "      <td>182.01</td>\n",
       "      <td>76.69</td>\n",
       "      <td>Finland</td>\n",
       "      <td>FIN</td>\n",
       "      <td>1920</td>\n",
       "      <td>Summer</td>\n",
       "      <td>Antwerpen</td>\n",
       "      <td>Swimming</td>\n",
       "      <td>Swimming Men's 200 metres Breaststroke</td>\n",
       "      <td>1</td>\n",
       "      <td>0</td>\n",
       "      <td>0</td>\n",
       "    </tr>\n",
       "  </tbody>\n",
       "</table>\n",
       "</div>"
      ],
      "text/plain": [
       "                    isim cinsiyet   yas     boy   kilo           takim  uok  \\\n",
       "3   Edgar Lindenau Aabye        M  34.0  182.48  95.62  Denmark/Sweden  DEN   \n",
       "37  Arvo Ossian Aaltonen        M  30.0  182.01  76.69         Finland  FIN   \n",
       "\n",
       "     yil   sezon      sehir        spor  \\\n",
       "3   1900  Summer      Paris  Tug-Of-War   \n",
       "37  1920  Summer  Antwerpen    Swimming   \n",
       "\n",
       "                                  etkinlik  madalya_Bronze  madalya_Gold  \\\n",
       "3              Tug-Of-War Men's Tug-Of-War               0             1   \n",
       "37  Swimming Men's 200 metres Breaststroke               1             0   \n",
       "\n",
       "    madalya_Silver  \n",
       "3                0  \n",
       "37               0  "
      ]
     },
     "execution_count": 26,
     "metadata": {},
     "output_type": "execute_result"
    }
   ],
   "source": [
    "#sporcuları altın, gümüş ve bronz madalyaya göre ayıralım\n",
    "veri_gecici = veri.copy()\n",
    "veri_gecici = pd.get_dummies(veri_gecici, columns = ['madalya'])\n",
    "veri_gecici.head(2)"
   ]
  },
  {
   "cell_type": "code",
   "execution_count": 27,
   "id": "618800b3",
   "metadata": {},
   "outputs": [
    {
     "data": {
      "text/html": [
       "<div>\n",
       "<style scoped>\n",
       "    .dataframe tbody tr th:only-of-type {\n",
       "        vertical-align: middle;\n",
       "    }\n",
       "\n",
       "    .dataframe tbody tr th {\n",
       "        vertical-align: top;\n",
       "    }\n",
       "\n",
       "    .dataframe thead th {\n",
       "        text-align: right;\n",
       "    }\n",
       "</style>\n",
       "<table border=\"1\" class=\"dataframe\">\n",
       "  <thead>\n",
       "    <tr style=\"text-align: right;\">\n",
       "      <th></th>\n",
       "      <th>yas</th>\n",
       "      <th>madalya_Bronze</th>\n",
       "      <th>madalya_Gold</th>\n",
       "      <th>madalya_Silver</th>\n",
       "    </tr>\n",
       "  </thead>\n",
       "  <tbody>\n",
       "    <tr>\n",
       "      <th>yas</th>\n",
       "      <td>1.000000</td>\n",
       "      <td>-0.005584</td>\n",
       "      <td>-0.002576</td>\n",
       "      <td>0.008192</td>\n",
       "    </tr>\n",
       "    <tr>\n",
       "      <th>madalya_Bronze</th>\n",
       "      <td>-0.005584</td>\n",
       "      <td>1.000000</td>\n",
       "      <td>-0.504110</td>\n",
       "      <td>-0.496859</td>\n",
       "    </tr>\n",
       "    <tr>\n",
       "      <th>madalya_Gold</th>\n",
       "      <td>-0.002576</td>\n",
       "      <td>-0.504110</td>\n",
       "      <td>1.000000</td>\n",
       "      <td>-0.499022</td>\n",
       "    </tr>\n",
       "    <tr>\n",
       "      <th>madalya_Silver</th>\n",
       "      <td>0.008192</td>\n",
       "      <td>-0.496859</td>\n",
       "      <td>-0.499022</td>\n",
       "      <td>1.000000</td>\n",
       "    </tr>\n",
       "  </tbody>\n",
       "</table>\n",
       "</div>"
      ],
      "text/plain": [
       "                     yas  madalya_Bronze  madalya_Gold  madalya_Silver\n",
       "yas             1.000000       -0.005584     -0.002576        0.008192\n",
       "madalya_Bronze -0.005584        1.000000     -0.504110       -0.496859\n",
       "madalya_Gold   -0.002576       -0.504110      1.000000       -0.499022\n",
       "madalya_Silver  0.008192       -0.496859     -0.499022        1.000000"
      ]
     },
     "execution_count": 27,
     "metadata": {},
     "output_type": "execute_result"
    }
   ],
   "source": [
    "veri_gecici.loc[:,[\"yas\",\"madalya_Bronze\", \"madalya_Gold\", \"madalya_Silver\"]].corr()"
   ]
  },
  {
   "cell_type": "code",
   "execution_count": 28,
   "id": "e66a1342",
   "metadata": {},
   "outputs": [
    {
     "data": {
      "image/png": "[encoded data removed]",
      "text/plain": [
       "<Figure size 432x288 with 2 Axes>"
      ]
     },
     "metadata": {
      "needs_background": "light"
     },
     "output_type": "display_data"
    }
   ],
   "source": [
    "sns.heatmap(veri_gecici.corr(method='pearson').drop(\n",
    "  [], axis=1).drop([], axis=0),\n",
    "            annot = True);\n",
    "  \n",
    "plt.show() #korelasyon grafiği - heatmap"
   ]
  },
  {
   "cell_type": "markdown",
   "id": "66dae274",
   "metadata": {},
   "source": [
    "# Takımların Kazandıkları Altın,Gümüş ve Bronz Madalya Sayıları"
   ]
  },
  {
   "cell_type": "code",
   "execution_count": 29,
   "id": "b7e3a9ae",
   "metadata": {},
   "outputs": [
    {
     "data": {
      "text/html": [
       "<div>\n",
       "<style scoped>\n",
       "    .dataframe tbody tr th:only-of-type {\n",
       "        vertical-align: middle;\n",
       "    }\n",
       "\n",
       "    .dataframe tbody tr th {\n",
       "        vertical-align: top;\n",
       "    }\n",
       "\n",
       "    .dataframe thead th {\n",
       "        text-align: right;\n",
       "    }\n",
       "</style>\n",
       "<table border=\"1\" class=\"dataframe\">\n",
       "  <thead>\n",
       "    <tr style=\"text-align: right;\">\n",
       "      <th></th>\n",
       "      <th>takim</th>\n",
       "      <th>madalya_Bronze</th>\n",
       "      <th>madalya_Gold</th>\n",
       "      <th>madalya_Silver</th>\n",
       "    </tr>\n",
       "  </thead>\n",
       "  <tbody>\n",
       "    <tr>\n",
       "      <th>462</th>\n",
       "      <td>United States</td>\n",
       "      <td>1233.0</td>\n",
       "      <td>2474.0</td>\n",
       "      <td>1512.0</td>\n",
       "    </tr>\n",
       "    <tr>\n",
       "      <th>403</th>\n",
       "      <td>Soviet Union</td>\n",
       "      <td>677.0</td>\n",
       "      <td>1058.0</td>\n",
       "      <td>716.0</td>\n",
       "    </tr>\n",
       "    <tr>\n",
       "      <th>165</th>\n",
       "      <td>Germany</td>\n",
       "      <td>678.0</td>\n",
       "      <td>679.0</td>\n",
       "      <td>627.0</td>\n",
       "    </tr>\n",
       "    <tr>\n",
       "      <th>215</th>\n",
       "      <td>Italy</td>\n",
       "      <td>484.0</td>\n",
       "      <td>535.0</td>\n",
       "      <td>508.0</td>\n",
       "    </tr>\n",
       "    <tr>\n",
       "      <th>171</th>\n",
       "      <td>Great Britain</td>\n",
       "      <td>572.0</td>\n",
       "      <td>519.0</td>\n",
       "      <td>582.0</td>\n",
       "    </tr>\n",
       "    <tr>\n",
       "      <th>149</th>\n",
       "      <td>France</td>\n",
       "      <td>577.0</td>\n",
       "      <td>455.0</td>\n",
       "      <td>518.0</td>\n",
       "    </tr>\n",
       "    <tr>\n",
       "      <th>420</th>\n",
       "      <td>Sweden</td>\n",
       "      <td>507.0</td>\n",
       "      <td>451.0</td>\n",
       "      <td>476.0</td>\n",
       "    </tr>\n",
       "    <tr>\n",
       "      <th>198</th>\n",
       "      <td>Hungary</td>\n",
       "      <td>365.0</td>\n",
       "      <td>432.0</td>\n",
       "      <td>330.0</td>\n",
       "    </tr>\n",
       "    <tr>\n",
       "      <th>67</th>\n",
       "      <td>Canada</td>\n",
       "      <td>408.0</td>\n",
       "      <td>422.0</td>\n",
       "      <td>413.0</td>\n",
       "    </tr>\n",
       "    <tr>\n",
       "      <th>117</th>\n",
       "      <td>East Germany</td>\n",
       "      <td>263.0</td>\n",
       "      <td>369.0</td>\n",
       "      <td>309.0</td>\n",
       "    </tr>\n",
       "  </tbody>\n",
       "</table>\n",
       "</div>"
      ],
      "text/plain": [
       "             takim  madalya_Bronze  madalya_Gold  madalya_Silver\n",
       "462  United States          1233.0        2474.0          1512.0\n",
       "403   Soviet Union           677.0        1058.0           716.0\n",
       "165        Germany           678.0         679.0           627.0\n",
       "215          Italy           484.0         535.0           508.0\n",
       "171  Great Britain           572.0         519.0           582.0\n",
       "149         France           577.0         455.0           518.0\n",
       "420         Sweden           507.0         451.0           476.0\n",
       "198        Hungary           365.0         432.0           330.0\n",
       "67          Canada           408.0         422.0           413.0\n",
       "117   East Germany           263.0         369.0           309.0"
      ]
     },
     "execution_count": 29,
     "metadata": {},
     "output_type": "execute_result"
    }
   ],
   "source": [
    "veri_gecici.loc[:,[\"takim\",\"madalya_Bronze\", \"madalya_Gold\", \"madalya_Silver\"]].groupby([\"takim\"],as_index= False).sum().sort_values(by=\"madalya_Gold\",ascending = False)[:10]"
   ]
  },
  {
   "cell_type": "markdown",
   "id": "944ac1c1",
   "metadata": {},
   "source": [
    "# Kazanılan Madalyaların Hangi Şehirlerde Kazanıldığı"
   ]
  },
  {
   "cell_type": "code",
   "execution_count": 30,
   "id": "7b9700d2",
   "metadata": {},
   "outputs": [
    {
     "data": {
      "text/html": [
       "<div>\n",
       "<style scoped>\n",
       "    .dataframe tbody tr th:only-of-type {\n",
       "        vertical-align: middle;\n",
       "    }\n",
       "\n",
       "    .dataframe tbody tr th {\n",
       "        vertical-align: top;\n",
       "    }\n",
       "\n",
       "    .dataframe thead th {\n",
       "        text-align: right;\n",
       "    }\n",
       "</style>\n",
       "<table border=\"1\" class=\"dataframe\">\n",
       "  <thead>\n",
       "    <tr style=\"text-align: right;\">\n",
       "      <th></th>\n",
       "      <th>sehir</th>\n",
       "      <th>madalya_Bronze</th>\n",
       "      <th>madalya_Gold</th>\n",
       "      <th>madalya_Silver</th>\n",
       "    </tr>\n",
       "  </thead>\n",
       "  <tbody>\n",
       "    <tr>\n",
       "      <th>17</th>\n",
       "      <td>London</td>\n",
       "      <td>1214.0</td>\n",
       "      <td>1215.0</td>\n",
       "      <td>1195.0</td>\n",
       "    </tr>\n",
       "    <tr>\n",
       "      <th>3</th>\n",
       "      <td>Athina</td>\n",
       "      <td>860.0</td>\n",
       "      <td>883.0</td>\n",
       "      <td>859.0</td>\n",
       "    </tr>\n",
       "    <tr>\n",
       "      <th>18</th>\n",
       "      <td>Los Angeles</td>\n",
       "      <td>706.0</td>\n",
       "      <td>726.0</td>\n",
       "      <td>691.0</td>\n",
       "    </tr>\n",
       "    <tr>\n",
       "      <th>6</th>\n",
       "      <td>Beijing</td>\n",
       "      <td>710.0</td>\n",
       "      <td>671.0</td>\n",
       "      <td>667.0</td>\n",
       "    </tr>\n",
       "    <tr>\n",
       "      <th>27</th>\n",
       "      <td>Rio de Janeiro</td>\n",
       "      <td>703.0</td>\n",
       "      <td>665.0</td>\n",
       "      <td>655.0</td>\n",
       "    </tr>\n",
       "    <tr>\n",
       "      <th>38</th>\n",
       "      <td>Sydney</td>\n",
       "      <td>680.0</td>\n",
       "      <td>663.0</td>\n",
       "      <td>661.0</td>\n",
       "    </tr>\n",
       "    <tr>\n",
       "      <th>4</th>\n",
       "      <td>Atlanta</td>\n",
       "      <td>629.0</td>\n",
       "      <td>608.0</td>\n",
       "      <td>605.0</td>\n",
       "    </tr>\n",
       "    <tr>\n",
       "      <th>5</th>\n",
       "      <td>Barcelona</td>\n",
       "      <td>604.0</td>\n",
       "      <td>559.0</td>\n",
       "      <td>549.0</td>\n",
       "    </tr>\n",
       "    <tr>\n",
       "      <th>33</th>\n",
       "      <td>Seoul</td>\n",
       "      <td>549.0</td>\n",
       "      <td>520.0</td>\n",
       "      <td>513.0</td>\n",
       "    </tr>\n",
       "    <tr>\n",
       "      <th>2</th>\n",
       "      <td>Antwerpen</td>\n",
       "      <td>367.0</td>\n",
       "      <td>493.0</td>\n",
       "      <td>448.0</td>\n",
       "    </tr>\n",
       "  </tbody>\n",
       "</table>\n",
       "</div>"
      ],
      "text/plain": [
       "             sehir  madalya_Bronze  madalya_Gold  madalya_Silver\n",
       "17          London          1214.0        1215.0          1195.0\n",
       "3           Athina           860.0         883.0           859.0\n",
       "18     Los Angeles           706.0         726.0           691.0\n",
       "6          Beijing           710.0         671.0           667.0\n",
       "27  Rio de Janeiro           703.0         665.0           655.0\n",
       "38          Sydney           680.0         663.0           661.0\n",
       "4          Atlanta           629.0         608.0           605.0\n",
       "5        Barcelona           604.0         559.0           549.0\n",
       "33           Seoul           549.0         520.0           513.0\n",
       "2        Antwerpen           367.0         493.0           448.0"
      ]
     },
     "execution_count": 30,
     "metadata": {},
     "output_type": "execute_result"
    }
   ],
   "source": [
    "veri_gecici.loc[:,[\"sehir\",\"madalya_Bronze\", \"madalya_Gold\", \"madalya_Silver\"]].groupby([\"sehir\"],as_index= False).sum().sort_values(by=\"madalya_Gold\",ascending = False)[:10]"
   ]
  },
  {
   "cell_type": "markdown",
   "id": "19fd2f81",
   "metadata": {},
   "source": [
    "# Cinsiyete Göre Kazanılan Altın, Gümüş, Bronz Madalya Sayıları"
   ]
  },
  {
   "cell_type": "code",
   "execution_count": 31,
   "id": "70e0ecfa",
   "metadata": {},
   "outputs": [
    {
     "data": {
      "text/html": [
       "<div>\n",
       "<style scoped>\n",
       "    .dataframe tbody tr th:only-of-type {\n",
       "        vertical-align: middle;\n",
       "    }\n",
       "\n",
       "    .dataframe tbody tr th {\n",
       "        vertical-align: top;\n",
       "    }\n",
       "\n",
       "    .dataframe thead th {\n",
       "        text-align: right;\n",
       "    }\n",
       "</style>\n",
       "<table border=\"1\" class=\"dataframe\">\n",
       "  <thead>\n",
       "    <tr style=\"text-align: right;\">\n",
       "      <th></th>\n",
       "      <th>cinsiyet</th>\n",
       "      <th>madalya_Bronze</th>\n",
       "      <th>madalya_Gold</th>\n",
       "      <th>madalya_Silver</th>\n",
       "    </tr>\n",
       "  </thead>\n",
       "  <tbody>\n",
       "    <tr>\n",
       "      <th>1</th>\n",
       "      <td>M</td>\n",
       "      <td>9524.0</td>\n",
       "      <td>9625.0</td>\n",
       "      <td>9381.0</td>\n",
       "    </tr>\n",
       "    <tr>\n",
       "      <th>0</th>\n",
       "      <td>F</td>\n",
       "      <td>3771.0</td>\n",
       "      <td>3747.0</td>\n",
       "      <td>3735.0</td>\n",
       "    </tr>\n",
       "  </tbody>\n",
       "</table>\n",
       "</div>"
      ],
      "text/plain": [
       "  cinsiyet  madalya_Bronze  madalya_Gold  madalya_Silver\n",
       "1        M          9524.0        9625.0          9381.0\n",
       "0        F          3771.0        3747.0          3735.0"
      ]
     },
     "execution_count": 31,
     "metadata": {},
     "output_type": "execute_result"
    }
   ],
   "source": [
    "veri_gecici.loc[:,[\"cinsiyet\",\"madalya_Bronze\", \"madalya_Gold\", \"madalya_Silver\"]].groupby([\"cinsiyet\"],as_index= False).sum().sort_values(by=\"madalya_Gold\",ascending = False)[:10]"
   ]
  },
  {
   "cell_type": "markdown",
   "id": "fc99e35a",
   "metadata": {},
   "source": [
    "# ÇOK DEĞİŞKENLİ VERİ ANALİZİ"
   ]
  },
  {
   "cell_type": "markdown",
   "id": "35b5c348",
   "metadata": {},
   "source": [
    "# Pivot Tablosu"
   ]
  },
  {
   "cell_type": "code",
   "execution_count": 32,
   "id": "8416abba",
   "metadata": {},
   "outputs": [
    {
     "data": {
      "text/html": [
       "<div>\n",
       "<style scoped>\n",
       "    .dataframe tbody tr th:only-of-type {\n",
       "        vertical-align: middle;\n",
       "    }\n",
       "\n",
       "    .dataframe tbody tr th {\n",
       "        vertical-align: top;\n",
       "    }\n",
       "\n",
       "    .dataframe thead tr th {\n",
       "        text-align: left;\n",
       "    }\n",
       "\n",
       "    .dataframe thead tr:last-of-type th {\n",
       "        text-align: right;\n",
       "    }\n",
       "</style>\n",
       "<table border=\"1\" class=\"dataframe\">\n",
       "  <thead>\n",
       "    <tr>\n",
       "      <th></th>\n",
       "      <th colspan=\"2\" halign=\"left\">boy</th>\n",
       "      <th colspan=\"2\" halign=\"left\">kilo</th>\n",
       "      <th colspan=\"6\" halign=\"left\">yas</th>\n",
       "    </tr>\n",
       "    <tr>\n",
       "      <th></th>\n",
       "      <th colspan=\"2\" halign=\"left\">mean</th>\n",
       "      <th colspan=\"2\" halign=\"left\">mean</th>\n",
       "      <th colspan=\"2\" halign=\"left\">max</th>\n",
       "      <th colspan=\"2\" halign=\"left\">min</th>\n",
       "      <th colspan=\"2\" halign=\"left\">std</th>\n",
       "    </tr>\n",
       "    <tr>\n",
       "      <th>cinsiyet</th>\n",
       "      <th>F</th>\n",
       "      <th>M</th>\n",
       "      <th>F</th>\n",
       "      <th>M</th>\n",
       "      <th>F</th>\n",
       "      <th>M</th>\n",
       "      <th>F</th>\n",
       "      <th>M</th>\n",
       "      <th>F</th>\n",
       "      <th>M</th>\n",
       "    </tr>\n",
       "    <tr>\n",
       "      <th>madalya</th>\n",
       "      <th></th>\n",
       "      <th></th>\n",
       "      <th></th>\n",
       "      <th></th>\n",
       "      <th></th>\n",
       "      <th></th>\n",
       "      <th></th>\n",
       "      <th></th>\n",
       "      <th></th>\n",
       "      <th></th>\n",
       "    </tr>\n",
       "  </thead>\n",
       "  <tbody>\n",
       "    <tr>\n",
       "      <th>Bronze</th>\n",
       "      <td>170.003227</td>\n",
       "      <td>180.045806</td>\n",
       "      <td>62.757125</td>\n",
       "      <td>77.841504</td>\n",
       "      <td>69.0</td>\n",
       "      <td>72.0</td>\n",
       "      <td>12.0</td>\n",
       "      <td>10.0</td>\n",
       "      <td>5.329229</td>\n",
       "      <td>5.870340</td>\n",
       "    </tr>\n",
       "    <tr>\n",
       "      <th>Gold</th>\n",
       "      <td>170.448727</td>\n",
       "      <td>180.318906</td>\n",
       "      <td>63.199349</td>\n",
       "      <td>78.186505</td>\n",
       "      <td>63.0</td>\n",
       "      <td>64.0</td>\n",
       "      <td>13.0</td>\n",
       "      <td>13.0</td>\n",
       "      <td>5.219615</td>\n",
       "      <td>5.987807</td>\n",
       "    </tr>\n",
       "    <tr>\n",
       "      <th>Silver</th>\n",
       "      <td>170.233783</td>\n",
       "      <td>180.053626</td>\n",
       "      <td>62.866892</td>\n",
       "      <td>77.960887</td>\n",
       "      <td>55.0</td>\n",
       "      <td>73.0</td>\n",
       "      <td>11.0</td>\n",
       "      <td>13.0</td>\n",
       "      <td>5.253111</td>\n",
       "      <td>6.098221</td>\n",
       "    </tr>\n",
       "  </tbody>\n",
       "</table>\n",
       "</div>"
      ],
      "text/plain": [
       "                 boy                   kilo              yas              \\\n",
       "                mean                   mean              max         min   \n",
       "cinsiyet           F           M          F          M     F     M     F   \n",
       "madalya                                                                    \n",
       "Bronze    170.003227  180.045806  62.757125  77.841504  69.0  72.0  12.0   \n",
       "Gold      170.448727  180.318906  63.199349  78.186505  63.0  64.0  13.0   \n",
       "Silver    170.233783  180.053626  62.866892  77.960887  55.0  73.0  11.0   \n",
       "\n",
       "                                    \n",
       "                     std            \n",
       "cinsiyet     M         F         M  \n",
       "madalya                             \n",
       "Bronze    10.0  5.329229  5.870340  \n",
       "Gold      13.0  5.219615  5.987807  \n",
       "Silver    13.0  5.253111  6.098221  "
      ]
     },
     "execution_count": 32,
     "metadata": {},
     "output_type": "execute_result"
    }
   ],
   "source": [
    "veri_pivot = veri.pivot_table(index = \"madalya\", columns= \"cinsiyet\",\n",
    "                             values= [\"boy\", \"kilo\", \"yas\"],\n",
    "                             aggfunc={\"boy\":np.mean,\"kilo\":np.mean,\"yas\":[min, max, np.std]})\n",
    "veri_pivot.head()"
   ]
  },
  {
   "cell_type": "markdown",
   "id": "8a035a53",
   "metadata": {},
   "source": [
    "# Boxplot Grafiği Çizdirme ve Aykırı Değerler"
   ]
  },
  {
   "cell_type": "code",
   "execution_count": 33,
   "id": "0b430efb",
   "metadata": {},
   "outputs": [
    {
     "data": {
      "image/png": "[encoded data removed]",
      "text/plain": [
       "<Figure size 720x720 with 4 Axes>"
      ]
     },
     "metadata": {
      "needs_background": "light"
     },
     "output_type": "display_data"
    }
   ],
   "source": [
    "def graph(y):\n",
    "    sns.boxplot(x=\"madalya\", y=y, data=veri,\n",
    "               palette=\"Accent\")\n",
    "  \n",
    "plt.figure(figsize=(10,10))\n",
    "\n",
    "plt.subplot(221)\n",
    "graph('yas')\n",
    "\n",
    "plt.subplot(222)\n",
    "graph('boy')\n",
    "  \n",
    "plt.subplot(223)\n",
    "graph('kilo')\n",
    "  \n",
    "plt.subplot(224)\n",
    "graph('yil')\n",
    "  \n",
    "plt.show()"
   ]
  },
  {
   "cell_type": "code",
   "execution_count": 39,
   "id": "c1a8e315",
   "metadata": {},
   "outputs": [],
   "source": [
    "# Outlier Threshold'ların belirlenmesi:\n",
    "def outlier_thresholds(dataframe, col_name, q1=0.05, q3=0.95):\n",
    "    q1 = dataframe[col_name].quantile(q1)  # 1.Çeyrek\n",
    "    q3 = dataframe[col_name].quantile(q3)  # 3.Çeyrek\n",
    "    interquantile_range = q3 - q1  # range'i hesaplayalım\n",
    "    low_limit = q1 - 1.5 * interquantile_range # low & up limit:\n",
    "    up_limit = q3 + 1.5 * interquantile_range\n",
    "    return low_limit, up_limit"
   ]
  },
  {
   "cell_type": "code",
   "execution_count": 40,
   "id": "5a2bc1ab",
   "metadata": {},
   "outputs": [
    {
     "data": {
      "text/plain": [
       "(-9.0, 63.0)"
      ]
     },
     "execution_count": 40,
     "metadata": {},
     "output_type": "execute_result"
    }
   ],
   "source": [
    "outlier_thresholds(veri, \"yas\")"
   ]
  },
  {
   "cell_type": "code",
   "execution_count": 36,
   "id": "388d3855",
   "metadata": {},
   "outputs": [
    {
     "data": {
      "text/plain": [
       "(-14.5, 165.5)"
      ]
     },
     "execution_count": 36,
     "metadata": {},
     "output_type": "execute_result"
    }
   ],
   "source": [
    "outlier_thresholds(veri, \"kilo\")"
   ]
  },
  {
   "cell_type": "code",
   "execution_count": 44,
   "id": "9b4bc265",
   "metadata": {},
   "outputs": [],
   "source": [
    "# Outlier Değer Var mı Yok Mu:\n",
    "def check_outlier(dataframe, col_name):\n",
    "    low_limit, up_limit = outlier_thresholds(dataframe, col_name)\n",
    "    if dataframe[(dataframe[col_name] > up_limit) | (dataframe[col_name] < low_limit)].any(axis=None):\n",
    "        return True\n",
    "    else:\n",
    "        return False"
   ]
  },
  {
   "cell_type": "code",
   "execution_count": 42,
   "id": "ef670208",
   "metadata": {},
   "outputs": [
    {
     "data": {
      "text/plain": [
       "True"
      ]
     },
     "execution_count": 42,
     "metadata": {},
     "output_type": "execute_result"
    }
   ],
   "source": [
    "check_outlier(veri,\"yas\")"
   ]
  },
  {
   "cell_type": "code",
   "execution_count": 43,
   "id": "df6375db",
   "metadata": {},
   "outputs": [
    {
     "data": {
      "text/plain": [
       "True"
      ]
     },
     "execution_count": 43,
     "metadata": {},
     "output_type": "execute_result"
    }
   ],
   "source": [
    "check_outlier(veri,\"kilo\")"
   ]
  },
  {
   "cell_type": "code",
   "execution_count": 45,
   "id": "99e7094f",
   "metadata": {},
   "outputs": [],
   "source": [
    "# Outlier Değerlere Erişmek:\n",
    "def grab_outliers(dataframe, col_name, index=False):\n",
    "    low_limit, up_limit = outlier_thresholds(dataframe, col_name)\n",
    "    if dataframe[(dataframe[col_name] < low_limit) | (dataframe[col_name] > up_limit)].shape[0] > 10:\n",
    "        print(dataframe[(dataframe[col_name] < low_limit) | (dataframe[col_name] > up_limit)].head())\n",
    "    else:\n",
    "        print(dataframe[(dataframe[col_name] < low_limit) | (dataframe[col_name] > up_limit)])\n",
    "    if index:\n",
    "        outlier_index = dataframe[(dataframe[col_name] < low_limit) | (dataframe[col_name] > up_limit)].index\n",
    "        return outlier_index"
   ]
  },
  {
   "cell_type": "code",
   "execution_count": 46,
   "id": "313fdfbd",
   "metadata": {},
   "outputs": [
    {
     "name": "stdout",
     "output_type": "stream",
     "text": [
      "                                                 isim cinsiyet   yas     boy  \\\n",
      "44584   John (Herbert Crawford-) Copley (Williamson-)        M  73.0  175.34   \n",
      "60009                                      Jozu Dupon        M  72.0  175.34   \n",
      "60403                           Samuel Harding Duvall        M  68.0  169.33   \n",
      "89338                         Letitia Marion Hamilton        F  69.0  174.00   \n",
      "105199                                Charles Jacobus        M  64.0  175.34   \n",
      "\n",
      "        kilo               takim  uok   yil   sezon      sehir  \\\n",
      "44584   70.7       Great Britain  GBR  1948  Summer     London   \n",
      "60009   70.7             Belgium  BEL  1936  Summer     Berlin   \n",
      "60403   70.7  Cincinnati Archers  USA  1904  Summer  St. Louis   \n",
      "89338   80.0             Ireland  IRL  1948  Summer     London   \n",
      "105199  70.7       United States  USA  1904  Summer  St. Louis   \n",
      "\n",
      "                    spor                                       etkinlik  \\\n",
      "44584   Art Competitions  Art Competitions Mixed Painting, Graphic Arts   \n",
      "60009   Art Competitions     Art Competitions Mixed Sculpturing, Medals   \n",
      "60403            Archery                       Archery Men's Team Round   \n",
      "89338   Art Competitions     Art Competitions Mixed Painting, Paintings   \n",
      "105199             Roque                            Roque Men's Singles   \n",
      "\n",
      "       madalya  \n",
      "44584   Silver  \n",
      "60009   Bronze  \n",
      "60403   Silver  \n",
      "89338   Bronze  \n",
      "105199    Gold  \n"
     ]
    }
   ],
   "source": [
    "grab_outliers(veri, \"yas\")"
   ]
  },
  {
   "cell_type": "code",
   "execution_count": 47,
   "id": "043d99f5",
   "metadata": {},
   "outputs": [
    {
     "name": "stdout",
     "output_type": "stream",
     "text": [
      "                                 isim cinsiyet   yas    boy   kilo  \\\n",
      "39181      Andrey Ivanovich Chemerkin        M  24.0  183.0  170.0   \n",
      "39182      Andrey Ivanovich Chemerkin        M  28.0  183.0  170.0   \n",
      "124420         Olha Vasylivna Korobka        F  22.0  181.0  167.0   \n",
      "173166         Dmitry Yuryevich Nosov        M  24.0  176.0  175.0   \n",
      "237040  Christopher J. \"Chris\" Taylor        M  22.0  196.0  182.0   \n",
      "\n",
      "                takim  uok   yil   sezon    sehir           spor  \\\n",
      "39181          Russia  RUS  1996  Summer  Atlanta  Weightlifting   \n",
      "39182          Russia  RUS  2000  Summer   Sydney  Weightlifting   \n",
      "124420        Ukraine  UKR  2008  Summer  Beijing  Weightlifting   \n",
      "173166         Russia  RUS  2004  Summer   Athina           Judo   \n",
      "237040  United States  USA  1972  Summer   Munich      Wrestling   \n",
      "\n",
      "                                            etkinlik madalya  \n",
      "39181          Weightlifting Men's Super-Heavyweight    Gold  \n",
      "39182          Weightlifting Men's Super-Heavyweight  Bronze  \n",
      "124420       Weightlifting Women's Super-Heavyweight  Silver  \n",
      "173166                  Judo Men's Half-Middleweight  Bronze  \n",
      "237040  Wrestling Men's Super-Heavyweight, Freestyle  Bronze  \n"
     ]
    }
   ],
   "source": [
    "grab_outliers(veri, \"kilo\")"
   ]
  },
  {
   "cell_type": "markdown",
   "id": "cfc09cff",
   "metadata": {},
   "source": [
    "# Outlier Değer Problemini Çözme"
   ]
  },
  {
   "cell_type": "code",
   "execution_count": 48,
   "id": "da92b8a0",
   "metadata": {},
   "outputs": [],
   "source": [
    "# Silme ile remove_outlierçözümleme:\n",
    "def remove_outlier (dataframe, col_name, q1=0.05, q3=0.95):\n",
    "    low_limit, up_limit = outlier_thresholds(dataframe, col_name, q1, q3)\n",
    "    df_without_outliers = dataframe[~((dataframe[col_name] < low_limit) | (dataframe[col_name] > up_limit))]\n",
    "    return df_without_outliers"
   ]
  },
  {
   "cell_type": "code",
   "execution_count": 49,
   "id": "7385ebf3",
   "metadata": {},
   "outputs": [
    {
     "data": {
      "text/html": [
       "<div>\n",
       "<style scoped>\n",
       "    .dataframe tbody tr th:only-of-type {\n",
       "        vertical-align: middle;\n",
       "    }\n",
       "\n",
       "    .dataframe tbody tr th {\n",
       "        vertical-align: top;\n",
       "    }\n",
       "\n",
       "    .dataframe thead th {\n",
       "        text-align: right;\n",
       "    }\n",
       "</style>\n",
       "<table border=\"1\" class=\"dataframe\">\n",
       "  <thead>\n",
       "    <tr style=\"text-align: right;\">\n",
       "      <th></th>\n",
       "      <th>isim</th>\n",
       "      <th>cinsiyet</th>\n",
       "      <th>yas</th>\n",
       "      <th>boy</th>\n",
       "      <th>kilo</th>\n",
       "      <th>takim</th>\n",
       "      <th>uok</th>\n",
       "      <th>yil</th>\n",
       "      <th>sezon</th>\n",
       "      <th>sehir</th>\n",
       "      <th>spor</th>\n",
       "      <th>etkinlik</th>\n",
       "      <th>madalya</th>\n",
       "    </tr>\n",
       "  </thead>\n",
       "  <tbody>\n",
       "    <tr>\n",
       "      <th>3</th>\n",
       "      <td>Edgar Lindenau Aabye</td>\n",
       "      <td>M</td>\n",
       "      <td>34.0</td>\n",
       "      <td>182.48</td>\n",
       "      <td>95.62</td>\n",
       "      <td>Denmark/Sweden</td>\n",
       "      <td>DEN</td>\n",
       "      <td>1900</td>\n",
       "      <td>Summer</td>\n",
       "      <td>Paris</td>\n",
       "      <td>Tug-Of-War</td>\n",
       "      <td>Tug-Of-War Men's Tug-Of-War</td>\n",
       "      <td>Gold</td>\n",
       "    </tr>\n",
       "    <tr>\n",
       "      <th>37</th>\n",
       "      <td>Arvo Ossian Aaltonen</td>\n",
       "      <td>M</td>\n",
       "      <td>30.0</td>\n",
       "      <td>182.01</td>\n",
       "      <td>76.69</td>\n",
       "      <td>Finland</td>\n",
       "      <td>FIN</td>\n",
       "      <td>1920</td>\n",
       "      <td>Summer</td>\n",
       "      <td>Antwerpen</td>\n",
       "      <td>Swimming</td>\n",
       "      <td>Swimming Men's 200 metres Breaststroke</td>\n",
       "      <td>Bronze</td>\n",
       "    </tr>\n",
       "    <tr>\n",
       "      <th>38</th>\n",
       "      <td>Arvo Ossian Aaltonen</td>\n",
       "      <td>M</td>\n",
       "      <td>30.0</td>\n",
       "      <td>177.00</td>\n",
       "      <td>75.00</td>\n",
       "      <td>Finland</td>\n",
       "      <td>FIN</td>\n",
       "      <td>1920</td>\n",
       "      <td>Summer</td>\n",
       "      <td>Antwerpen</td>\n",
       "      <td>Swimming</td>\n",
       "      <td>Swimming Men's 400 metres Breaststroke</td>\n",
       "      <td>Bronze</td>\n",
       "    </tr>\n",
       "    <tr>\n",
       "      <th>40</th>\n",
       "      <td>Juhamatti Tapio Aaltonen</td>\n",
       "      <td>M</td>\n",
       "      <td>28.0</td>\n",
       "      <td>184.00</td>\n",
       "      <td>85.00</td>\n",
       "      <td>Finland</td>\n",
       "      <td>FIN</td>\n",
       "      <td>2014</td>\n",
       "      <td>Winter</td>\n",
       "      <td>Sochi</td>\n",
       "      <td>Ice Hockey</td>\n",
       "      <td>Ice Hockey Men's Ice Hockey</td>\n",
       "      <td>Bronze</td>\n",
       "    </tr>\n",
       "    <tr>\n",
       "      <th>41</th>\n",
       "      <td>Paavo Johannes Aaltonen</td>\n",
       "      <td>M</td>\n",
       "      <td>28.0</td>\n",
       "      <td>175.00</td>\n",
       "      <td>64.00</td>\n",
       "      <td>Finland</td>\n",
       "      <td>FIN</td>\n",
       "      <td>1948</td>\n",
       "      <td>Summer</td>\n",
       "      <td>London</td>\n",
       "      <td>Gymnastics</td>\n",
       "      <td>Gymnastics Men's Individual All-Around</td>\n",
       "      <td>Bronze</td>\n",
       "    </tr>\n",
       "    <tr>\n",
       "      <th>...</th>\n",
       "      <td>...</td>\n",
       "      <td>...</td>\n",
       "      <td>...</td>\n",
       "      <td>...</td>\n",
       "      <td>...</td>\n",
       "      <td>...</td>\n",
       "      <td>...</td>\n",
       "      <td>...</td>\n",
       "      <td>...</td>\n",
       "      <td>...</td>\n",
       "      <td>...</td>\n",
       "      <td>...</td>\n",
       "      <td>...</td>\n",
       "    </tr>\n",
       "    <tr>\n",
       "      <th>271078</th>\n",
       "      <td>Galina Ivanovna Zybina (-Fyodorova)</td>\n",
       "      <td>F</td>\n",
       "      <td>25.0</td>\n",
       "      <td>168.00</td>\n",
       "      <td>80.00</td>\n",
       "      <td>Soviet Union</td>\n",
       "      <td>URS</td>\n",
       "      <td>1956</td>\n",
       "      <td>Summer</td>\n",
       "      <td>Melbourne</td>\n",
       "      <td>Athletics</td>\n",
       "      <td>Athletics Women's Shot Put</td>\n",
       "      <td>Silver</td>\n",
       "    </tr>\n",
       "    <tr>\n",
       "      <th>271080</th>\n",
       "      <td>Galina Ivanovna Zybina (-Fyodorova)</td>\n",
       "      <td>F</td>\n",
       "      <td>33.0</td>\n",
       "      <td>168.00</td>\n",
       "      <td>80.00</td>\n",
       "      <td>Soviet Union</td>\n",
       "      <td>URS</td>\n",
       "      <td>1964</td>\n",
       "      <td>Summer</td>\n",
       "      <td>Tokyo</td>\n",
       "      <td>Athletics</td>\n",
       "      <td>Athletics Women's Shot Put</td>\n",
       "      <td>Bronze</td>\n",
       "    </tr>\n",
       "    <tr>\n",
       "      <th>271082</th>\n",
       "      <td>Bogusaw Zych</td>\n",
       "      <td>M</td>\n",
       "      <td>28.0</td>\n",
       "      <td>182.00</td>\n",
       "      <td>82.00</td>\n",
       "      <td>Poland</td>\n",
       "      <td>POL</td>\n",
       "      <td>1980</td>\n",
       "      <td>Summer</td>\n",
       "      <td>Moskva</td>\n",
       "      <td>Fencing</td>\n",
       "      <td>Fencing Men's Foil, Team</td>\n",
       "      <td>Bronze</td>\n",
       "    </tr>\n",
       "    <tr>\n",
       "      <th>271102</th>\n",
       "      <td>Olesya Nikolayevna Zykina</td>\n",
       "      <td>F</td>\n",
       "      <td>19.0</td>\n",
       "      <td>171.00</td>\n",
       "      <td>64.00</td>\n",
       "      <td>Russia</td>\n",
       "      <td>RUS</td>\n",
       "      <td>2000</td>\n",
       "      <td>Summer</td>\n",
       "      <td>Sydney</td>\n",
       "      <td>Athletics</td>\n",
       "      <td>Athletics Women's 4 x 400 metres Relay</td>\n",
       "      <td>Bronze</td>\n",
       "    </tr>\n",
       "    <tr>\n",
       "      <th>271103</th>\n",
       "      <td>Olesya Nikolayevna Zykina</td>\n",
       "      <td>F</td>\n",
       "      <td>23.0</td>\n",
       "      <td>171.00</td>\n",
       "      <td>64.00</td>\n",
       "      <td>Russia</td>\n",
       "      <td>RUS</td>\n",
       "      <td>2004</td>\n",
       "      <td>Summer</td>\n",
       "      <td>Athina</td>\n",
       "      <td>Athletics</td>\n",
       "      <td>Athletics Women's 4 x 400 metres Relay</td>\n",
       "      <td>Silver</td>\n",
       "    </tr>\n",
       "  </tbody>\n",
       "</table>\n",
       "<p>39768 rows × 13 columns</p>\n",
       "</div>"
      ],
      "text/plain": [
       "                                       isim cinsiyet   yas     boy   kilo  \\\n",
       "3                      Edgar Lindenau Aabye        M  34.0  182.48  95.62   \n",
       "37                     Arvo Ossian Aaltonen        M  30.0  182.01  76.69   \n",
       "38                     Arvo Ossian Aaltonen        M  30.0  177.00  75.00   \n",
       "40                 Juhamatti Tapio Aaltonen        M  28.0  184.00  85.00   \n",
       "41                  Paavo Johannes Aaltonen        M  28.0  175.00  64.00   \n",
       "...                                     ...      ...   ...     ...    ...   \n",
       "271078  Galina Ivanovna Zybina (-Fyodorova)        F  25.0  168.00  80.00   \n",
       "271080  Galina Ivanovna Zybina (-Fyodorova)        F  33.0  168.00  80.00   \n",
       "271082                         Bogusaw Zych        M  28.0  182.00  82.00   \n",
       "271102            Olesya Nikolayevna Zykina        F  19.0  171.00  64.00   \n",
       "271103            Olesya Nikolayevna Zykina        F  23.0  171.00  64.00   \n",
       "\n",
       "                 takim  uok   yil   sezon      sehir        spor  \\\n",
       "3       Denmark/Sweden  DEN  1900  Summer      Paris  Tug-Of-War   \n",
       "37             Finland  FIN  1920  Summer  Antwerpen    Swimming   \n",
       "38             Finland  FIN  1920  Summer  Antwerpen    Swimming   \n",
       "40             Finland  FIN  2014  Winter      Sochi  Ice Hockey   \n",
       "41             Finland  FIN  1948  Summer     London  Gymnastics   \n",
       "...                ...  ...   ...     ...        ...         ...   \n",
       "271078    Soviet Union  URS  1956  Summer  Melbourne   Athletics   \n",
       "271080    Soviet Union  URS  1964  Summer      Tokyo   Athletics   \n",
       "271082          Poland  POL  1980  Summer     Moskva     Fencing   \n",
       "271102          Russia  RUS  2000  Summer     Sydney   Athletics   \n",
       "271103          Russia  RUS  2004  Summer     Athina   Athletics   \n",
       "\n",
       "                                      etkinlik madalya  \n",
       "3                  Tug-Of-War Men's Tug-Of-War    Gold  \n",
       "37      Swimming Men's 200 metres Breaststroke  Bronze  \n",
       "38      Swimming Men's 400 metres Breaststroke  Bronze  \n",
       "40                 Ice Hockey Men's Ice Hockey  Bronze  \n",
       "41      Gymnastics Men's Individual All-Around  Bronze  \n",
       "...                                        ...     ...  \n",
       "271078              Athletics Women's Shot Put  Silver  \n",
       "271080              Athletics Women's Shot Put  Bronze  \n",
       "271082                Fencing Men's Foil, Team  Bronze  \n",
       "271102  Athletics Women's 4 x 400 metres Relay  Bronze  \n",
       "271103  Athletics Women's 4 x 400 metres Relay  Silver  \n",
       "\n",
       "[39768 rows x 13 columns]"
      ]
     },
     "execution_count": 49,
     "metadata": {},
     "output_type": "execute_result"
    }
   ],
   "source": [
    "remove_outlier(veri, \"yas\")"
   ]
  },
  {
   "cell_type": "code",
   "execution_count": 50,
   "id": "2ad87e90",
   "metadata": {},
   "outputs": [],
   "source": [
    "def replace_with_thresholds(dataframe, variable, q1=0.01, q3=0.95):\n",
    "    low_limit, up_limit = outlier_thresholds(dataframe, variable, q1, q3)\n",
    "    dataframe.loc[(dataframe[variable] > up_limit), variable] = up_limit\n",
    "    dataframe.loc[(dataframe[variable] < low_limit), variable] = low_limit\n"
   ]
  },
  {
   "cell_type": "code",
   "execution_count": 51,
   "id": "cdddaba4",
   "metadata": {},
   "outputs": [],
   "source": [
    "replace_with_thresholds(veri, \"kilo\", q1=0.01, q3=0.95)"
   ]
  },
  {
   "cell_type": "markdown",
   "id": "ab7e6fe3",
   "metadata": {},
   "source": [
    "# Zaman Serilerinde Veri Analizi"
   ]
  },
  {
   "cell_type": "code",
   "execution_count": null,
   "id": "79f3a1b6",
   "metadata": {},
   "outputs": [],
   "source": [
    "veri_zaman= veri.copy()\n",
    "veri_zaman.head(3)"
   ]
  },
  {
   "cell_type": "code",
   "execution_count": null,
   "id": "dcaa0436",
   "metadata": {},
   "outputs": [],
   "source": [
    "essiz_yillar = veri_zaman.yil.unique()\n",
    "essiz_yillar"
   ]
  },
  {
   "cell_type": "code",
   "execution_count": null,
   "id": "8e6b102a",
   "metadata": {},
   "outputs": [],
   "source": [
    "#olimpiyatların yapıldığı yılları sıralayalım\n",
    "dizili_array = np.sort(veri_zaman.yil.unique())\n",
    "dizili_array"
   ]
  },
  {
   "cell_type": "code",
   "execution_count": null,
   "id": "a623472d",
   "metadata": {},
   "outputs": [],
   "source": [
    "plt.figure()\n",
    "plt.scatter(range(len(dizili_array)),dizili_array)\n",
    "plt.grid(True)\n",
    "plt.ylabel(\"Yıllar\")\n",
    "plt.title(\"Olimpiyatlar çift yıllarda düzenlenir\")\n",
    "plt.show()\n"
   ]
  },
  {
   "cell_type": "code",
   "execution_count": null,
   "id": "47383112",
   "metadata": {},
   "outputs": [],
   "source": [
    "#veri içerisinde bulunan yıl değerlerini datatime veri tipine dönüştürelim\n",
    "tarih_saat_nesnesi = pd.to_datetime(veri_zaman[\"yil\"], format = '%Y')\n",
    "print(type(tarih_saat_nesnesi))\n",
    "tarih_saat_nesnesi.head(3)"
   ]
  },
  {
   "cell_type": "code",
   "execution_count": null,
   "id": "1e30aeb7",
   "metadata": {},
   "outputs": [],
   "source": [
    "veri_zaman[\"tarih_saat\"] = tarih_saat_nesnesi\n",
    "veri_zaman.head(3)"
   ]
  },
  {
   "cell_type": "code",
   "execution_count": null,
   "id": "02362c45",
   "metadata": {},
   "outputs": [],
   "source": [
    "#veri_zaman değişiminin ana indeksini, datetime tipi olan tarih_saaat değerine güncelleyelim\n",
    "veri_zaman = veri_zaman.set_index(\"tarih_saat\")\n",
    "veri_zaman.drop([\"yil\"], axis=1, inplace = True)\n",
    "veri_zaman"
   ]
  },
  {
   "cell_type": "markdown",
   "id": "ebe50111",
   "metadata": {},
   "source": [
    "# Yıllara Göre Ortalama Yaş, Boy ve Kilo Değişimi"
   ]
  },
  {
   "cell_type": "code",
   "execution_count": null,
   "id": "b95eb775",
   "metadata": {},
   "outputs": [],
   "source": [
    "periyodik_veri =veri_zaman.resample(\"2A\").mean() #2 uıllık periyotlar halınde\n",
    "periyodik_veri.head()"
   ]
  },
  {
   "cell_type": "code",
   "execution_count": null,
   "id": "a7a8748d",
   "metadata": {},
   "outputs": [],
   "source": [
    "#kayıp verileri çıkartalım\n",
    "periyodik_veri.dropna(axis=0,inplace = True)\n",
    "periyodik_veri.head()"
   ]
  },
  {
   "cell_type": "code",
   "execution_count": null,
   "id": "564a563b",
   "metadata": {},
   "outputs": [],
   "source": [
    "plt.figure()\n",
    "periyodik_veri.plot()\n",
    "plt.title(\"Yıllra göre ortalama yaş, boy ve ağırlık değişimi\")\n",
    "plt.xlabel(\"Yıl\")\n",
    "plt.grid(True)\n",
    "plt.show()"
   ]
  },
  {
   "cell_type": "markdown",
   "id": "6532ad71",
   "metadata": {},
   "source": [
    "# Yıllara Göre Madalya Sayıları"
   ]
  },
  {
   "cell_type": "code",
   "execution_count": null,
   "id": "b50e8691",
   "metadata": {},
   "outputs": [],
   "source": [
    "veri_zaman = pd.get_dummies(veri_zaman, columns=['madalya'])\n",
    "veri_zaman.head(3)"
   ]
  },
  {
   "cell_type": "code",
   "execution_count": null,
   "id": "a49669bf",
   "metadata": {},
   "outputs": [],
   "source": [
    "periyodik_veri = veri_zaman.resample(\"2A\").sum()\n",
    "periyodik_veri.head()\n",
    "#kayıp verileri çıkaralım\n",
    "periyodik_veri = periyodik_veri[~(periyodik_veri ==0).any(axis=1)]\n",
    "periyodik_veri.tail()"
   ]
  },
  {
   "cell_type": "code",
   "execution_count": null,
   "id": "099a9d96",
   "metadata": {},
   "outputs": [],
   "source": [
    "plt.figure()\n",
    "periyodik_veri.loc[:,[\"madalya_Bronze\", \"madalya_Gold\", \"madalya_Silver\"]].plot()\n",
    "plt.title(\"Yıllara göre madalya sayıları\")\n",
    "plt.ylabel(\"Sayı\")\n",
    "plt.xlabel(\"Yıl\")\n",
    "plt.grid(True)\n",
    "plt.show()"
   ]
  },
  {
   "cell_type": "markdown",
   "id": "ae625021",
   "metadata": {},
   "source": [
    "# Sezonlara Göre Madalya Sayıları"
   ]
  },
  {
   "cell_type": "code",
   "execution_count": null,
   "id": "1d20f7f9",
   "metadata": {},
   "outputs": [],
   "source": [
    "yaz = veri_zaman[veri_zaman.sezon == \"Summer\"]\n",
    "kis = veri_zaman[veri_zaman.sezon == \"Winter\"]\n",
    "kis.head(3)"
   ]
  },
  {
   "cell_type": "code",
   "execution_count": null,
   "id": "acbd9247",
   "metadata": {},
   "outputs": [],
   "source": [
    "periyodik_veri_kis = kis.resample(\"A\").sum()\n",
    "periyodik_veri_kis = periyodik_veri_kis[~(periyodik_veri_kis == 0).any(axis=1)]\n",
    "periyodik_veri_kis.head()"
   ]
  },
  {
   "cell_type": "code",
   "execution_count": null,
   "id": "47d06038",
   "metadata": {},
   "outputs": [],
   "source": [
    "periyodik_veri_yaz = kis.resample(\"A\").sum()\n",
    "periyodik_veri_yaz = periyodik_veri_yaz[~(periyodik_veri_yaz == 0).any(axis=1)]\n",
    "periyodik_veri_yaz.head()"
   ]
  },
  {
   "cell_type": "code",
   "execution_count": null,
   "id": "6643e3c1",
   "metadata": {},
   "outputs": [],
   "source": [
    "plt.figure()\n",
    "periyodik_veri_yaz.loc[:,[\"madalya_Bronze\", \"madalya_Gold\", \"madalya_Silver\"]].plot()\n",
    "plt.title(\"Yıllara göre madalya sayıları - Yaz Sezonu\")\n",
    "plt.ylabel(\"Sayı\")\n",
    "plt.xlabel(\"Yıl\")\n",
    "plt.grid(True)\n",
    "plt.show()\n",
    "\n",
    "\n",
    "plt.figure()\n",
    "periyodik_veri_kis.loc[:,[\"madalya_Bronze\", \"madalya_Gold\", \"madalya_Silver\"]].plot()\n",
    "plt.title(\"Yıllara göre madalya sayıları - Kış Sezonu\")\n",
    "plt.ylabel(\"Sayı\")\n",
    "plt.xlabel(\"Yıl\")\n",
    "plt.grid(True)\n",
    "plt.show()"
   ]
  },
  {
   "cell_type": "code",
   "execution_count": null,
   "id": "4fbffaa7",
   "metadata": {},
   "outputs": [],
   "source": []
  }
 ],
 "metadata": {
  "kernelspec": {
   "display_name": "Python 3 (ipykernel)",
   "language": "python",
   "name": "python3"
  },
  "language_info": {
   "codemirror_mode": {
    "name": "ipython",
    "version": 3
   },
   "file_extension": ".py",
   "mimetype": "text/x-python",
   "name": "python",
   "nbconvert_exporter": "python",
   "pygments_lexer": "ipython3",
   "version": "3.9.12"
  }
 },
 "nbformat": 4,
 "nbformat_minor": 5
}
